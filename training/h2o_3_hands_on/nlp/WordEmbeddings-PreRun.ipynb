{
 "cells": [
  {
   "cell_type": "markdown",
   "metadata": {},
   "source": [
    "## Predicting Good Amazon Reviews\n",
    "\n",
    "For this demo, we will be using the [Amazon Fine Food Reviews Data](https://www.kaggle.com/snap/amazon-fine-food-reviews).  The Amazon Fine Food Reviews dataset consists of 568,454 food reviews Amazon users left up to October 2012.\n",
    "\n",
    "This script is based off of the [Craigslist Word2Vec Demo](https://github.com/h2oai/h2o-3/blob/master/h2o-py/demos/word2vec_craigslistjobtitles.ipynb).\n",
    "\n",
    "Our Machine Learning Workflow is: \n",
    "\n",
    "1. Import data into H2O\n",
    "2. Exploratory Analysis\n",
    "3. Tokenize Text\n",
    "4. Train Word2Vec Model\n",
    "5. Analyze Word Embeddings\n",
    "6. Train Positive Review Model with Original Data\n",
    "7. Train Positive Review Model with Word Embeddings\n",
    "8. Run AutoML\n",
    "9. View AutoML in Flow\n",
    "10. Shutdown H2O cluster\n",
    "\n",
    "# Step 1 (of 10).  Import data into H2O\n",
    "\n",
    "We will begin by importing our review data into our H2O cluster."
   ]
  },
  {
   "cell_type": "code",
   "execution_count": 1,
   "metadata": {},
   "outputs": [],
   "source": [
    "import h2o"
   ]
  },
  {
   "cell_type": "code",
   "execution_count": 2,
   "metadata": {},
   "outputs": [
    {
     "name": "stdout",
     "output_type": "stream",
     "text": [
      "Checking whether there is an H2O instance running at http://localhost:54321..... not found.\n",
      "Attempting to start a local H2O server...\n",
      "  Java Version: java version \"1.8.0_201\"; Java(TM) SE Runtime Environment (build 1.8.0_201-b09); Java HotSpot(TM) 64-Bit Server VM (build 25.201-b09, mixed mode)\n",
      "  Starting server from /home/h2o/Miniconda3/envs/h2o/lib/python3.6/site-packages/h2o/backend/bin/h2o.jar\n",
      "  Ice root: /tmp/tmpcbipx9pa\n",
      "  JVM stdout: /tmp/tmpcbipx9pa/h2o_unknownUser_started_from_python.out\n",
      "  JVM stderr: /tmp/tmpcbipx9pa/h2o_unknownUser_started_from_python.err\n",
      "  Server is running at http://127.0.0.1:54321\n",
      "Connecting to H2O server at http://127.0.0.1:54321... successful.\n"
     ]
    },
    {
     "data": {
      "text/html": [
       "<div style=\"overflow:auto\"><table style=\"width:50%\"><tr><td>H2O cluster uptime:</td>\n",
       "<td>01 secs</td></tr>\n",
       "<tr><td>H2O cluster timezone:</td>\n",
       "<td>Etc/UTC</td></tr>\n",
       "<tr><td>H2O data parsing timezone:</td>\n",
       "<td>UTC</td></tr>\n",
       "<tr><td>H2O cluster version:</td>\n",
       "<td>3.22.0.2</td></tr>\n",
       "<tr><td>H2O cluster version age:</td>\n",
       "<td>2 months and 9 days </td></tr>\n",
       "<tr><td>H2O cluster name:</td>\n",
       "<td>H2O_from_python_unknownUser_hj8zvc</td></tr>\n",
       "<tr><td>H2O cluster total nodes:</td>\n",
       "<td>1</td></tr>\n",
       "<tr><td>H2O cluster free memory:</td>\n",
       "<td>3.556 Gb</td></tr>\n",
       "<tr><td>H2O cluster total cores:</td>\n",
       "<td>4</td></tr>\n",
       "<tr><td>H2O cluster allowed cores:</td>\n",
       "<td>4</td></tr>\n",
       "<tr><td>H2O cluster status:</td>\n",
       "<td>accepting new members, healthy</td></tr>\n",
       "<tr><td>H2O connection url:</td>\n",
       "<td>http://127.0.0.1:54321</td></tr>\n",
       "<tr><td>H2O connection proxy:</td>\n",
       "<td>None</td></tr>\n",
       "<tr><td>H2O internal security:</td>\n",
       "<td>False</td></tr>\n",
       "<tr><td>H2O API Extensions:</td>\n",
       "<td>XGBoost, Algos, AutoML, Core V3, Core V4</td></tr>\n",
       "<tr><td>Python version:</td>\n",
       "<td>3.6.7 final</td></tr></table></div>"
      ],
      "text/plain": [
       "--------------------------  ----------------------------------------\n",
       "H2O cluster uptime:         01 secs\n",
       "H2O cluster timezone:       Etc/UTC\n",
       "H2O data parsing timezone:  UTC\n",
       "H2O cluster version:        3.22.0.2\n",
       "H2O cluster version age:    2 months and 9 days\n",
       "H2O cluster name:           H2O_from_python_unknownUser_hj8zvc\n",
       "H2O cluster total nodes:    1\n",
       "H2O cluster free memory:    3.556 Gb\n",
       "H2O cluster total cores:    4\n",
       "H2O cluster allowed cores:  4\n",
       "H2O cluster status:         accepting new members, healthy\n",
       "H2O connection url:         http://127.0.0.1:54321\n",
       "H2O connection proxy:\n",
       "H2O internal security:      False\n",
       "H2O API Extensions:         XGBoost, Algos, AutoML, Core V3, Core V4\n",
       "Python version:             3.6.7 final\n",
       "--------------------------  ----------------------------------------"
      ]
     },
     "metadata": {},
     "output_type": "display_data"
    }
   ],
   "source": [
    "h2o.init(max_mem_size=\"4G\", bind_to_localhost=False)"
   ]
  },
  {
   "cell_type": "code",
   "execution_count": 3,
   "metadata": {},
   "outputs": [
    {
     "name": "stdout",
     "output_type": "stream",
     "text": [
      "Parse progress: |█████████████████████████████████████████████████████████| 100%\n"
     ]
    }
   ],
   "source": [
    "# Load data into H2O\n",
    "\n",
    "# https://s3-us-west-2.amazonaws.com/h2o-tutorials/data/topics/nlp/amazon_reviews/AmazonReviews.csv\n",
    "reviews = h2o.import_file(\"../../data/topics/nlp/amazon_reviews/AmazonReviews.csv\")"
   ]
  },
  {
   "cell_type": "markdown",
   "metadata": {},
   "source": [
    "# Step 2 (of 10).  Exploratory Analysis\n",
    "\n",
    "We will start our analysis by exploring the dataset and creating our target column.  In this case, we would like to predict whether or not a reviewer liked the product."
   ]
  },
  {
   "cell_type": "code",
   "execution_count": 4,
   "metadata": {},
   "outputs": [
    {
     "name": "stdout",
     "output_type": "stream",
     "text": [
      "[100000, 10]\n"
     ]
    }
   ],
   "source": [
    "print(reviews.dim)"
   ]
  },
  {
   "cell_type": "code",
   "execution_count": 5,
   "metadata": {},
   "outputs": [
    {
     "data": {
      "text/html": [
       "<table>\n",
       "<thead>\n",
       "<tr><th>ProductId  </th><th>UserId        </th><th>Summary                               </th><th style=\"text-align: right;\">  Score</th><th style=\"text-align: right;\">  HelpfulnessDenominator</th><th style=\"text-align: right;\">    Id</th><th>ProfileName                                     </th><th style=\"text-align: right;\">  HelpfulnessNumerator</th><th style=\"text-align: right;\">       Time</th><th>Text                                                                                                                                                                                                                                                                                                                                                                                                                                                                                                                                                                                                                                                                                                                                                                                                                                                                                                                                                                                                                                                                                                                                                                                                                                                                                                                                                                                                                                                                                                                                                                                                                                                                                                                                                                                                                                                                                                                                                                                                                                                                                                                                                                                                                                                                                                                                                                                                                                                                                                                                                                                                                                                                                                                                                                                                                                                                                                                                                                                                                                                                                                                                                                                                                                                        </th></tr>\n",
       "</thead>\n",
       "<tbody>\n",
       "<tr><td>B00141QYSQ </td><td>A1YS02UZZGRDCT</td><td>Do Not Buy                            </td><td style=\"text-align: right;\">      1</td><td style=\"text-align: right;\">                       2</td><td style=\"text-align: right;\"> 41471</td><td>Evan Eberhardt                                  </td><td style=\"text-align: right;\">                     2</td><td style=\"text-align: right;\">1.34836e+09</td><td>These are made in China (do not buy ANY pet food from China).  Dogswell has been using propylene glycol to soften their treats (what are they thinkng?).  Do not purchase or support this company in any way until they clean up their act.  And for whatever reason Amazon doesn't allow returns of this item, so I had to toss mine out.  Bad business all around on this one.                                                                                                                                                                                                                                                                                                                                                                                                                                                                                                                                                                                                                                                                                                                                                                                                                                                                                                                                                                                                                                                                                                                                                                                                                                                                                                                                                                                                                                                                                                                                                                                                                                                                                                                                                                                                                                                                                                                                                                                                                                                                                                                                                                                                                                                                                                                                                                                                                                                                                                                                                                                                                                                                                                                                                                                                                                                                            </td></tr>\n",
       "<tr><td>B0089SPEO2 </td><td>A3JOYNYL458QHP</td><td>Less lemon and less zing              </td><td style=\"text-align: right;\">      3</td><td style=\"text-align: right;\">                       0</td><td style=\"text-align: right;\"> 28582</td><td>coleridge                                       </td><td style=\"text-align: right;\">                     0</td><td style=\"text-align: right;\">1.32391e+09</td><td>Everything is ok, except it just isn't as good as it is in the bags.  Just considerably more bland -- less lemon and less zing.  Boring.                                                                                                                                                                                                                                                                                                                                                                                                                                                                                                                                                                                                                                                                                                                                                                                                                                                                                                                                                                                                                                                                                                                                                                                                                                                                                                                                                                                                                                                                                                                                                                                                                                                                                                                                                                                                                                                                                                                                                                                                                                                                                                                                                                                                                                                                                                                                                                                                                                                                                                                                                                                                                                                                                                                                                                                                                                                                                                                                                                                                                                                                                                                    </td></tr>\n",
       "<tr><td>B001PMCDK2 </td><td>A14TTMM0Z03Y2W</td><td>my cat goes crazy for these!          </td><td style=\"text-align: right;\">      5</td><td style=\"text-align: right;\">                       0</td><td style=\"text-align: right;\">389965</td><td>Lindsay S. Bradford                             </td><td style=\"text-align: right;\">                     0</td><td style=\"text-align: right;\">1.3106e+09 </td><td>Best cat treat ever. There isn't anything comparable to the love my cat has for these treats, he snubs away any other kind now.<br />I know he likes to manipulate me with his cattiness but these treats are my way of manipulating him to come sit on my lap and have some chill time. :)                                                                                                                                                                                                                                                                                                                                                                                                                                                                                                                                                                                                                                                                                                                                                                                                                                                                                                                                                                                                                                                                                                                                                                                                                                                                                                                                                                                                                                                                                                                                                                                                                                                                                                                                                                                                                                                                                                                                                                                                                                                                                                                                                                                                                                                                                                                                                                                                                                                                                                                                                                                                                                                                                                                                                                                                                                                                                                                                                                 </td></tr>\n",
       "<tr><td>B002Q8JOSI </td><td>A17UQD2RSSQH5X</td><td>My dogs tell me these treats are YUMMY</td><td style=\"text-align: right;\">      5</td><td style=\"text-align: right;\">                       1</td><td style=\"text-align: right;\">212536</td><td>in the dark                                     </td><td style=\"text-align: right;\">                     1</td><td style=\"text-align: right;\">1.31613e+09</td><td>My two Corgis were thoroughly spoiled by my late husband (I spent a year and a half dieting them down a combined total of 25 pounds!)<br /><br />They are accustomed to the finest of fare, and they absolutely love the Wellness brand of treats.                                                                                                                                                                                                                                                                                                                                                                                                                                                                                                                                                                                                                                                                                                                                                                                                                                                                                                                                                                                                                                                                                                                                                                                                                                                                                                                                                                                                                                                                                                                                                                                                                                                                                                                                                                                                                                                                                                                                                                                                                                                                                                                                                                                                                                                                                                                                                                                                                                                                                                                                                                                                                                                                                                                                                                                                                                                                                                                                                                                                          </td></tr>\n",
       "<tr><td>B00176G870 </td><td>A2F2MZW8EOGH5J</td><td>Yummy to the tummy                    </td><td style=\"text-align: right;\">      5</td><td style=\"text-align: right;\">                       0</td><td style=\"text-align: right;\">115971</td><td>daemoncycler \"When you arrive at a fork in th...</td><td style=\"text-align: right;\">                     0</td><td style=\"text-align: right;\">1.33479e+09</td><td>We used to have drive down to the specialty pet food store for this product.  So glad we discovered Amazon.  As far as I can tell it is no more expensive & in some cases less - Prime membership is awesome.  Loving Pets treats are some of the best according to my dog.  They do not develop that nasty smell like some dog treats do.                                                                                                                                                                                                                                                                                                                                                                                                                                                                                                                                                                                                                                                                                                                                                                                                                                                                                                                                                                                                                                                                                                                                                                                                                                                                                                                                                                                                                                                                                                                                                                                                                                                                                                                                                                                                                                                                                                                                                                                                                                                                                                                                                                                                                                                                                                                                                                                                                                                                                                                                                                                                                                                                                                                                                                                                                                                                                                                  </td></tr>\n",
       "<tr><td>B001CHFUGY </td><td>A2M8VROSDPU4JT</td><td>Very good coffee                      </td><td style=\"text-align: right;\">      5</td><td style=\"text-align: right;\">                       1</td><td style=\"text-align: right;\">434484</td><td>Officefan \"Officefankt\"                         </td><td style=\"text-align: right;\">                     1</td><td style=\"text-align: right;\">1.27725e+09</td><td>I really liked this coffee, it was just as good as everyone claimed it was.  Strong, bold and flavorful!  I would recommend!                                                                                                                                                                                                                                                                                                                                                                                                                                                                                                                                                                                                                                                                                                                                                                                                                                                                                                                                                                                                                                                                                                                                                                                                                                                                                                                                                                                                                                                                                                                                                                                                                                                                                                                                                                                                                                                                                                                                                                                                                                                                                                                                                                                                                                                                                                                                                                                                                                                                                                                                                                                                                                                                                                                                                                                                                                                                                                                                                                                                                                                                                                                                </td></tr>\n",
       "<tr><td>B0041CIR62 </td><td>A16I6WJUEBJ1C3</td><td>okay but not as healthy as it appears </td><td style=\"text-align: right;\">      2</td><td style=\"text-align: right;\">                       1</td><td style=\"text-align: right;\">138997</td><td>doctorsirena \"doctorsirena\"                     </td><td style=\"text-align: right;\">                     1</td><td style=\"text-align: right;\">1.34369e+09</td><td>I am always looking for healthier, whole grain versions of foods I enjoy.  Unfortunately, these Peacock brand noodles are yet another food masquerading as healthy.  The product title in big letters on the front says \"Brown Rice Vermicelli\", making the consumer think \"this is made with brown rice, so it should be a healthy choice\".  But the first indication that it is not is when looking at the fiber content on the nutrition facts - only 0.6g per 2oz serving.  Then onto the ingredients list to see why so low... contains brown rice, sago starch and water.  The sago starch comes from palms and must not have much (if any) fiber.<br /><br />The Annie Chun's Maifun Brown Rice Noodles (sold on Amazon and in my local healthy grocer) has become one of my staples and is my frame of reference when comparing to the Peacock brand.  The Annie Chun's product is made with 100% whole grain, with ingredients brown rice flour and water.  Per 2oz serving, it has 4g fiber and pretty much the same calories and other nutrients as the Peacock brand.<br /><br />If you do try this Peacock brand noodles and have not used rice noodles before, you will need to seek guidance elsewhere on preparation.  As others have pointed out, the Peacock package gives almost no directions on how to prepare the product, aside from a brief mention in the recipes (in the header text it does say that they are \"easy-to-cook\" but does not say how).  It also contains a very strange recipe for rice noodles: Aglio Olio style - this is an Italian recipe for noodles with olive oil/garlic/sprinkled with grated cheese that I think would not be very tasty.  The second recipe appears to be for a soup with veggie strips.  Neither recipe gives amounts or much direction.  In comparison, the Annie Chun's package gives clear, specific directions on rice noodle preparation and two recipes.<br /><br />I use rice noodles = maifun = rice sticks = sometimes called vermicelli for making the Vietnamese salad \"bun tofu\", to serve with stir-fried veggies or in lettuce rolls.  They can also be used in spring rolls/egg rolls.  When cooking with thin rice noodles, be careful not to oversoak/overcook/overmix or they tend to disintegrate.  Asian rice noodle vermicelli (maifun) are not the same as Italian vermicelli and are not readily interchangeable.  If making an Italian recipe, the best results would be expected from Italian pasta and not maifun.<br /><br />A few final notes...  Both Peacock and Annie Chun's brown rice noodles are gluten free.  The Peacock is made in Singapore and the Annie Chun's in Thailand.  The Peacock noodles do taste fine (kind of bland), but so do the Annie Chun's.  At this time, they are both approximately the same price.  Peacock come in an plastic bag with some noodle crushage upon shipping; Annie Chun's are perfect upon removal from their cellophane bag in a box.  Overall, I highly recommend the Annie Chun's Maifun as a healthier option over the Peacock brand.  On a related note, the Annie Chun's soba and brown rice pad thai noodles are also excellent.<br /><br />Rating for this product: 2.5 stars rounded down to 2 stars.</td></tr>\n",
       "<tr><td>B001R3BQFW </td><td>AM50E42AFUVNL </td><td>Taste great.                          </td><td style=\"text-align: right;\">      5</td><td style=\"text-align: right;\">                       0</td><td style=\"text-align: right;\">126555</td><td>T. Higley \"Tina\"                                </td><td style=\"text-align: right;\">                     0</td><td style=\"text-align: right;\">1.32356e+09</td><td>I have tried many different drink mix, this is the best tasting by far. It does not have the after taste of the sweetener and I really like it, it is pretty strong, so I use a big water bottle (20 oz) for one tube, it still a little stronger than I like, but it is just my taste.                                                                                                                                                                                                                                                                                                                                                                                                                                                                                                                                                                                                                                                                                                                                                                                                                                                                                                                                                                                                                                                                                                                                                                                                                                                                                                                                                                                                                                                                                                                                                                                                                                                                                                                                                                                                                                                                                                                                                                                                                                                                                                                                                                                                                                                                                                                                                                                                                                                                                                                                                                                                                                                                                                                                                                                                                                                                                                                                                                     </td></tr>\n",
       "<tr><td>B005HGAV8I </td><td>A2I5KDNOESGJ1H</td><td>variety galore                        </td><td style=\"text-align: right;\">      5</td><td style=\"text-align: right;\">                       1</td><td style=\"text-align: right;\">438837</td><td>TJ                                              </td><td style=\"text-align: right;\">                     1</td><td style=\"text-align: right;\">1.33402e+09</td><td>This is my favorite item to order for my Keurig. There are so many flavors, my finicky palate never gets bored!  The only downside is there are probably 5-6 decaf varieties.  I don't drink decaf (I REQUIRE copious amounts of caffeine), so they sit on the shelf...                                                                                                                                                                                                                                                                                                                                                                                                                                                                                                                                                                                                                                                                                                                                                                                                                                                                                                                                                                                                                                                                                                                                                                                                                                                                                                                                                                                                                                                                                                                                                                                                                                                                                                                                                                                                                                                                                                                                                                                                                                                                                                                                                                                                                                                                                                                                                                                                                                                                                                                                                                                                                                                                                                                                                                                                                                                                                                                                                                                     </td></tr>\n",
       "<tr><td>B000GFYRHQ </td><td>A3A7YUR6FS6ZCI</td><td>Bigelow Earl Grey Green Tea           </td><td style=\"text-align: right;\">      5</td><td style=\"text-align: right;\">                       0</td><td style=\"text-align: right;\">245379</td><td>Tea Lover                                       </td><td style=\"text-align: right;\">                     0</td><td style=\"text-align: right;\">1.17841e+09</td><td>Tastes like Earl Grey, but it's green tea so it's healthier.                                                                                                                                                                                                                                                                                                                                                                                                                                                                                                                                                                                                                                                                                                                                                                                                                                                                                                                                                                                                                                                                                                                                                                                                                                                                                                                                                                                                                                                                                                                                                                                                                                                                                                                                                                                                                                                                                                                                                                                                                                                                                                                                                                                                                                                                                                                                                                                                                                                                                                                                                                                                                                                                                                                                                                                                                                                                                                                                                                                                                                                                                                                                                                                                </td></tr>\n",
       "</tbody>\n",
       "</table>"
      ]
     },
     "metadata": {},
     "output_type": "display_data"
    },
    {
     "data": {
      "text/plain": []
     },
     "execution_count": 5,
     "metadata": {},
     "output_type": "execute_result"
    }
   ],
   "source": [
    "reviews.head()"
   ]
  },
  {
   "cell_type": "code",
   "execution_count": 6,
   "metadata": {},
   "outputs": [
    {
     "data": {
      "text/html": [
       "<table>\n",
       "<thead>\n",
       "<tr><th style=\"text-align: right;\">  Score</th><th style=\"text-align: right;\">  Count</th></tr>\n",
       "</thead>\n",
       "<tbody>\n",
       "<tr><td style=\"text-align: right;\">      1</td><td style=\"text-align: right;\">   9204</td></tr>\n",
       "<tr><td style=\"text-align: right;\">      2</td><td style=\"text-align: right;\">   5180</td></tr>\n",
       "<tr><td style=\"text-align: right;\">      3</td><td style=\"text-align: right;\">   7407</td></tr>\n",
       "<tr><td style=\"text-align: right;\">      4</td><td style=\"text-align: right;\">  14221</td></tr>\n",
       "<tr><td style=\"text-align: right;\">      5</td><td style=\"text-align: right;\">  63988</td></tr>\n",
       "</tbody>\n",
       "</table>"
      ]
     },
     "metadata": {},
     "output_type": "display_data"
    },
    {
     "data": {
      "text/plain": []
     },
     "execution_count": 6,
     "metadata": {},
     "output_type": "execute_result"
    }
   ],
   "source": [
    "reviews[\"Score\"].table()"
   ]
  },
  {
   "cell_type": "code",
   "execution_count": 7,
   "metadata": {},
   "outputs": [
    {
     "data": {
      "text/html": [
       "<table>\n",
       "<thead>\n",
       "<tr><th>Summary      </th><th style=\"text-align: right;\">  Count</th></tr>\n",
       "</thead>\n",
       "<tbody>\n",
       "<tr><td>Delicious    </td><td style=\"text-align: right;\">    426</td></tr>\n",
       "<tr><td>Delicious!   </td><td style=\"text-align: right;\">    417</td></tr>\n",
       "<tr><td>Yummy!       </td><td style=\"text-align: right;\">    284</td></tr>\n",
       "<tr><td>Yummy        </td><td style=\"text-align: right;\">    222</td></tr>\n",
       "<tr><td>Great product</td><td style=\"text-align: right;\">    204</td></tr>\n",
       "<tr><td>Yum!         </td><td style=\"text-align: right;\">    193</td></tr>\n",
       "<tr><td>Excellent    </td><td style=\"text-align: right;\">    183</td></tr>\n",
       "<tr><td>Great Product</td><td style=\"text-align: right;\">    155</td></tr>\n",
       "<tr><td>Love it!     </td><td style=\"text-align: right;\">    154</td></tr>\n",
       "<tr><td>Great        </td><td style=\"text-align: right;\">    138</td></tr>\n",
       "</tbody>\n",
       "</table>"
      ]
     },
     "metadata": {},
     "output_type": "display_data"
    },
    {
     "data": {
      "text/plain": []
     },
     "execution_count": 7,
     "metadata": {},
     "output_type": "execute_result"
    }
   ],
   "source": [
    "summary_freq = reviews[\"Summary\"].table()\n",
    "summary_freq = summary_freq.sort(\"Count\", ascending = [False])\n",
    "summary_freq.head()"
   ]
  },
  {
   "cell_type": "code",
   "execution_count": 8,
   "metadata": {},
   "outputs": [],
   "source": [
    "#' Add Target Column: \"PositiveReview\"\n",
    "reviews[\"PositiveReview\"] = (reviews[\"Score\"] >= 4).ifelse(\"1\", \"0\")"
   ]
  },
  {
   "cell_type": "code",
   "execution_count": 9,
   "metadata": {},
   "outputs": [
    {
     "data": {
      "text/html": [
       "<table>\n",
       "<thead>\n",
       "<tr><th style=\"text-align: right;\">  PositiveReview</th><th style=\"text-align: right;\">  Count</th></tr>\n",
       "</thead>\n",
       "<tbody>\n",
       "<tr><td style=\"text-align: right;\">               0</td><td style=\"text-align: right;\">  21791</td></tr>\n",
       "<tr><td style=\"text-align: right;\">               1</td><td style=\"text-align: right;\">  78209</td></tr>\n",
       "</tbody>\n",
       "</table>"
      ]
     },
     "metadata": {},
     "output_type": "display_data"
    },
    {
     "data": {
      "text/plain": []
     },
     "execution_count": 9,
     "metadata": {},
     "output_type": "execute_result"
    }
   ],
   "source": [
    "reviews[\"PositiveReview\"].table()"
   ]
  },
  {
   "cell_type": "markdown",
   "metadata": {},
   "source": [
    "# Step 3 (of 10).  Tokenize Words\n",
    "\n",
    "\n",
    "We will tokenize the words in the review column. We will do this by creating a function called `tokenize`.  This will split the reviews into words and remove any stop words, small words, or words with numbers in them."
   ]
  },
  {
   "cell_type": "code",
   "execution_count": 10,
   "metadata": {},
   "outputs": [
    {
     "data": {
      "text/plain": [
       "['all',\n",
       " 'just',\n",
       " 'being',\n",
       " 'over',\n",
       " 'both',\n",
       " 'through',\n",
       " 'yourselves',\n",
       " 'its',\n",
       " 'before',\n",
       " 'o',\n",
       " 'hadn',\n",
       " 'herself',\n",
       " 'll',\n",
       " 'had',\n",
       " 'should',\n",
       " 'to',\n",
       " 'only',\n",
       " 'won',\n",
       " 'under',\n",
       " 'ours',\n",
       " 'has',\n",
       " 'do',\n",
       " 'them',\n",
       " 'his',\n",
       " 'very',\n",
       " 'they',\n",
       " 'not',\n",
       " 'during',\n",
       " 'now',\n",
       " 'him',\n",
       " 'nor',\n",
       " 'd',\n",
       " 'did',\n",
       " 'didn',\n",
       " 'this',\n",
       " 'she',\n",
       " 'each',\n",
       " 'further',\n",
       " 'where',\n",
       " 'few',\n",
       " 'because',\n",
       " 'doing',\n",
       " 'some',\n",
       " 'hasn',\n",
       " 'are',\n",
       " 'our',\n",
       " 'ourselves',\n",
       " 'out',\n",
       " 'what',\n",
       " 'for',\n",
       " 'while',\n",
       " 're',\n",
       " 'does',\n",
       " 'above',\n",
       " 'between',\n",
       " 'mustn',\n",
       " 't',\n",
       " 'be',\n",
       " 'we',\n",
       " 'who',\n",
       " 'were',\n",
       " 'here',\n",
       " 'shouldn',\n",
       " 'hers',\n",
       " 'by',\n",
       " 'on',\n",
       " 'about',\n",
       " 'couldn',\n",
       " 'of',\n",
       " 'against',\n",
       " 's',\n",
       " 'isn',\n",
       " 'or',\n",
       " 'own',\n",
       " 'into',\n",
       " 'yourself',\n",
       " 'down',\n",
       " 'mightn',\n",
       " 'wasn',\n",
       " 'your',\n",
       " 'from',\n",
       " 'her',\n",
       " 'their',\n",
       " 'aren',\n",
       " 'there',\n",
       " 'been',\n",
       " 'whom',\n",
       " 'too',\n",
       " 'wouldn',\n",
       " 'themselves',\n",
       " 'weren',\n",
       " 'was',\n",
       " 'until',\n",
       " 'more',\n",
       " 'himself',\n",
       " 'that',\n",
       " 'but',\n",
       " 'don',\n",
       " 'with',\n",
       " 'than',\n",
       " 'those',\n",
       " 'he',\n",
       " 'me',\n",
       " 'myself',\n",
       " 'ma',\n",
       " 'these',\n",
       " 'up',\n",
       " 'will',\n",
       " 'below',\n",
       " 'ain',\n",
       " 'can',\n",
       " 'theirs',\n",
       " 'my',\n",
       " 'and',\n",
       " 've',\n",
       " 'then',\n",
       " 'is',\n",
       " 'am',\n",
       " 'it',\n",
       " 'doesn',\n",
       " 'an',\n",
       " 'as',\n",
       " 'itself',\n",
       " 'at',\n",
       " 'have',\n",
       " 'in',\n",
       " 'any',\n",
       " 'if',\n",
       " 'again',\n",
       " 'no',\n",
       " 'when',\n",
       " 'same',\n",
       " 'how',\n",
       " 'other',\n",
       " 'which',\n",
       " 'you',\n",
       " 'shan',\n",
       " 'needn',\n",
       " 'haven',\n",
       " 'after',\n",
       " 'most',\n",
       " 'such',\n",
       " 'why',\n",
       " 'a',\n",
       " 'off',\n",
       " 'i',\n",
       " 'm',\n",
       " 'yours',\n",
       " 'so',\n",
       " 'y',\n",
       " 'the',\n",
       " 'having',\n",
       " 'once']"
      ]
     },
     "execution_count": 10,
     "metadata": {},
     "output_type": "execute_result"
    }
   ],
   "source": [
    "# Set Stop Words\n",
    "# The STOP WORDS we are importing are from the nltk package\n",
    "import pandas as pd\n",
    "\n",
    "# https://s3-us-west-2.amazonaws.com/h2o-tutorials/data/topics/nlp/amazon_reviews/stopwords.csv\n",
    "STOP_WORDS = pd.read_csv(\"../../data/topics/nlp/amazon_reviews/stopwords.csv\", header=0)\n",
    "STOP_WORDS = list(STOP_WORDS['STOP_WORD'])\n",
    "\n",
    "STOP_WORDS"
   ]
  },
  {
   "cell_type": "code",
   "execution_count": 11,
   "metadata": {},
   "outputs": [],
   "source": [
    "def tokenize(sentences, stop_word = STOP_WORDS):\n",
    "    tokenized = sentences.tokenize(\"\\\\W+\")\n",
    "    tokenized_lower = tokenized.tolower()\n",
    "    tokenized_filtered = tokenized_lower[(tokenized_lower.nchar() >= 2) | (tokenized_lower.isna()),:]\n",
    "    tokenized_words = tokenized_filtered[tokenized_filtered.grep(\"[0-9]\",invert=True,output_logical=True),:]\n",
    "    tokenized_words = tokenized_words[(tokenized_words.isna()) | (~ tokenized_words.isin(STOP_WORDS)),:]\n",
    "    return tokenized_words"
   ]
  },
  {
   "cell_type": "code",
   "execution_count": 12,
   "metadata": {},
   "outputs": [],
   "source": [
    "# Break reviews into sequence of words\n",
    "words = tokenize(reviews[\"Text\"])"
   ]
  },
  {
   "cell_type": "code",
   "execution_count": 13,
   "metadata": {},
   "outputs": [
    {
     "data": {
      "text/html": [
       "<table>\n",
       "<thead>\n",
       "<tr><th>C1       </th></tr>\n",
       "</thead>\n",
       "<tbody>\n",
       "<tr><td>made     </td></tr>\n",
       "<tr><td>china    </td></tr>\n",
       "<tr><td>buy      </td></tr>\n",
       "<tr><td>pet      </td></tr>\n",
       "<tr><td>food     </td></tr>\n",
       "<tr><td>china    </td></tr>\n",
       "<tr><td>dogswell </td></tr>\n",
       "<tr><td>using    </td></tr>\n",
       "<tr><td>propylene</td></tr>\n",
       "<tr><td>glycol   </td></tr>\n",
       "</tbody>\n",
       "</table>"
      ]
     },
     "metadata": {},
     "output_type": "display_data"
    },
    {
     "data": {
      "text/plain": []
     },
     "execution_count": 13,
     "metadata": {},
     "output_type": "execute_result"
    }
   ],
   "source": [
    "words.head()"
   ]
  },
  {
   "cell_type": "markdown",
   "metadata": {},
   "source": [
    "# Step 4 (of 10).  Train Word2Vec Model\n",
    "\n",
    "Now that we've tokenized our words, we can train a word2vec model. We will start by creating word embeddings of length 2.  We will use these to understand the word embedding since they can be easily visualized. "
   ]
  },
  {
   "cell_type": "code",
   "execution_count": 14,
   "metadata": {},
   "outputs": [
    {
     "name": "stdout",
     "output_type": "stream",
     "text": [
      "word2vec Model Build progress: |██████████████████████████████████████████| 100%\n"
     ]
    }
   ],
   "source": [
    "# Train Word2Vec Model for vec size = 2\n",
    "from h2o.estimators.word2vec import H2OWord2vecEstimator\n",
    "\n",
    "w2v_len2_model = H2OWord2vecEstimator(vec_size = 2, model_id = \"w2v_len2.hex\")\n",
    "w2v_len2_model.train(training_frame=words)"
   ]
  },
  {
   "cell_type": "markdown",
   "metadata": {},
   "source": [
    "# Step 5 (of 10).  Analyze Word Embeddings\n",
    "\n",
    "We have created word embeddings for each word in our corpus, now we want to understand what they mean and how to interpret them.  The word embeddings for the first few words are shown below."
   ]
  },
  {
   "cell_type": "code",
   "execution_count": 15,
   "metadata": {},
   "outputs": [
    {
     "data": {
      "text/html": [
       "<table>\n",
       "<thead>\n",
       "<tr><th>Word     </th><th style=\"text-align: right;\">      C1</th><th style=\"text-align: right;\">        C2</th></tr>\n",
       "</thead>\n",
       "<tbody>\n",
       "<tr><td>made     </td><td style=\"text-align: right;\">0.662906</td><td style=\"text-align: right;\"> 0.185033 </td></tr>\n",
       "<tr><td>china    </td><td style=\"text-align: right;\">0.696142</td><td style=\"text-align: right;\">-0.476355 </td></tr>\n",
       "<tr><td>buy      </td><td style=\"text-align: right;\">0.754585</td><td style=\"text-align: right;\">-0.268598 </td></tr>\n",
       "<tr><td>pet      </td><td style=\"text-align: right;\">0.905292</td><td style=\"text-align: right;\">-1.06365  </td></tr>\n",
       "<tr><td>food     </td><td style=\"text-align: right;\">0.864217</td><td style=\"text-align: right;\">-0.624091 </td></tr>\n",
       "<tr><td>china    </td><td style=\"text-align: right;\">0.696142</td><td style=\"text-align: right;\">-0.476355 </td></tr>\n",
       "<tr><td>dogswell </td><td style=\"text-align: right;\">0.862036</td><td style=\"text-align: right;\">-0.88016  </td></tr>\n",
       "<tr><td>using    </td><td style=\"text-align: right;\">0.643958</td><td style=\"text-align: right;\"> 0.0884851</td></tr>\n",
       "<tr><td>propylene</td><td style=\"text-align: right;\">0.246447</td><td style=\"text-align: right;\"> 1.05519  </td></tr>\n",
       "<tr><td>glycol   </td><td style=\"text-align: right;\">0.194786</td><td style=\"text-align: right;\"> 0.917615 </td></tr>\n",
       "</tbody>\n",
       "</table>"
      ]
     },
     "metadata": {},
     "output_type": "display_data"
    },
    {
     "data": {
      "text/plain": []
     },
     "execution_count": 15,
     "metadata": {},
     "output_type": "execute_result"
    }
   ],
   "source": [
    "sample_embeddings = words.head()\n",
    "sample_embeddings.col_names = [\"Word\"]\n",
    "sample_embeddings = sample_embeddings.cbind(w2v_len2_model.transform(sample_embeddings, aggregate_method=\"None\"))\n",
    "\n",
    "sample_embeddings"
   ]
  },
  {
   "cell_type": "markdown",
   "metadata": {},
   "source": [
    "We will plot the word embeddings to see which words are related to one another."
   ]
  },
  {
   "cell_type": "code",
   "execution_count": 16,
   "metadata": {},
   "outputs": [
    {
     "data": {
      "text/html": [
       "<table>\n",
       "<thead>\n",
       "<tr><th>Word    </th><th style=\"text-align: right;\">      V1</th><th style=\"text-align: right;\">        V2</th></tr>\n",
       "</thead>\n",
       "<tbody>\n",
       "<tr><td>kronung </td><td style=\"text-align: right;\">0.512748</td><td style=\"text-align: right;\"> 0.342483 </td></tr>\n",
       "<tr><td>berge   </td><td style=\"text-align: right;\">0.160061</td><td style=\"text-align: right;\">-0.245699 </td></tr>\n",
       "<tr><td>ewww    </td><td style=\"text-align: right;\">0.618649</td><td style=\"text-align: right;\"> 0.0889099</td></tr>\n",
       "<tr><td>maison  </td><td style=\"text-align: right;\">0.483342</td><td style=\"text-align: right;\"> 0.542176 </td></tr>\n",
       "<tr><td>mattered</td><td style=\"text-align: right;\">0.913981</td><td style=\"text-align: right;\"> 0.0363211</td></tr>\n",
       "<tr><td>helpings</td><td style=\"text-align: right;\">0.508415</td><td style=\"text-align: right;\">-0.0334509</td></tr>\n",
       "<tr><td>twitter </td><td style=\"text-align: right;\">0.809107</td><td style=\"text-align: right;\">-0.139631 </td></tr>\n",
       "<tr><td>aah     </td><td style=\"text-align: right;\">0.683716</td><td style=\"text-align: right;\"> 0.467884 </td></tr>\n",
       "<tr><td>reverted</td><td style=\"text-align: right;\">0.9134  </td><td style=\"text-align: right;\">-0.139192 </td></tr>\n",
       "<tr><td>mroe    </td><td style=\"text-align: right;\">0.729285</td><td style=\"text-align: right;\"> 0.0361741</td></tr>\n",
       "</tbody>\n",
       "</table>"
      ]
     },
     "metadata": {},
     "output_type": "display_data"
    },
    {
     "data": {
      "text/plain": []
     },
     "execution_count": 16,
     "metadata": {},
     "output_type": "execute_result"
    }
   ],
   "source": [
    "word_embeddings = w2v_len2_model.to_frame()\n",
    "word_embeddings.head()"
   ]
  },
  {
   "cell_type": "code",
   "execution_count": 17,
   "metadata": {},
   "outputs": [],
   "source": [
    "# Filter Word Embeddings to selected words\n",
    "\n",
    "selected_words = [\"coffee\", \"espresso\", \"starbucks\", \"sweet\", \"salty\", \"savory\", \"email\", \"support\", \"answered\", \n",
    "                  \"unhappy\", \"waited\", \"returned\", \"tasty\", \"yummy\", \"moldy\", \"expired\", \"salmonella\", \"best\", \n",
    "                  \"amazing\", \"abdominal\", \"folic\", \"zinc\"]\n",
    "\n",
    "filtered_embeddings = word_embeddings[word_embeddings[\"Word\"].isin(selected_words)]\n",
    "plot_data = filtered_embeddings.as_data_frame(use_pandas = True)"
   ]
  },
  {
   "cell_type": "code",
   "execution_count": 18,
   "metadata": {},
   "outputs": [],
   "source": [
    "# Plot Word Embeddings\n",
    "import matplotlib.pyplot as plt\n",
    "\n",
    "fig, ax = plt.subplots(figsize=(20, 10))\n",
    "ax.scatter(plot_data[\"V1\"], plot_data[\"V2\"])\n",
    "\n",
    "for i, txt in enumerate(plot_data[\"Word\"]):\n",
    "    ax.annotate(txt, (plot_data[\"V1\"].iloc[i], plot_data[\"V2\"].iloc[i]))"
   ]
  },
  {
   "cell_type": "markdown",
   "metadata": {},
   "source": [
    "We will train a more complex word2vec model with length 100 - this will be able to catch further nuances in the text."
   ]
  },
  {
   "cell_type": "code",
   "execution_count": 19,
   "metadata": {},
   "outputs": [
    {
     "name": "stdout",
     "output_type": "stream",
     "text": [
      "word2vec Model Build progress: |██████████████████████████████████████████| 100%\n"
     ]
    }
   ],
   "source": [
    "# Train Word2Vec Model for vec size = 100\n",
    "w2v_model = H2OWord2vecEstimator(vec_size = 100, model_id = \"w2v.hex\")\n",
    "w2v_model.train(training_frame=words)"
   ]
  },
  {
   "cell_type": "markdown",
   "metadata": {},
   "source": [
    "One way to interpret the word embeddings is to use them to find synonyms. The `find_synonyms` function finds the words that have the smallest cosine distance in word embeddings.  We assume that if the word embeddings are similar, the two words are synonyms."
   ]
  },
  {
   "cell_type": "code",
   "execution_count": 20,
   "metadata": {},
   "outputs": [
    {
     "data": {
      "text/plain": [
       "OrderedDict([('coffe', 0.8086370825767517),\n",
       "             ('coffees', 0.781610369682312),\n",
       "             ('expresso', 0.7372700572013855),\n",
       "             ('starbucks', 0.7307202219963074),\n",
       "             ('espresso', 0.7219136357307434)])"
      ]
     },
     "execution_count": 20,
     "metadata": {},
     "output_type": "execute_result"
    }
   ],
   "source": [
    "# Sanity check - find synonyms for the word 'coffee'\n",
    "w2v_model.find_synonyms(\"coffee\", count = 5)"
   ]
  },
  {
   "cell_type": "code",
   "execution_count": 21,
   "metadata": {},
   "outputs": [
    {
     "data": {
      "text/plain": [
       "OrderedDict([('rancid', 0.7115834951400757),\n",
       "             ('moldy', 0.6911710500717163),\n",
       "             ('inedible', 0.6745778322219849),\n",
       "             ('tasteless', 0.636642336845398),\n",
       "             ('expired', 0.6361327767372131)])"
      ]
     },
     "execution_count": 21,
     "metadata": {},
     "output_type": "execute_result"
    }
   ],
   "source": [
    "# Sanity check - find synonyms for the word 'stale'\n",
    "w2v_model.find_synonyms(\"stale\", count = 5)"
   ]
  },
  {
   "cell_type": "markdown",
   "metadata": {},
   "source": [
    "We will cluster the word embeddings to identify segments of similar words. "
   ]
  },
  {
   "cell_type": "code",
   "execution_count": 22,
   "metadata": {},
   "outputs": [
    {
     "data": {
      "text/html": [
       "<table>\n",
       "<thead>\n",
       "<tr><th>Word    </th><th style=\"text-align: right;\">        V1</th><th style=\"text-align: right;\">         V2</th><th style=\"text-align: right;\">        V3</th><th style=\"text-align: right;\">         V4</th><th style=\"text-align: right;\">         V5</th><th style=\"text-align: right;\">        V6</th><th style=\"text-align: right;\">        V7</th><th style=\"text-align: right;\">         V8</th><th style=\"text-align: right;\">         V9</th><th style=\"text-align: right;\">         V10</th><th style=\"text-align: right;\">        V11</th><th style=\"text-align: right;\">       V12</th><th style=\"text-align: right;\">       V13</th><th style=\"text-align: right;\">        V14</th><th style=\"text-align: right;\">       V15</th><th style=\"text-align: right;\">       V16</th><th style=\"text-align: right;\">      V17</th><th style=\"text-align: right;\">       V18</th><th style=\"text-align: right;\">         V19</th><th style=\"text-align: right;\">        V20</th><th style=\"text-align: right;\">       V21</th><th style=\"text-align: right;\">         V22</th><th style=\"text-align: right;\">       V23</th><th style=\"text-align: right;\">       V24</th><th style=\"text-align: right;\">        V25</th><th style=\"text-align: right;\">      V26</th><th style=\"text-align: right;\">       V27</th><th style=\"text-align: right;\">       V28</th><th style=\"text-align: right;\">        V29</th><th style=\"text-align: right;\">        V30</th><th style=\"text-align: right;\">        V31</th><th style=\"text-align: right;\">      V32</th><th style=\"text-align: right;\">        V33</th><th style=\"text-align: right;\">       V34</th><th style=\"text-align: right;\">         V35</th><th style=\"text-align: right;\">       V36</th><th style=\"text-align: right;\">       V37</th><th style=\"text-align: right;\">        V38</th><th style=\"text-align: right;\">         V39</th><th style=\"text-align: right;\">        V40</th><th style=\"text-align: right;\">        V41</th><th style=\"text-align: right;\">       V42</th><th style=\"text-align: right;\">       V43</th><th style=\"text-align: right;\">       V44</th><th style=\"text-align: right;\">       V45</th><th style=\"text-align: right;\">        V46</th><th style=\"text-align: right;\">        V47</th><th style=\"text-align: right;\">        V48</th><th style=\"text-align: right;\">       V49</th><th style=\"text-align: right;\">       V50</th><th style=\"text-align: right;\">       V51</th><th style=\"text-align: right;\">       V52</th><th style=\"text-align: right;\">        V53</th><th style=\"text-align: right;\">       V54</th><th style=\"text-align: right;\">       V55</th><th style=\"text-align: right;\">        V56</th><th style=\"text-align: right;\">         V57</th><th style=\"text-align: right;\">       V58</th><th style=\"text-align: right;\">         V59</th><th style=\"text-align: right;\">        V60</th><th style=\"text-align: right;\">         V61</th><th style=\"text-align: right;\">       V62</th><th style=\"text-align: right;\">        V63</th><th style=\"text-align: right;\">       V64</th><th style=\"text-align: right;\">        V65</th><th style=\"text-align: right;\">       V66</th><th style=\"text-align: right;\">      V67</th><th style=\"text-align: right;\">         V68</th><th style=\"text-align: right;\">       V69</th><th style=\"text-align: right;\">       V70</th><th style=\"text-align: right;\">        V71</th><th style=\"text-align: right;\">       V72</th><th style=\"text-align: right;\">        V73</th><th style=\"text-align: right;\">       V74</th><th style=\"text-align: right;\">        V75</th><th style=\"text-align: right;\">       V76</th><th style=\"text-align: right;\">       V77</th><th style=\"text-align: right;\">       V78</th><th style=\"text-align: right;\">        V79</th><th style=\"text-align: right;\">       V80</th><th style=\"text-align: right;\">        V81</th><th style=\"text-align: right;\">        V82</th><th style=\"text-align: right;\">       V83</th><th style=\"text-align: right;\">       V84</th><th style=\"text-align: right;\">        V85</th><th style=\"text-align: right;\">        V86</th><th style=\"text-align: right;\">        V87</th><th style=\"text-align: right;\">      V88</th><th style=\"text-align: right;\">        V89</th><th style=\"text-align: right;\">        V90</th><th style=\"text-align: right;\">       V91</th><th style=\"text-align: right;\">        V92</th><th style=\"text-align: right;\">       V93</th><th style=\"text-align: right;\">       V94</th><th style=\"text-align: right;\">       V95</th><th style=\"text-align: right;\">       V96</th><th style=\"text-align: right;\">       V97</th><th style=\"text-align: right;\">       V98</th><th style=\"text-align: right;\">       V99</th><th style=\"text-align: right;\">      V100</th></tr>\n",
       "</thead>\n",
       "<tbody>\n",
       "<tr><td>kronung </td><td style=\"text-align: right;\">-0.0539377</td><td style=\"text-align: right;\">-0.00226734</td><td style=\"text-align: right;\"> 0.0952225</td><td style=\"text-align: right;\"> 0.0571992 </td><td style=\"text-align: right;\"> 0.0249341 </td><td style=\"text-align: right;\">-0.282155 </td><td style=\"text-align: right;\"> 0.0590622</td><td style=\"text-align: right;\">-0.0572964 </td><td style=\"text-align: right;\">-0.0611511 </td><td style=\"text-align: right;\"> 0.288083   </td><td style=\"text-align: right;\">-0.0266142 </td><td style=\"text-align: right;\">-0.0506587</td><td style=\"text-align: right;\"> 0.120602 </td><td style=\"text-align: right;\">-0.105499  </td><td style=\"text-align: right;\"> 0.031658 </td><td style=\"text-align: right;\"> 0.0598717</td><td style=\"text-align: right;\">-0.338992</td><td style=\"text-align: right;\">-0.0173756</td><td style=\"text-align: right;\"> 0.0438806  </td><td style=\"text-align: right;\"> 0.100461  </td><td style=\"text-align: right;\"> 0.266979 </td><td style=\"text-align: right;\">-0.0628106  </td><td style=\"text-align: right;\"> 0.0727893</td><td style=\"text-align: right;\"> 0.14561  </td><td style=\"text-align: right;\"> 0.0701075 </td><td style=\"text-align: right;\">-0.112663</td><td style=\"text-align: right;\">-0.104152 </td><td style=\"text-align: right;\">-0.165374 </td><td style=\"text-align: right;\"> 0.00570916</td><td style=\"text-align: right;\">-0.160798  </td><td style=\"text-align: right;\">-0.374309  </td><td style=\"text-align: right;\">0.279227 </td><td style=\"text-align: right;\"> 0.378161  </td><td style=\"text-align: right;\">-0.195317 </td><td style=\"text-align: right;\">-0.191295   </td><td style=\"text-align: right;\"> 0.211382 </td><td style=\"text-align: right;\"> 0.122395 </td><td style=\"text-align: right;\">-0.20102   </td><td style=\"text-align: right;\"> 0.0211431  </td><td style=\"text-align: right;\">-0.00500815</td><td style=\"text-align: right;\">-0.00689356</td><td style=\"text-align: right;\">-0.0581676</td><td style=\"text-align: right;\">-0.178132 </td><td style=\"text-align: right;\"> 0.13342  </td><td style=\"text-align: right;\">-0.192043 </td><td style=\"text-align: right;\"> 0.0337533 </td><td style=\"text-align: right;\">-0.0365062 </td><td style=\"text-align: right;\"> 0.0834792 </td><td style=\"text-align: right;\">-0.0586945</td><td style=\"text-align: right;\"> 0.0570779</td><td style=\"text-align: right;\"> 0.0547216</td><td style=\"text-align: right;\"> 0.207348 </td><td style=\"text-align: right;\">-0.0557366 </td><td style=\"text-align: right;\">-0.0292209</td><td style=\"text-align: right;\"> 0.120425 </td><td style=\"text-align: right;\"> 0.00449181</td><td style=\"text-align: right;\"> 0.220646   </td><td style=\"text-align: right;\">-0.032613 </td><td style=\"text-align: right;\"> 0.0604506  </td><td style=\"text-align: right;\"> 0.00452667</td><td style=\"text-align: right;\"> 0.00619729 </td><td style=\"text-align: right;\">-0.0950906</td><td style=\"text-align: right;\"> 0.0863437 </td><td style=\"text-align: right;\">-0.214286 </td><td style=\"text-align: right;\"> 0.0846874 </td><td style=\"text-align: right;\"> 0.0538134</td><td style=\"text-align: right;\">0.17688  </td><td style=\"text-align: right;\">-0.00501171 </td><td style=\"text-align: right;\"> 0.215386 </td><td style=\"text-align: right;\"> 0.209614 </td><td style=\"text-align: right;\"> 0.0617734 </td><td style=\"text-align: right;\"> 0.056715 </td><td style=\"text-align: right;\">-0.0305397 </td><td style=\"text-align: right;\"> 0.0289023</td><td style=\"text-align: right;\"> 0.051313  </td><td style=\"text-align: right;\">0.0349269 </td><td style=\"text-align: right;\"> 0.253506 </td><td style=\"text-align: right;\"> 0.0431104</td><td style=\"text-align: right;\"> 0.0109919 </td><td style=\"text-align: right;\">-0.213056 </td><td style=\"text-align: right;\"> 0.0181282 </td><td style=\"text-align: right;\"> 0.051193  </td><td style=\"text-align: right;\">-0.194589 </td><td style=\"text-align: right;\">-0.0729124</td><td style=\"text-align: right;\"> 0.0426344 </td><td style=\"text-align: right;\"> 0.0880028 </td><td style=\"text-align: right;\"> 0.0328109 </td><td style=\"text-align: right;\">0.177556 </td><td style=\"text-align: right;\">-0.169765  </td><td style=\"text-align: right;\">-0.183982  </td><td style=\"text-align: right;\"> 0.171432 </td><td style=\"text-align: right;\">-0.0661251 </td><td style=\"text-align: right;\"> 0.109496 </td><td style=\"text-align: right;\"> 0.143734 </td><td style=\"text-align: right;\">-0.354536 </td><td style=\"text-align: right;\">-0.0214186</td><td style=\"text-align: right;\"> 0.143778 </td><td style=\"text-align: right;\">-0.143341 </td><td style=\"text-align: right;\">-0.0475242</td><td style=\"text-align: right;\"> 0.0608647</td></tr>\n",
       "<tr><td>berge   </td><td style=\"text-align: right;\"> 0.0250393</td><td style=\"text-align: right;\">-0.0054233 </td><td style=\"text-align: right;\">-0.110433 </td><td style=\"text-align: right;\"> 0.141408  </td><td style=\"text-align: right;\">-0.0402758 </td><td style=\"text-align: right;\">-0.153211 </td><td style=\"text-align: right;\"> 0.128166 </td><td style=\"text-align: right;\"> 0.114608  </td><td style=\"text-align: right;\">-0.189461  </td><td style=\"text-align: right;\"> 0.0655939  </td><td style=\"text-align: right;\"> 0.0446773 </td><td style=\"text-align: right;\"> 0.0436644</td><td style=\"text-align: right;\"> 0.269873 </td><td style=\"text-align: right;\"> 0.023285  </td><td style=\"text-align: right;\">-0.0127968</td><td style=\"text-align: right;\">-0.127101 </td><td style=\"text-align: right;\">-0.116324</td><td style=\"text-align: right;\"> 0.016068 </td><td style=\"text-align: right;\"> 0.138204   </td><td style=\"text-align: right;\"> 0.00779639</td><td style=\"text-align: right;\"> 0.17798  </td><td style=\"text-align: right;\">-0.00246532 </td><td style=\"text-align: right;\">-0.162383 </td><td style=\"text-align: right;\">-0.0880918</td><td style=\"text-align: right;\"> 0.00325526</td><td style=\"text-align: right;\">-0.175534</td><td style=\"text-align: right;\"> 0.0241299</td><td style=\"text-align: right;\">-0.213928 </td><td style=\"text-align: right;\"> 0.0923822 </td><td style=\"text-align: right;\">-0.0442331 </td><td style=\"text-align: right;\">-0.189667  </td><td style=\"text-align: right;\">0.0134875</td><td style=\"text-align: right;\"> 0.18354   </td><td style=\"text-align: right;\">-0.155897 </td><td style=\"text-align: right;\">-0.140377   </td><td style=\"text-align: right;\">-0.0178584</td><td style=\"text-align: right;\"> 0.181299 </td><td style=\"text-align: right;\"> 0.0906947 </td><td style=\"text-align: right;\"> 0.0941375  </td><td style=\"text-align: right;\"> 0.245019  </td><td style=\"text-align: right;\"> 0.290491  </td><td style=\"text-align: right;\">-0.117335 </td><td style=\"text-align: right;\">-0.250073 </td><td style=\"text-align: right;\">-0.0657014</td><td style=\"text-align: right;\">-0.0536357</td><td style=\"text-align: right;\"> 0.128358  </td><td style=\"text-align: right;\">-0.0521135 </td><td style=\"text-align: right;\"> 0.0437012 </td><td style=\"text-align: right;\"> 0.146625 </td><td style=\"text-align: right;\"> 0.298522 </td><td style=\"text-align: right;\">-0.100524 </td><td style=\"text-align: right;\"> 0.0878913</td><td style=\"text-align: right;\">-0.0301142 </td><td style=\"text-align: right;\">-0.042628 </td><td style=\"text-align: right;\"> 0.141562 </td><td style=\"text-align: right;\">-0.00980056</td><td style=\"text-align: right;\">-0.0365627  </td><td style=\"text-align: right;\"> 0.167786 </td><td style=\"text-align: right;\">-0.108066   </td><td style=\"text-align: right;\"> 0.00065915</td><td style=\"text-align: right;\">-0.0449595  </td><td style=\"text-align: right;\">-0.104611 </td><td style=\"text-align: right;\"> 0.0512667 </td><td style=\"text-align: right;\">-0.0781865</td><td style=\"text-align: right;\">-0.0994553 </td><td style=\"text-align: right;\">-0.110126 </td><td style=\"text-align: right;\">0.178657 </td><td style=\"text-align: right;\"> 0.0219217  </td><td style=\"text-align: right;\"> 0.0688763</td><td style=\"text-align: right;\">-0.120815 </td><td style=\"text-align: right;\"> 0.310526  </td><td style=\"text-align: right;\"> 0.0471619</td><td style=\"text-align: right;\">-0.0865361 </td><td style=\"text-align: right;\">-0.0103947</td><td style=\"text-align: right;\"> 0.0555209 </td><td style=\"text-align: right;\">0.12592   </td><td style=\"text-align: right;\"> 0.221091 </td><td style=\"text-align: right;\">-0.0486322</td><td style=\"text-align: right;\"> 0.00878806</td><td style=\"text-align: right;\">-0.0286036</td><td style=\"text-align: right;\"> 0.226562  </td><td style=\"text-align: right;\">-0.0495704 </td><td style=\"text-align: right;\"> 0.210443 </td><td style=\"text-align: right;\">-0.0404235</td><td style=\"text-align: right;\">-0.08096   </td><td style=\"text-align: right;\"> 0.00671059</td><td style=\"text-align: right;\">-0.0589752 </td><td style=\"text-align: right;\">0.322194 </td><td style=\"text-align: right;\"> 0.119659  </td><td style=\"text-align: right;\">-0.103645  </td><td style=\"text-align: right;\"> 0.155959 </td><td style=\"text-align: right;\">-0.00611705</td><td style=\"text-align: right;\">-0.140074 </td><td style=\"text-align: right;\">-0.197575 </td><td style=\"text-align: right;\">-0.0354644</td><td style=\"text-align: right;\">-0.0855211</td><td style=\"text-align: right;\">-0.0716693</td><td style=\"text-align: right;\">-0.122682 </td><td style=\"text-align: right;\">-0.234654 </td><td style=\"text-align: right;\">-0.0787138</td></tr>\n",
       "<tr><td>ewww    </td><td style=\"text-align: right;\"> 0.068539 </td><td style=\"text-align: right;\">-0.0462559 </td><td style=\"text-align: right;\">-0.0416332</td><td style=\"text-align: right;\">-0.00445056</td><td style=\"text-align: right;\"> 0.128381  </td><td style=\"text-align: right;\"> 0.0344949</td><td style=\"text-align: right;\">-0.106748 </td><td style=\"text-align: right;\"> 0.0917281 </td><td style=\"text-align: right;\">-0.170282  </td><td style=\"text-align: right;\">-0.1047     </td><td style=\"text-align: right;\"> 0.108475  </td><td style=\"text-align: right;\">-0.259935 </td><td style=\"text-align: right;\"> 0.0545576</td><td style=\"text-align: right;\">-0.0282486 </td><td style=\"text-align: right;\">-0.0691859</td><td style=\"text-align: right;\">-0.0469475</td><td style=\"text-align: right;\">-0.20506 </td><td style=\"text-align: right;\">-0.0885272</td><td style=\"text-align: right;\"> 0.000672814</td><td style=\"text-align: right;\">-0.0176747 </td><td style=\"text-align: right;\">-0.0585048</td><td style=\"text-align: right;\">-0.0029502  </td><td style=\"text-align: right;\">-0.0569778</td><td style=\"text-align: right;\"> 0.271847 </td><td style=\"text-align: right;\"> 0.11274   </td><td style=\"text-align: right;\">-0.230542</td><td style=\"text-align: right;\">-0.0131669</td><td style=\"text-align: right;\">-0.113219 </td><td style=\"text-align: right;\"> 0.0808756 </td><td style=\"text-align: right;\">-0.0539645 </td><td style=\"text-align: right;\"> 0.0113624 </td><td style=\"text-align: right;\">0.131744 </td><td style=\"text-align: right;\">-0.00915676</td><td style=\"text-align: right;\">-0.105216 </td><td style=\"text-align: right;\">-0.187354   </td><td style=\"text-align: right;\"> 0.0686667</td><td style=\"text-align: right;\">-0.145696 </td><td style=\"text-align: right;\"> 0.00505774</td><td style=\"text-align: right;\">-0.132401   </td><td style=\"text-align: right;\">-0.0223457 </td><td style=\"text-align: right;\">-0.147722  </td><td style=\"text-align: right;\">-0.0468061</td><td style=\"text-align: right;\">-0.067503 </td><td style=\"text-align: right;\"> 0.118785 </td><td style=\"text-align: right;\">-0.0499012</td><td style=\"text-align: right;\"> 0.00785271</td><td style=\"text-align: right;\"> 0.331433  </td><td style=\"text-align: right;\"> 0.114537  </td><td style=\"text-align: right;\"> 0.057854 </td><td style=\"text-align: right;\">-0.121898 </td><td style=\"text-align: right;\"> 0.0396491</td><td style=\"text-align: right;\"> 0.224603 </td><td style=\"text-align: right;\">-0.036062  </td><td style=\"text-align: right;\">-0.0897984</td><td style=\"text-align: right;\">-0.259286 </td><td style=\"text-align: right;\"> 0.127687  </td><td style=\"text-align: right;\"> 0.11453    </td><td style=\"text-align: right;\"> 0.0469812</td><td style=\"text-align: right;\"> 0.0691234  </td><td style=\"text-align: right;\"> 0.0386864 </td><td style=\"text-align: right;\">-0.159281   </td><td style=\"text-align: right;\"> 0.246973 </td><td style=\"text-align: right;\"> 0.082596  </td><td style=\"text-align: right;\">-0.0652659</td><td style=\"text-align: right;\">-0.0595669 </td><td style=\"text-align: right;\">-0.0466708</td><td style=\"text-align: right;\">0.122481 </td><td style=\"text-align: right;\">-0.018301   </td><td style=\"text-align: right;\">-0.0162041</td><td style=\"text-align: right;\">-0.0647713</td><td style=\"text-align: right;\"> 0.0501653 </td><td style=\"text-align: right;\"> 0.0182561</td><td style=\"text-align: right;\">-0.113699  </td><td style=\"text-align: right;\">-0.14749  </td><td style=\"text-align: right;\"> 0.21804   </td><td style=\"text-align: right;\">0.161744  </td><td style=\"text-align: right;\"> 0.114552 </td><td style=\"text-align: right;\">-0.0958071</td><td style=\"text-align: right;\">-0.100198  </td><td style=\"text-align: right;\">-0.162641 </td><td style=\"text-align: right;\">-0.0215239 </td><td style=\"text-align: right;\">-0.234849  </td><td style=\"text-align: right;\">-0.0456904</td><td style=\"text-align: right;\"> 0.121818 </td><td style=\"text-align: right;\"> 0.0902874 </td><td style=\"text-align: right;\">-0.0802491 </td><td style=\"text-align: right;\"> 0.0203857 </td><td style=\"text-align: right;\">0.174571 </td><td style=\"text-align: right;\"> 0.104197  </td><td style=\"text-align: right;\"> 0.0892861 </td><td style=\"text-align: right;\">-0.0611715</td><td style=\"text-align: right;\">-0.041141  </td><td style=\"text-align: right;\"> 0.124932 </td><td style=\"text-align: right;\">-0.0416368</td><td style=\"text-align: right;\"> 0.0460198</td><td style=\"text-align: right;\">-0.154841 </td><td style=\"text-align: right;\">-0.069577 </td><td style=\"text-align: right;\"> 0.104059 </td><td style=\"text-align: right;\"> 0.217705 </td><td style=\"text-align: right;\"> 0.0494441</td></tr>\n",
       "<tr><td>maison  </td><td style=\"text-align: right;\">-0.289979 </td><td style=\"text-align: right;\"> 0.169163  </td><td style=\"text-align: right;\"> 0.006032 </td><td style=\"text-align: right;\">-0.177087  </td><td style=\"text-align: right;\"> 0.0241557 </td><td style=\"text-align: right;\">-0.264887 </td><td style=\"text-align: right;\"> 0.149808 </td><td style=\"text-align: right;\">-0.231839  </td><td style=\"text-align: right;\">-0.064154  </td><td style=\"text-align: right;\"> 0.0310675  </td><td style=\"text-align: right;\">-0.0083111 </td><td style=\"text-align: right;\">-0.0465062</td><td style=\"text-align: right;\"> 0.110388 </td><td style=\"text-align: right;\">-0.10176   </td><td style=\"text-align: right;\">-0.164928 </td><td style=\"text-align: right;\">-0.196761 </td><td style=\"text-align: right;\">-0.341664</td><td style=\"text-align: right;\">-0.0462893</td><td style=\"text-align: right;\"> 0.176957   </td><td style=\"text-align: right;\"> 0.183     </td><td style=\"text-align: right;\">-0.0279783</td><td style=\"text-align: right;\">-0.0775897  </td><td style=\"text-align: right;\"> 0.0848298</td><td style=\"text-align: right;\"> 0.241909 </td><td style=\"text-align: right;\"> 0.0637159 </td><td style=\"text-align: right;\">-0.131207</td><td style=\"text-align: right;\"> 0.0397844</td><td style=\"text-align: right;\">-0.150277 </td><td style=\"text-align: right;\">-0.182052  </td><td style=\"text-align: right;\">-0.17861   </td><td style=\"text-align: right;\">-0.291323  </td><td style=\"text-align: right;\">0.0487869</td><td style=\"text-align: right;\"> 0.456951  </td><td style=\"text-align: right;\">-0.0517143</td><td style=\"text-align: right;\">-0.170853   </td><td style=\"text-align: right;\"> 0.254424 </td><td style=\"text-align: right;\"> 0.0500875</td><td style=\"text-align: right;\">-0.123455  </td><td style=\"text-align: right;\"> 0.0699369  </td><td style=\"text-align: right;\">-0.0892547 </td><td style=\"text-align: right;\"> 0.132774  </td><td style=\"text-align: right;\">-0.384358 </td><td style=\"text-align: right;\">-0.160279 </td><td style=\"text-align: right;\"> 0.0615154</td><td style=\"text-align: right;\">-0.0648299</td><td style=\"text-align: right;\">-0.186015  </td><td style=\"text-align: right;\">-0.00326267</td><td style=\"text-align: right;\"> 0.115761  </td><td style=\"text-align: right;\"> 0.0726939</td><td style=\"text-align: right;\"> 0.090125 </td><td style=\"text-align: right;\"> 0.228155 </td><td style=\"text-align: right;\"> 0.172673 </td><td style=\"text-align: right;\">-0.181204  </td><td style=\"text-align: right;\">-0.0113627</td><td style=\"text-align: right;\">-0.0139863</td><td style=\"text-align: right;\"> 0.0960489 </td><td style=\"text-align: right;\"> 0.219129   </td><td style=\"text-align: right;\">-0.336242 </td><td style=\"text-align: right;\"> 0.0603275  </td><td style=\"text-align: right;\">-0.106502  </td><td style=\"text-align: right;\">-0.184161   </td><td style=\"text-align: right;\">-0.146938 </td><td style=\"text-align: right;\"> 0.0617875 </td><td style=\"text-align: right;\">-0.306685 </td><td style=\"text-align: right;\">-0.0928391 </td><td style=\"text-align: right;\"> 0.033312 </td><td style=\"text-align: right;\">0.0508338</td><td style=\"text-align: right;\"> 0.0103684  </td><td style=\"text-align: right;\"> 0.192803 </td><td style=\"text-align: right;\"> 0.0146657</td><td style=\"text-align: right;\"> 0.398904  </td><td style=\"text-align: right;\"> 0.349051 </td><td style=\"text-align: right;\"> 0.0227408 </td><td style=\"text-align: right;\">-0.161857 </td><td style=\"text-align: right;\">-0.155934  </td><td style=\"text-align: right;\">0.0926693 </td><td style=\"text-align: right;\"> 0.165384 </td><td style=\"text-align: right;\"> 0.0278373</td><td style=\"text-align: right;\">-0.132937  </td><td style=\"text-align: right;\"> 0.0750657</td><td style=\"text-align: right;\"> 0.0289903 </td><td style=\"text-align: right;\"> 0.0176178 </td><td style=\"text-align: right;\">-0.362219 </td><td style=\"text-align: right;\">-0.0973476</td><td style=\"text-align: right;\">-0.0980356 </td><td style=\"text-align: right;\"> 0.0556687 </td><td style=\"text-align: right;\">-0.0244124 </td><td style=\"text-align: right;\">0.208931 </td><td style=\"text-align: right;\">-0.138292  </td><td style=\"text-align: right;\">-0.0407635 </td><td style=\"text-align: right;\"> 0.101224 </td><td style=\"text-align: right;\"> 0.0265536 </td><td style=\"text-align: right;\"> 0.157794 </td><td style=\"text-align: right;\"> 0.112174 </td><td style=\"text-align: right;\">-0.215991 </td><td style=\"text-align: right;\">-0.0788387</td><td style=\"text-align: right;\"> 0.0299026</td><td style=\"text-align: right;\">-0.0637192</td><td style=\"text-align: right;\">-0.355323 </td><td style=\"text-align: right;\"> 0.23412  </td></tr>\n",
       "<tr><td>mattered</td><td style=\"text-align: right;\"> 0.274381 </td><td style=\"text-align: right;\"> 0.0550463 </td><td style=\"text-align: right;\"> 0.0353203</td><td style=\"text-align: right;\">-0.0382782 </td><td style=\"text-align: right;\">-0.0107023 </td><td style=\"text-align: right;\"> 0.197846 </td><td style=\"text-align: right;\">-0.156119 </td><td style=\"text-align: right;\">-0.0404262 </td><td style=\"text-align: right;\">-0.449876  </td><td style=\"text-align: right;\"> 0.000235043</td><td style=\"text-align: right;\">-0.0279125 </td><td style=\"text-align: right;\">-0.314378 </td><td style=\"text-align: right;\"> 0.218668 </td><td style=\"text-align: right;\"> 0.0275002 </td><td style=\"text-align: right;\">-0.301481 </td><td style=\"text-align: right;\"> 0.129319 </td><td style=\"text-align: right;\"> 0.136322</td><td style=\"text-align: right;\">-0.157386 </td><td style=\"text-align: right;\">-0.0262791  </td><td style=\"text-align: right;\"> 0.192725  </td><td style=\"text-align: right;\">-0.0592806</td><td style=\"text-align: right;\"> 0.0810037  </td><td style=\"text-align: right;\">-0.260045 </td><td style=\"text-align: right;\"> 0.155481 </td><td style=\"text-align: right;\">-0.0999971 </td><td style=\"text-align: right;\">-0.110468</td><td style=\"text-align: right;\"> 0.149984 </td><td style=\"text-align: right;\">-0.10257  </td><td style=\"text-align: right;\"> 0.176084  </td><td style=\"text-align: right;\"> 0.0377611 </td><td style=\"text-align: right;\"> 0.0293815 </td><td style=\"text-align: right;\">0.0626808</td><td style=\"text-align: right;\"> 0.0816973 </td><td style=\"text-align: right;\">-0.22986  </td><td style=\"text-align: right;\">-0.418298   </td><td style=\"text-align: right;\"> 0.0231585</td><td style=\"text-align: right;\"> 0.123523 </td><td style=\"text-align: right;\">-0.143647  </td><td style=\"text-align: right;\">-0.142091   </td><td style=\"text-align: right;\">-0.248635  </td><td style=\"text-align: right;\">-0.132844  </td><td style=\"text-align: right;\">-0.210343 </td><td style=\"text-align: right;\">-0.181185 </td><td style=\"text-align: right;\"> 0.0473491</td><td style=\"text-align: right;\">-0.0343924</td><td style=\"text-align: right;\"> 0.0131408 </td><td style=\"text-align: right;\"> 0.200358  </td><td style=\"text-align: right;\"> 0.217598  </td><td style=\"text-align: right;\"> 0.0615135</td><td style=\"text-align: right;\">-0.0125135</td><td style=\"text-align: right;\"> 0.135781 </td><td style=\"text-align: right;\"> 0.214912 </td><td style=\"text-align: right;\"> 0.00731329</td><td style=\"text-align: right;\">-0.0656363</td><td style=\"text-align: right;\">-0.0590974</td><td style=\"text-align: right;\"> 0.168444  </td><td style=\"text-align: right;\">-0.000991297</td><td style=\"text-align: right;\"> 0.123965 </td><td style=\"text-align: right;\">-0.0219649  </td><td style=\"text-align: right;\"> 0.19491   </td><td style=\"text-align: right;\">-0.154729   </td><td style=\"text-align: right;\"> 0.275259 </td><td style=\"text-align: right;\">-0.0389916 </td><td style=\"text-align: right;\">-0.0293418</td><td style=\"text-align: right;\">-0.0648304 </td><td style=\"text-align: right;\"> 0.0583372</td><td style=\"text-align: right;\">0.250267 </td><td style=\"text-align: right;\">-0.165135   </td><td style=\"text-align: right;\">-0.349084 </td><td style=\"text-align: right;\"> 0.0150539</td><td style=\"text-align: right;\">-0.00929538</td><td style=\"text-align: right;\"> 0.0978479</td><td style=\"text-align: right;\"> 0.196239  </td><td style=\"text-align: right;\">-0.0682382</td><td style=\"text-align: right;\">-0.136349  </td><td style=\"text-align: right;\">0.00723983</td><td style=\"text-align: right;\">-0.0534392</td><td style=\"text-align: right;\"> 0.0195949</td><td style=\"text-align: right;\">-0.267162  </td><td style=\"text-align: right;\">-0.116516 </td><td style=\"text-align: right;\"> 0.12031   </td><td style=\"text-align: right;\">-0.00797476</td><td style=\"text-align: right;\"> 0.0761155</td><td style=\"text-align: right;\"> 0.238632 </td><td style=\"text-align: right;\">-0.0915478 </td><td style=\"text-align: right;\">-0.167135  </td><td style=\"text-align: right;\"> 0.0262249 </td><td style=\"text-align: right;\">0.224154 </td><td style=\"text-align: right;\"> 0.116069  </td><td style=\"text-align: right;\"> 0.193935  </td><td style=\"text-align: right;\"> 0.0117115</td><td style=\"text-align: right;\">-0.0878593 </td><td style=\"text-align: right;\"> 0.258158 </td><td style=\"text-align: right;\"> 0.0383405</td><td style=\"text-align: right;\">-0.170441 </td><td style=\"text-align: right;\">-0.31728  </td><td style=\"text-align: right;\">-0.244868 </td><td style=\"text-align: right;\"> 0.232622 </td><td style=\"text-align: right;\"> 0.17507  </td><td style=\"text-align: right;\"> 0.212418 </td></tr>\n",
       "<tr><td>helpings</td><td style=\"text-align: right;\"> 0.0390433</td><td style=\"text-align: right;\">-0.0155592 </td><td style=\"text-align: right;\">-0.138459 </td><td style=\"text-align: right;\">-0.114338  </td><td style=\"text-align: right;\">-0.0792182 </td><td style=\"text-align: right;\"> 0.0683478</td><td style=\"text-align: right;\"> 0.0440574</td><td style=\"text-align: right;\">-0.332687  </td><td style=\"text-align: right;\">-0.0605387 </td><td style=\"text-align: right;\">-0.144529   </td><td style=\"text-align: right;\">-0.0654565 </td><td style=\"text-align: right;\">-0.0912629</td><td style=\"text-align: right;\"> 0.0379746</td><td style=\"text-align: right;\">-0.00858918</td><td style=\"text-align: right;\">-0.069189 </td><td style=\"text-align: right;\"> 0.0234908</td><td style=\"text-align: right;\">-0.2638  </td><td style=\"text-align: right;\">-0.0937982</td><td style=\"text-align: right;\">-0.126585   </td><td style=\"text-align: right;\"> 0.222164  </td><td style=\"text-align: right;\">-0.200178 </td><td style=\"text-align: right;\">-0.111258   </td><td style=\"text-align: right;\">-0.0474295</td><td style=\"text-align: right;\"> 0.277504 </td><td style=\"text-align: right;\"> 0.0843542 </td><td style=\"text-align: right;\">-0.156032</td><td style=\"text-align: right;\"> 0.200715 </td><td style=\"text-align: right;\">-0.0551043</td><td style=\"text-align: right;\"> 0.0707908 </td><td style=\"text-align: right;\">-0.025418  </td><td style=\"text-align: right;\"> 0.00948741</td><td style=\"text-align: right;\">0.0710052</td><td style=\"text-align: right;\"> 0.19967   </td><td style=\"text-align: right;\"> 0.0712487</td><td style=\"text-align: right;\"> 0.000984599</td><td style=\"text-align: right;\">-0.123467 </td><td style=\"text-align: right;\"> 0.18988  </td><td style=\"text-align: right;\">-0.00411557</td><td style=\"text-align: right;\"> 0.0724321  </td><td style=\"text-align: right;\">-0.238926  </td><td style=\"text-align: right;\"> 0.128333  </td><td style=\"text-align: right;\">-0.136855 </td><td style=\"text-align: right;\">-0.0450768</td><td style=\"text-align: right;\"> 0.18759  </td><td style=\"text-align: right;\"> 0.234694 </td><td style=\"text-align: right;\"> 0.15385   </td><td style=\"text-align: right;\"> 0.147751  </td><td style=\"text-align: right;\"> 0.293491  </td><td style=\"text-align: right;\"> 0.196639 </td><td style=\"text-align: right;\">-0.300522 </td><td style=\"text-align: right;\">-0.0607152</td><td style=\"text-align: right;\">-0.0750766</td><td style=\"text-align: right;\">-0.180523  </td><td style=\"text-align: right;\"> 0.0250818</td><td style=\"text-align: right;\">-0.222977 </td><td style=\"text-align: right;\"> 0.121454  </td><td style=\"text-align: right;\">-0.124195   </td><td style=\"text-align: right;\"> 0.0482081</td><td style=\"text-align: right;\">-0.083241   </td><td style=\"text-align: right;\"> 0.0696714 </td><td style=\"text-align: right;\">-0.149004   </td><td style=\"text-align: right;\"> 0.0764636</td><td style=\"text-align: right;\">-0.00885583</td><td style=\"text-align: right;\"> 0.0315414</td><td style=\"text-align: right;\">-0.152724  </td><td style=\"text-align: right;\"> 0.19063  </td><td style=\"text-align: right;\">0.0685577</td><td style=\"text-align: right;\">-0.0205487  </td><td style=\"text-align: right;\">-0.180578 </td><td style=\"text-align: right;\">-0.109965 </td><td style=\"text-align: right;\">-0.0457764 </td><td style=\"text-align: right;\">-0.0337649</td><td style=\"text-align: right;\">-0.0579013 </td><td style=\"text-align: right;\"> 0.0525709</td><td style=\"text-align: right;\"> 0.00262051</td><td style=\"text-align: right;\">0.099265  </td><td style=\"text-align: right;\"> 0.0614285</td><td style=\"text-align: right;\">-0.0620926</td><td style=\"text-align: right;\"> 0.131866  </td><td style=\"text-align: right;\">-0.14607  </td><td style=\"text-align: right;\"> 0.0110167 </td><td style=\"text-align: right;\">-0.147919  </td><td style=\"text-align: right;\"> 0.18182  </td><td style=\"text-align: right;\"> 0.102094 </td><td style=\"text-align: right;\"> 0.138477  </td><td style=\"text-align: right;\">-0.0380828 </td><td style=\"text-align: right;\"> 0.0951751 </td><td style=\"text-align: right;\">0.320566 </td><td style=\"text-align: right;\"> 0.0658324 </td><td style=\"text-align: right;\"> 0.145837  </td><td style=\"text-align: right;\"> 0.0198343</td><td style=\"text-align: right;\"> 0.0436906 </td><td style=\"text-align: right;\"> 0.0188657</td><td style=\"text-align: right;\"> 0.11277  </td><td style=\"text-align: right;\"> 0.174172 </td><td style=\"text-align: right;\">-0.274679 </td><td style=\"text-align: right;\">-0.0854576</td><td style=\"text-align: right;\">-0.0746066</td><td style=\"text-align: right;\"> 0.0625108</td><td style=\"text-align: right;\"> 0.0102633</td></tr>\n",
       "<tr><td>twitter </td><td style=\"text-align: right;\">-0.0150751</td><td style=\"text-align: right;\">-0.068822  </td><td style=\"text-align: right;\">-0.238189 </td><td style=\"text-align: right;\"> 0.0396622 </td><td style=\"text-align: right;\"> 0.204311  </td><td style=\"text-align: right;\">-0.327434 </td><td style=\"text-align: right;\">-0.113241 </td><td style=\"text-align: right;\"> 0.0526229 </td><td style=\"text-align: right;\">-0.00695458</td><td style=\"text-align: right;\"> 0.0816857  </td><td style=\"text-align: right;\">-0.00340349</td><td style=\"text-align: right;\">-0.208909 </td><td style=\"text-align: right;\"> 0.0511943</td><td style=\"text-align: right;\"> 0.033207  </td><td style=\"text-align: right;\">-0.131939 </td><td style=\"text-align: right;\"> 0.108832 </td><td style=\"text-align: right;\">-0.102225</td><td style=\"text-align: right;\"> 0.113678 </td><td style=\"text-align: right;\">-0.0584384  </td><td style=\"text-align: right;\">-0.0532139 </td><td style=\"text-align: right;\"> 0.139058 </td><td style=\"text-align: right;\"> 8.92737e-06</td><td style=\"text-align: right;\">-0.100168 </td><td style=\"text-align: right;\"> 0.0960729</td><td style=\"text-align: right;\">-0.0232035 </td><td style=\"text-align: right;\">-0.108477</td><td style=\"text-align: right;\"> 0.147933 </td><td style=\"text-align: right;\">-0.0261965</td><td style=\"text-align: right;\"> 0.130479  </td><td style=\"text-align: right;\"> 0.0643934 </td><td style=\"text-align: right;\">-0.541408  </td><td style=\"text-align: right;\">0.130445 </td><td style=\"text-align: right;\"> 0.343821  </td><td style=\"text-align: right;\"> 0.0324991</td><td style=\"text-align: right;\">-0.404471   </td><td style=\"text-align: right;\">-0.10102  </td><td style=\"text-align: right;\"> 0.247756 </td><td style=\"text-align: right;\"> 0.0488258 </td><td style=\"text-align: right;\">-0.0378726  </td><td style=\"text-align: right;\">-0.240929  </td><td style=\"text-align: right;\"> 0.271999  </td><td style=\"text-align: right;\">-0.231759 </td><td style=\"text-align: right;\">-0.11763  </td><td style=\"text-align: right;\"> 0.110138 </td><td style=\"text-align: right;\">-0.0141566</td><td style=\"text-align: right;\"> 0.194803  </td><td style=\"text-align: right;\">-0.0378739 </td><td style=\"text-align: right;\">-0.00439292</td><td style=\"text-align: right;\">-0.0474187</td><td style=\"text-align: right;\"> 0.0333806</td><td style=\"text-align: right;\">-0.0448061</td><td style=\"text-align: right;\"> 0.191662 </td><td style=\"text-align: right;\"> 0.123821  </td><td style=\"text-align: right;\"> 0.184532 </td><td style=\"text-align: right;\"> 0.0669246</td><td style=\"text-align: right;\"> 0.223208  </td><td style=\"text-align: right;\"> 0.150995   </td><td style=\"text-align: right;\">-0.243084 </td><td style=\"text-align: right;\">-0.0414002  </td><td style=\"text-align: right;\">-0.0904782 </td><td style=\"text-align: right;\">-0.000136854</td><td style=\"text-align: right;\">-0.123548 </td><td style=\"text-align: right;\">-0.0310636 </td><td style=\"text-align: right;\">-0.131913 </td><td style=\"text-align: right;\">-0.0976545 </td><td style=\"text-align: right;\">-0.113284 </td><td style=\"text-align: right;\">0.0899025</td><td style=\"text-align: right;\"> 0.000792389</td><td style=\"text-align: right;\">-0.119882 </td><td style=\"text-align: right;\"> 0.0242807</td><td style=\"text-align: right;\"> 0.00346429</td><td style=\"text-align: right;\"> 0.276387 </td><td style=\"text-align: right;\">-0.129408  </td><td style=\"text-align: right;\">-0.193185 </td><td style=\"text-align: right;\"> 0.352576  </td><td style=\"text-align: right;\">0.0437841 </td><td style=\"text-align: right;\"> 0.21162  </td><td style=\"text-align: right;\"> 0.0778082</td><td style=\"text-align: right;\">-0.114165  </td><td style=\"text-align: right;\">-0.113964 </td><td style=\"text-align: right;\">-0.00798536</td><td style=\"text-align: right;\">-0.0090893 </td><td style=\"text-align: right;\"> 0.212968 </td><td style=\"text-align: right;\">-0.0503396</td><td style=\"text-align: right;\">-0.103868  </td><td style=\"text-align: right;\">-0.0387682 </td><td style=\"text-align: right;\">-0.00144847</td><td style=\"text-align: right;\">0.12678  </td><td style=\"text-align: right;\"> 0.121469  </td><td style=\"text-align: right;\"> 0.281371  </td><td style=\"text-align: right;\">-0.0352834</td><td style=\"text-align: right;\">-0.25018   </td><td style=\"text-align: right;\">-0.0290249</td><td style=\"text-align: right;\">-0.0536567</td><td style=\"text-align: right;\">-0.333544 </td><td style=\"text-align: right;\">-0.0858983</td><td style=\"text-align: right;\">-0.187908 </td><td style=\"text-align: right;\">-0.0653921</td><td style=\"text-align: right;\">-0.193593 </td><td style=\"text-align: right;\"> 0.338833 </td></tr>\n",
       "<tr><td>aah     </td><td style=\"text-align: right;\"> 0.0406429</td><td style=\"text-align: right;\"> 0.0893648 </td><td style=\"text-align: right;\">-0.0657863</td><td style=\"text-align: right;\"> 0.0564976 </td><td style=\"text-align: right;\">-0.0425922 </td><td style=\"text-align: right;\">-0.111173 </td><td style=\"text-align: right;\">-0.0886639</td><td style=\"text-align: right;\">-0.076658  </td><td style=\"text-align: right;\">-0.0387409 </td><td style=\"text-align: right;\"> 0.0199425  </td><td style=\"text-align: right;\">-0.226028  </td><td style=\"text-align: right;\">-0.0858221</td><td style=\"text-align: right;\">-0.0529386</td><td style=\"text-align: right;\"> 0.0709803 </td><td style=\"text-align: right;\">-0.0872477</td><td style=\"text-align: right;\"> 0.0216034</td><td style=\"text-align: right;\">-0.172561</td><td style=\"text-align: right;\">-0.196841 </td><td style=\"text-align: right;\"> 0.105099   </td><td style=\"text-align: right;\"> 0.0647421 </td><td style=\"text-align: right;\"> 0.0634396</td><td style=\"text-align: right;\">-0.125906   </td><td style=\"text-align: right;\"> 0.0302441</td><td style=\"text-align: right;\"> 0.404088 </td><td style=\"text-align: right;\"> 0.0804395 </td><td style=\"text-align: right;\">-0.342765</td><td style=\"text-align: right;\">-0.113842 </td><td style=\"text-align: right;\">-0.155215 </td><td style=\"text-align: right;\">-0.083185  </td><td style=\"text-align: right;\">-0.00201934</td><td style=\"text-align: right;\">-0.0534819 </td><td style=\"text-align: right;\">0.128967 </td><td style=\"text-align: right;\"> 0.230612  </td><td style=\"text-align: right;\">-0.218372 </td><td style=\"text-align: right;\">-0.289373   </td><td style=\"text-align: right;\"> 0.0783989</td><td style=\"text-align: right;\"> 0.203016 </td><td style=\"text-align: right;\">-0.242749  </td><td style=\"text-align: right;\">-0.154454   </td><td style=\"text-align: right;\">-0.0876673 </td><td style=\"text-align: right;\">-0.0682489 </td><td style=\"text-align: right;\">-0.135531 </td><td style=\"text-align: right;\">-0.101073 </td><td style=\"text-align: right;\"> 0.207244 </td><td style=\"text-align: right;\"> 0.0594124</td><td style=\"text-align: right;\">-0.0350438 </td><td style=\"text-align: right;\"> 0.216935  </td><td style=\"text-align: right;\"> 0.194379  </td><td style=\"text-align: right;\">-0.0989273</td><td style=\"text-align: right;\">-0.0110285</td><td style=\"text-align: right;\">-0.104243 </td><td style=\"text-align: right;\"> 0.148611 </td><td style=\"text-align: right;\"> 0.00312595</td><td style=\"text-align: right;\"> 0.112943 </td><td style=\"text-align: right;\">-0.0731773</td><td style=\"text-align: right;\"> 0.110687  </td><td style=\"text-align: right;\"> 0.103946   </td><td style=\"text-align: right;\"> 0.0868698</td><td style=\"text-align: right;\"> 0.000352711</td><td style=\"text-align: right;\">-0.196692  </td><td style=\"text-align: right;\">-0.0419132  </td><td style=\"text-align: right;\"> 0.383628 </td><td style=\"text-align: right;\">-0.152204  </td><td style=\"text-align: right;\">-0.0525863</td><td style=\"text-align: right;\">-0.193843  </td><td style=\"text-align: right;\"> 0.0118104</td><td style=\"text-align: right;\">0.0551949</td><td style=\"text-align: right;\"> 0.072712   </td><td style=\"text-align: right;\">-0.194626 </td><td style=\"text-align: right;\">-0.289196 </td><td style=\"text-align: right;\">-0.0390357 </td><td style=\"text-align: right;\"> 0.192373 </td><td style=\"text-align: right;\"> 0.00818954</td><td style=\"text-align: right;\">-0.214108 </td><td style=\"text-align: right;\"> 0.243537  </td><td style=\"text-align: right;\">0.107218  </td><td style=\"text-align: right;\"> 0.0944513</td><td style=\"text-align: right;\">-0.0171403</td><td style=\"text-align: right;\">-0.134837  </td><td style=\"text-align: right;\"> 0.178731 </td><td style=\"text-align: right;\">-0.0677849 </td><td style=\"text-align: right;\">-0.0926632 </td><td style=\"text-align: right;\">-0.140042 </td><td style=\"text-align: right;\"> 0.160481 </td><td style=\"text-align: right;\">-0.00586356</td><td style=\"text-align: right;\">-0.0527971 </td><td style=\"text-align: right;\"> 0.0979877 </td><td style=\"text-align: right;\">0.0718918</td><td style=\"text-align: right;\">-0.119965  </td><td style=\"text-align: right;\"> 0.0231857 </td><td style=\"text-align: right;\">-0.108219 </td><td style=\"text-align: right;\"> 0.0792375 </td><td style=\"text-align: right;\"> 0.16138  </td><td style=\"text-align: right;\">-0.18321  </td><td style=\"text-align: right;\">-0.114415 </td><td style=\"text-align: right;\">-0.0634375</td><td style=\"text-align: right;\"> 0.0863482</td><td style=\"text-align: right;\">-0.134665 </td><td style=\"text-align: right;\"> 0.191097 </td><td style=\"text-align: right;\"> 0.30632  </td></tr>\n",
       "<tr><td>reverted</td><td style=\"text-align: right;\"> 0.0252691</td><td style=\"text-align: right;\">-0.0824147 </td><td style=\"text-align: right;\">-0.27541  </td><td style=\"text-align: right;\"> 0.311975  </td><td style=\"text-align: right;\"> 0.00111373</td><td style=\"text-align: right;\">-0.194537 </td><td style=\"text-align: right;\">-0.256704 </td><td style=\"text-align: right;\">-0.00189706</td><td style=\"text-align: right;\"> 0.0582624 </td><td style=\"text-align: right;\"> 0.0226914  </td><td style=\"text-align: right;\"> 0.028508  </td><td style=\"text-align: right;\">-0.0899842</td><td style=\"text-align: right;\">-0.0867006</td><td style=\"text-align: right;\">-0.209391  </td><td style=\"text-align: right;\">-0.175461 </td><td style=\"text-align: right;\">-0.0382176</td><td style=\"text-align: right;\">-0.160437</td><td style=\"text-align: right;\">-0.0435599</td><td style=\"text-align: right;\"> 0.0883361  </td><td style=\"text-align: right;\"> 0.113051  </td><td style=\"text-align: right;\">-0.0826899</td><td style=\"text-align: right;\"> 0.128587   </td><td style=\"text-align: right;\">-0.271862 </td><td style=\"text-align: right;\"> 0.137426 </td><td style=\"text-align: right;\"> 0.0439247 </td><td style=\"text-align: right;\">-0.264766</td><td style=\"text-align: right;\">-0.101632 </td><td style=\"text-align: right;\">-0.0682671</td><td style=\"text-align: right;\"> 0.192259  </td><td style=\"text-align: right;\"> 0.0622791 </td><td style=\"text-align: right;\">-0.109962  </td><td style=\"text-align: right;\">0.134397 </td><td style=\"text-align: right;\"> 0.334779  </td><td style=\"text-align: right;\">-0.286264 </td><td style=\"text-align: right;\">-0.184024   </td><td style=\"text-align: right;\">-0.21353  </td><td style=\"text-align: right;\">-0.133456 </td><td style=\"text-align: right;\">-0.12405   </td><td style=\"text-align: right;\"> 0.0877759  </td><td style=\"text-align: right;\"> 0.148247  </td><td style=\"text-align: right;\"> 0.0810077 </td><td style=\"text-align: right;\">-0.231423 </td><td style=\"text-align: right;\">-0.107783 </td><td style=\"text-align: right;\"> 0.176067 </td><td style=\"text-align: right;\">-0.0418385</td><td style=\"text-align: right;\"> 0.267921  </td><td style=\"text-align: right;\"> 0.155054  </td><td style=\"text-align: right;\"> 0.283593  </td><td style=\"text-align: right;\"> 0.157898 </td><td style=\"text-align: right;\">-0.251577 </td><td style=\"text-align: right;\">-0.229369 </td><td style=\"text-align: right;\"> 0.210534 </td><td style=\"text-align: right;\">-0.105282  </td><td style=\"text-align: right;\"> 0.111781 </td><td style=\"text-align: right;\"> 0.0532292</td><td style=\"text-align: right;\"> 0.154733  </td><td style=\"text-align: right;\"> 0.0373037  </td><td style=\"text-align: right;\">-0.056888 </td><td style=\"text-align: right;\"> 0.0851393  </td><td style=\"text-align: right;\"> 0.0335398 </td><td style=\"text-align: right;\">-0.129189   </td><td style=\"text-align: right;\"> 0.115467 </td><td style=\"text-align: right;\"> 0.324975  </td><td style=\"text-align: right;\"> 0.0215286</td><td style=\"text-align: right;\">-0.345555  </td><td style=\"text-align: right;\"> 0.142545 </td><td style=\"text-align: right;\">0.13626  </td><td style=\"text-align: right;\"> 0.149194   </td><td style=\"text-align: right;\"> 0.0804493</td><td style=\"text-align: right;\">-0.159101 </td><td style=\"text-align: right;\"> 0.063102  </td><td style=\"text-align: right;\"> 0.0131401</td><td style=\"text-align: right;\">-0.104037  </td><td style=\"text-align: right;\"> 0.190185 </td><td style=\"text-align: right;\"> 0.0707634 </td><td style=\"text-align: right;\">0.0343417 </td><td style=\"text-align: right;\"> 0.126034 </td><td style=\"text-align: right;\"> 0.0362473</td><td style=\"text-align: right;\"> 0.0515476 </td><td style=\"text-align: right;\">-0.311201 </td><td style=\"text-align: right;\">-0.0724057 </td><td style=\"text-align: right;\">-0.150895  </td><td style=\"text-align: right;\">-0.028298 </td><td style=\"text-align: right;\"> 0.196965 </td><td style=\"text-align: right;\"> 0.188764  </td><td style=\"text-align: right;\"> 0.00573541</td><td style=\"text-align: right;\">-0.0229634 </td><td style=\"text-align: right;\">0.155451 </td><td style=\"text-align: right;\"> 0.00550718</td><td style=\"text-align: right;\"> 0.0510489 </td><td style=\"text-align: right;\">-0.11014  </td><td style=\"text-align: right;\"> 0.0377057 </td><td style=\"text-align: right;\">-0.0866596</td><td style=\"text-align: right;\">-0.115096 </td><td style=\"text-align: right;\">-0.124712 </td><td style=\"text-align: right;\">-0.253272 </td><td style=\"text-align: right;\">-0.0873338</td><td style=\"text-align: right;\"> 0.0243141</td><td style=\"text-align: right;\">-0.0436928</td><td style=\"text-align: right;\"> 0.0944612</td></tr>\n",
       "<tr><td>mroe    </td><td style=\"text-align: right;\"> 0.0340926</td><td style=\"text-align: right;\">-0.0265989 </td><td style=\"text-align: right;\"> 0.0974076</td><td style=\"text-align: right;\">-0.0348422 </td><td style=\"text-align: right;\"> 0.211298  </td><td style=\"text-align: right;\">-0.112189 </td><td style=\"text-align: right;\"> 0.0643613</td><td style=\"text-align: right;\"> 0.0473146 </td><td style=\"text-align: right;\"> 0.087225  </td><td style=\"text-align: right;\"> 0.00942656 </td><td style=\"text-align: right;\">-0.158979  </td><td style=\"text-align: right;\">-0.0708187</td><td style=\"text-align: right;\">-0.134106 </td><td style=\"text-align: right;\">-0.0992037 </td><td style=\"text-align: right;\">-0.230765 </td><td style=\"text-align: right;\">-0.0763424</td><td style=\"text-align: right;\">-0.139299</td><td style=\"text-align: right;\"> 0.017657 </td><td style=\"text-align: right;\">-0.14665    </td><td style=\"text-align: right;\"> 0.116994  </td><td style=\"text-align: right;\">-0.0257815</td><td style=\"text-align: right;\">-0.0568648  </td><td style=\"text-align: right;\">-0.236342 </td><td style=\"text-align: right;\">-0.154006 </td><td style=\"text-align: right;\"> 0.174756  </td><td style=\"text-align: right;\">-0.279128</td><td style=\"text-align: right;\">-0.0210866</td><td style=\"text-align: right;\">-0.164085 </td><td style=\"text-align: right;\"> 0.126686  </td><td style=\"text-align: right;\"> 0.154067  </td><td style=\"text-align: right;\">-0.0790637 </td><td style=\"text-align: right;\">0.207815 </td><td style=\"text-align: right;\"> 0.0677139 </td><td style=\"text-align: right;\">-0.22707  </td><td style=\"text-align: right;\">-0.167341   </td><td style=\"text-align: right;\"> 0.0296498</td><td style=\"text-align: right;\"> 0.0655215</td><td style=\"text-align: right;\">-0.0464321 </td><td style=\"text-align: right;\">-0.000336341</td><td style=\"text-align: right;\">-0.251125  </td><td style=\"text-align: right;\">-0.054072  </td><td style=\"text-align: right;\">-0.0112269</td><td style=\"text-align: right;\">-0.281995 </td><td style=\"text-align: right;\"> 0.149568 </td><td style=\"text-align: right;\"> 0.110092 </td><td style=\"text-align: right;\"> 0.0797227 </td><td style=\"text-align: right;\"> 0.0543569 </td><td style=\"text-align: right;\"> 0.174845  </td><td style=\"text-align: right;\"> 0.0175344</td><td style=\"text-align: right;\">-0.306261 </td><td style=\"text-align: right;\">-0.0607176</td><td style=\"text-align: right;\"> 0.0431486</td><td style=\"text-align: right;\">-0.0637657 </td><td style=\"text-align: right;\"> 0.0171297</td><td style=\"text-align: right;\">-0.126239 </td><td style=\"text-align: right;\"> 0.200533  </td><td style=\"text-align: right;\"> 0.141691   </td><td style=\"text-align: right;\">-0.0803596</td><td style=\"text-align: right;\">-0.0738233  </td><td style=\"text-align: right;\">-0.0304815 </td><td style=\"text-align: right;\">-0.104735   </td><td style=\"text-align: right;\"> 0.231658 </td><td style=\"text-align: right;\">-0.00353695</td><td style=\"text-align: right;\">-0.167116 </td><td style=\"text-align: right;\"> 0.00702773</td><td style=\"text-align: right;\">-0.011817 </td><td style=\"text-align: right;\">0.132793 </td><td style=\"text-align: right;\"> 0.0169402  </td><td style=\"text-align: right;\">-0.320226 </td><td style=\"text-align: right;\">-0.227025 </td><td style=\"text-align: right;\"> 0.0135234 </td><td style=\"text-align: right;\">-0.0090925</td><td style=\"text-align: right;\"> 0.236399  </td><td style=\"text-align: right;\">-0.0736447</td><td style=\"text-align: right;\"> 0.0936776 </td><td style=\"text-align: right;\">0.296836  </td><td style=\"text-align: right;\"> 0.183964 </td><td style=\"text-align: right;\"> 0.0621383</td><td style=\"text-align: right;\">-0.12781   </td><td style=\"text-align: right;\">-0.172119 </td><td style=\"text-align: right;\">-0.233252  </td><td style=\"text-align: right;\">-0.006082  </td><td style=\"text-align: right;\">-0.0878857</td><td style=\"text-align: right;\"> 0.352891 </td><td style=\"text-align: right;\"> 0.0959931 </td><td style=\"text-align: right;\">-0.0464875 </td><td style=\"text-align: right;\"> 0.114597  </td><td style=\"text-align: right;\">0.0290032</td><td style=\"text-align: right;\"> 0.106637  </td><td style=\"text-align: right;\">-0.00581528</td><td style=\"text-align: right;\"> 0.151288 </td><td style=\"text-align: right;\"> 0.0302763 </td><td style=\"text-align: right;\"> 0.136072 </td><td style=\"text-align: right;\">-0.204983 </td><td style=\"text-align: right;\">-0.206968 </td><td style=\"text-align: right;\">-0.233521 </td><td style=\"text-align: right;\">-0.087321 </td><td style=\"text-align: right;\"> 0.123754 </td><td style=\"text-align: right;\"> 0.05946  </td><td style=\"text-align: right;\"> 0.408901 </td></tr>\n",
       "</tbody>\n",
       "</table>"
      ]
     },
     "metadata": {},
     "output_type": "display_data"
    },
    {
     "data": {
      "text/plain": []
     },
     "execution_count": 22,
     "metadata": {},
     "output_type": "execute_result"
    }
   ],
   "source": [
    "word_embeddings = w2v_model.to_frame()\n",
    "word_embeddings.head()"
   ]
  },
  {
   "cell_type": "code",
   "execution_count": 23,
   "metadata": {},
   "outputs": [
    {
     "name": "stdout",
     "output_type": "stream",
     "text": [
      "kmeans Model Build progress: |████████████████████████████████████████████| 100%\n"
     ]
    }
   ],
   "source": [
    "from h2o.estimators import H2OKMeansEstimator\n",
    "\n",
    "kmeans = H2OKMeansEstimator(model_id = \"word_segments.hex\",\n",
    "                            estimate_k = True, k = 100, # Max number of clusters\n",
    "                            seed = 1234)\n",
    "\n",
    "x = list(set(word_embeddings.col_names) - set([\"Word\"]))\n",
    "kmeans.train(x = x, training_frame = word_embeddings)"
   ]
  },
  {
   "cell_type": "code",
   "execution_count": 24,
   "metadata": {},
   "outputs": [
    {
     "name": "stdout",
     "output_type": "stream",
     "text": [
      "Centroid Statistics: \n"
     ]
    },
    {
     "data": {
      "text/html": [
       "<div style=\"overflow:auto\"><table style=\"width:50%\"><tr><td><b></b></td>\n",
       "<td><b>centroid</b></td>\n",
       "<td><b>size</b></td>\n",
       "<td><b>within_cluster_sum_of_squares</b></td></tr>\n",
       "<tr><td></td>\n",
       "<td>1.0</td>\n",
       "<td>9001.0</td>\n",
       "<td>922938.8125979</td></tr>\n",
       "<tr><td></td>\n",
       "<td>2.0</td>\n",
       "<td>10078.0</td>\n",
       "<td>926397.1960509</td></tr></table></div>"
      ],
      "text/plain": [
       "    centroid    size    within_cluster_sum_of_squares\n",
       "--  ----------  ------  -------------------------------\n",
       "    1           9001    922939\n",
       "    2           10078   926397"
      ]
     },
     "metadata": {},
     "output_type": "display_data"
    },
    {
     "data": {
      "text/plain": []
     },
     "execution_count": 24,
     "metadata": {},
     "output_type": "execute_result"
    }
   ],
   "source": [
    "# Clusters\n",
    "kmeans.centroid_stats()"
   ]
  },
  {
   "cell_type": "code",
   "execution_count": 25,
   "metadata": {},
   "outputs": [
    {
     "name": "stdout",
     "output_type": "stream",
     "text": [
      "kmeans prediction progress: |█████████████████████████████████████████████| 100%\n"
     ]
    },
    {
     "data": {
      "text/html": [
       "<table>\n",
       "<thead>\n",
       "<tr><th>Word    </th><th style=\"text-align: right;\">  predict</th></tr>\n",
       "</thead>\n",
       "<tbody>\n",
       "<tr><td>kronung </td><td style=\"text-align: right;\">        0</td></tr>\n",
       "<tr><td>berge   </td><td style=\"text-align: right;\">        1</td></tr>\n",
       "<tr><td>ewww    </td><td style=\"text-align: right;\">        0</td></tr>\n",
       "<tr><td>maison  </td><td style=\"text-align: right;\">        0</td></tr>\n",
       "<tr><td>mattered</td><td style=\"text-align: right;\">        1</td></tr>\n",
       "<tr><td>helpings</td><td style=\"text-align: right;\">        1</td></tr>\n",
       "<tr><td>twitter </td><td style=\"text-align: right;\">        0</td></tr>\n",
       "<tr><td>aah     </td><td style=\"text-align: right;\">        0</td></tr>\n",
       "<tr><td>reverted</td><td style=\"text-align: right;\">        1</td></tr>\n",
       "<tr><td>mroe    </td><td style=\"text-align: right;\">        1</td></tr>\n",
       "</tbody>\n",
       "</table>"
      ]
     },
     "metadata": {},
     "output_type": "display_data"
    },
    {
     "data": {
      "text/plain": []
     },
     "execution_count": 25,
     "metadata": {},
     "output_type": "execute_result"
    }
   ],
   "source": [
    "word_clusters = word_embeddings.cbind(kmeans.predict(word_embeddings))\n",
    "word_clusters[[\"Word\", \"predict\"]].head()"
   ]
  },
  {
   "cell_type": "code",
   "execution_count": 26,
   "metadata": {},
   "outputs": [],
   "source": [
    "selected_clusters = word_clusters[word_clusters[\"Word\"].isin(selected_words)]"
   ]
  },
  {
   "cell_type": "code",
   "execution_count": 27,
   "metadata": {},
   "outputs": [
    {
     "name": "stdout",
     "output_type": "stream",
     "text": [
      "Cluster 0\n"
     ]
    },
    {
     "data": {
      "text/html": [
       "<table>\n",
       "<thead>\n",
       "<tr><th>Word     </th></tr>\n",
       "</thead>\n",
       "<tbody>\n",
       "<tr><td>folic    </td></tr>\n",
       "<tr><td>zinc     </td></tr>\n",
       "<tr><td>savory   </td></tr>\n",
       "<tr><td>espresso </td></tr>\n",
       "<tr><td>yummy    </td></tr>\n",
       "<tr><td>salty    </td></tr>\n",
       "<tr><td>starbucks</td></tr>\n",
       "<tr><td>amazing  </td></tr>\n",
       "<tr><td>tasty    </td></tr>\n",
       "<tr><td>sweet    </td></tr>\n",
       "</tbody>\n",
       "</table>"
      ]
     },
     "metadata": {},
     "output_type": "display_data"
    },
    {
     "name": "stdout",
     "output_type": "stream",
     "text": [
      "\n"
     ]
    }
   ],
   "source": [
    "print(\"Cluster 0\")\n",
    "print(selected_clusters[selected_clusters[\"predict\"] == 0, \"Word\"])"
   ]
  },
  {
   "cell_type": "code",
   "execution_count": 28,
   "metadata": {},
   "outputs": [
    {
     "name": "stdout",
     "output_type": "stream",
     "text": [
      "Cluster 1\n"
     ]
    },
    {
     "data": {
      "text/html": [
       "<table>\n",
       "<thead>\n",
       "<tr><th>Word      </th></tr>\n",
       "</thead>\n",
       "<tbody>\n",
       "<tr><td>abdominal </td></tr>\n",
       "<tr><td>answered  </td></tr>\n",
       "<tr><td>salmonella</td></tr>\n",
       "<tr><td>moldy     </td></tr>\n",
       "<tr><td>unhappy   </td></tr>\n",
       "<tr><td>waited    </td></tr>\n",
       "<tr><td>expired   </td></tr>\n",
       "<tr><td>support   </td></tr>\n",
       "<tr><td>email     </td></tr>\n",
       "<tr><td>returned  </td></tr>\n",
       "</tbody>\n",
       "</table>"
      ]
     },
     "metadata": {},
     "output_type": "display_data"
    },
    {
     "name": "stdout",
     "output_type": "stream",
     "text": [
      "\n"
     ]
    }
   ],
   "source": [
    "print(\"Cluster 1\")\n",
    "print(selected_clusters[selected_clusters[\"predict\"] == 1, \"Word\"])"
   ]
  },
  {
   "cell_type": "markdown",
   "metadata": {},
   "source": [
    "# Step 6 (of 10).  Train Model with Original Data\n",
    "\n",
    "Now that we have analyzed our word embeddings, we will turn to our supervised learning task to predict whether someone liked the review.  We will first train a model on our original data - not our word embeddings to see what our accuracy is. We will use this model as a baseline model."
   ]
  },
  {
   "cell_type": "code",
   "execution_count": 29,
   "metadata": {},
   "outputs": [],
   "source": [
    "# Find the 80th quantile of time in the dataset\n",
    "time_split = reviews[\"Time\"].quantile(prob = [0.8])[1]\n",
    "reviews[\"Train\"] = (reviews[\"Time\"] < time_split).ifelse(\"Yes\", \"No\")"
   ]
  },
  {
   "cell_type": "code",
   "execution_count": 30,
   "metadata": {},
   "outputs": [],
   "source": [
    "train = reviews[reviews[\"Train\"] == \"Yes\"]\n",
    "test = reviews[reviews[\"Train\"] == \"No\"]"
   ]
  },
  {
   "cell_type": "code",
   "execution_count": 31,
   "metadata": {},
   "outputs": [
    {
     "name": "stdout",
     "output_type": "stream",
     "text": [
      "gbm Model Build progress: |███████████████████████████████████████████████| 100%\n"
     ]
    }
   ],
   "source": [
    "from h2o.estimators import H2OGradientBoostingEstimator\n",
    "\n",
    "predictors = ['ProductId', 'UserId', 'HelpfulnessNumerator', 'HelpfulnessDenominator', 'Time']\n",
    "response = 'PositiveReview'\n",
    "\n",
    "gbm_baseline = H2OGradientBoostingEstimator(stopping_metric = \"AUC\", stopping_tolerance = 0.001,\n",
    "                                            stopping_rounds = 5, score_tree_interval = 10,\n",
    "                                            model_id = \"gbm_baseline.hex\"\n",
    "                                           )\n",
    "gbm_baseline.train(x = predictors, y = response, \n",
    "                   training_frame = train, validation_frame = test\n",
    "                  )"
   ]
  },
  {
   "cell_type": "code",
   "execution_count": 32,
   "metadata": {},
   "outputs": [
    {
     "name": "stdout",
     "output_type": "stream",
     "text": [
      "AUC on Validation Data: 0.616\n"
     ]
    }
   ],
   "source": [
    "print(\"AUC on Validation Data: \" + str(round(gbm_baseline.auc(valid = True), 3)))"
   ]
  },
  {
   "cell_type": "markdown",
   "metadata": {},
   "source": [
    "We can see that there is a big room for improvement.  Our error is 22%.  To improve our model, we will train word embeddings for the review."
   ]
  },
  {
   "cell_type": "code",
   "execution_count": 33,
   "metadata": {},
   "outputs": [
    {
     "name": "stdout",
     "output_type": "stream",
     "text": [
      "Confusion Matrix (Act/Pred) for max f1 @ threshold = 0.45931625811239496: \n"
     ]
    },
    {
     "data": {
      "text/html": [
       "<div style=\"overflow:auto\"><table style=\"width:50%\"><tr><td><b></b></td>\n",
       "<td><b>0</b></td>\n",
       "<td><b>1</b></td>\n",
       "<td><b>Error</b></td>\n",
       "<td><b>Rate</b></td></tr>\n",
       "<tr><td>0</td>\n",
       "<td>384.0</td>\n",
       "<td>4276.0</td>\n",
       "<td>0.9176</td>\n",
       "<td> (4276.0/4660.0)</td></tr>\n",
       "<tr><td>1</td>\n",
       "<td>128.0</td>\n",
       "<td>15220.0</td>\n",
       "<td>0.0083</td>\n",
       "<td> (128.0/15348.0)</td></tr>\n",
       "<tr><td>Total</td>\n",
       "<td>512.0</td>\n",
       "<td>19496.0</td>\n",
       "<td>0.2201</td>\n",
       "<td> (4404.0/20008.0)</td></tr></table></div>"
      ],
      "text/plain": [
       "       0    1      Error    Rate\n",
       "-----  ---  -----  -------  ----------------\n",
       "0      384  4276   0.9176   (4276.0/4660.0)\n",
       "1      128  15220  0.0083   (128.0/15348.0)\n",
       "Total  512  19496  0.2201   (4404.0/20008.0)"
      ]
     },
     "metadata": {},
     "output_type": "display_data"
    },
    {
     "data": {
      "text/plain": []
     },
     "execution_count": 33,
     "metadata": {},
     "output_type": "execute_result"
    }
   ],
   "source": [
    "gbm_baseline.confusion_matrix(valid = True)"
   ]
  },
  {
   "cell_type": "markdown",
   "metadata": {},
   "source": [
    "The variable importance plot below shows us that the most important variable is `HelpfulnessNumerator`.  Looking at the partial dependency plot for that variable, we see that the more people who find the review helpful, the more likely it is a good review."
   ]
  },
  {
   "cell_type": "code",
   "execution_count": 34,
   "metadata": {},
   "outputs": [
    {
     "data": {
      "image/png": "[encoded data removed]",
      "text/plain": [
       "<Figure size 1008x720 with 1 Axes>"
      ]
     },
     "metadata": {
      "needs_background": "light"
     },
     "output_type": "display_data"
    }
   ],
   "source": [
    "gbm_baseline.varimp_plot()"
   ]
  },
  {
   "cell_type": "code",
   "execution_count": 35,
   "metadata": {
    "scrolled": false
   },
   "outputs": [
    {
     "name": "stdout",
     "output_type": "stream",
     "text": [
      "PartialDependencePlot progress: |█████████████████████████████████████████| 100%\n"
     ]
    },
    {
     "data": {
      "image/png": "[encoded data removed]",
      "text/plain": [
       "<Figure size 504x720 with 1 Axes>"
      ]
     },
     "metadata": {
      "needs_background": "light"
     },
     "output_type": "display_data"
    }
   ],
   "source": [
    "%matplotlib inline  \n",
    "pdp_helpfulness = gbm_baseline.partial_plot(train, cols = [\"HelpfulnessNumerator\"])"
   ]
  },
  {
   "cell_type": "markdown",
   "metadata": {},
   "source": [
    "# Step 7 (of 10).  Train Model with Word Embeddings\n",
    "\n",
    "We will train a GBM model with the same parameters as our baseline gbm.  This time, however, we will add the aggregated word embeddings as predictors. Then we will use the features the GBM model identified as important to train a GLM model to see if we can get a similar performance from a simpler linear model."
   ]
  },
  {
   "cell_type": "code",
   "execution_count": 36,
   "metadata": {},
   "outputs": [],
   "source": [
    "# Calculate a vector for each review\n",
    "review_vecs = w2v_model.transform(words, aggregate_method = \"AVERAGE\")"
   ]
  },
  {
   "cell_type": "code",
   "execution_count": 37,
   "metadata": {
    "scrolled": true
   },
   "outputs": [
    {
     "data": {
      "text/html": [
       "<table>\n",
       "<thead>\n",
       "<tr><th style=\"text-align: right;\">         C1</th><th style=\"text-align: right;\">         C2</th><th style=\"text-align: right;\">         C3</th><th style=\"text-align: right;\">         C4</th><th style=\"text-align: right;\">        C5</th><th style=\"text-align: right;\">         C6</th><th style=\"text-align: right;\">        C7</th><th style=\"text-align: right;\">         C8</th><th style=\"text-align: right;\">         C9</th><th style=\"text-align: right;\">      C10</th><th style=\"text-align: right;\">        C11</th><th style=\"text-align: right;\">       C12</th><th style=\"text-align: right;\">       C13</th><th style=\"text-align: right;\">        C14</th><th style=\"text-align: right;\">        C15</th><th style=\"text-align: right;\">        C16</th><th style=\"text-align: right;\">         C17</th><th style=\"text-align: right;\">        C18</th><th style=\"text-align: right;\">        C19</th><th style=\"text-align: right;\">       C20</th><th style=\"text-align: right;\">        C21</th><th style=\"text-align: right;\">       C22</th><th style=\"text-align: right;\">       C23</th><th style=\"text-align: right;\">        C24</th><th style=\"text-align: right;\">       C25</th><th style=\"text-align: right;\">       C26</th><th style=\"text-align: right;\">       C27</th><th style=\"text-align: right;\">        C28</th><th style=\"text-align: right;\">       C29</th><th style=\"text-align: right;\">        C30</th><th style=\"text-align: right;\">       C31</th><th style=\"text-align: right;\">       C32</th><th style=\"text-align: right;\">       C33</th><th style=\"text-align: right;\">       C34</th><th style=\"text-align: right;\">        C35</th><th style=\"text-align: right;\">      C36</th><th style=\"text-align: right;\">        C37</th><th style=\"text-align: right;\">       C38</th><th style=\"text-align: right;\">        C39</th><th style=\"text-align: right;\">       C40</th><th style=\"text-align: right;\">       C41</th><th style=\"text-align: right;\">       C42</th><th style=\"text-align: right;\">       C43</th><th style=\"text-align: right;\">       C44</th><th style=\"text-align: right;\">       C45</th><th style=\"text-align: right;\">       C46</th><th style=\"text-align: right;\">         C47</th><th style=\"text-align: right;\">      C48</th><th style=\"text-align: right;\">       C49</th><th style=\"text-align: right;\">       C50</th><th style=\"text-align: right;\">       C51</th><th style=\"text-align: right;\">         C52</th><th style=\"text-align: right;\">        C53</th><th style=\"text-align: right;\">         C54</th><th style=\"text-align: right;\">        C55</th><th style=\"text-align: right;\">        C56</th><th style=\"text-align: right;\">       C57</th><th style=\"text-align: right;\">        C58</th><th style=\"text-align: right;\">       C59</th><th style=\"text-align: right;\">       C60</th><th style=\"text-align: right;\">        C61</th><th style=\"text-align: right;\">       C62</th><th style=\"text-align: right;\">       C63</th><th style=\"text-align: right;\">        C64</th><th style=\"text-align: right;\">       C65</th><th style=\"text-align: right;\">      C66</th><th style=\"text-align: right;\">       C67</th><th style=\"text-align: right;\">        C68</th><th style=\"text-align: right;\">        C69</th><th style=\"text-align: right;\">        C70</th><th style=\"text-align: right;\">         C71</th><th style=\"text-align: right;\">       C72</th><th style=\"text-align: right;\">        C73</th><th style=\"text-align: right;\">        C74</th><th style=\"text-align: right;\">      C75</th><th style=\"text-align: right;\">     C76</th><th style=\"text-align: right;\">       C77</th><th style=\"text-align: right;\">      C78</th><th style=\"text-align: right;\">         C79</th><th style=\"text-align: right;\">       C80</th><th style=\"text-align: right;\">        C81</th><th style=\"text-align: right;\">       C82</th><th style=\"text-align: right;\">       C83</th><th style=\"text-align: right;\">      C84</th><th style=\"text-align: right;\">        C85</th><th style=\"text-align: right;\">       C86</th><th style=\"text-align: right;\">        C87</th><th style=\"text-align: right;\">       C88</th><th style=\"text-align: right;\">      C89</th><th style=\"text-align: right;\">        C90</th><th style=\"text-align: right;\">       C91</th><th style=\"text-align: right;\">       C92</th><th style=\"text-align: right;\">       C93</th><th style=\"text-align: right;\">      C94</th><th style=\"text-align: right;\">       C95</th><th style=\"text-align: right;\">       C96</th><th style=\"text-align: right;\">       C97</th><th style=\"text-align: right;\">        C98</th><th style=\"text-align: right;\">        C99</th><th style=\"text-align: right;\">     C100</th></tr>\n",
       "</thead>\n",
       "<tbody>\n",
       "<tr><td style=\"text-align: right;\">-0.123577  </td><td style=\"text-align: right;\">-0.0846866 </td><td style=\"text-align: right;\">-0.0909114 </td><td style=\"text-align: right;\"> 0.117721  </td><td style=\"text-align: right;\">-0.0171118</td><td style=\"text-align: right;\"> 0.0162517 </td><td style=\"text-align: right;\">-0.135917 </td><td style=\"text-align: right;\"> 0.0401355 </td><td style=\"text-align: right;\">-0.0986619 </td><td style=\"text-align: right;\">0.0106714</td><td style=\"text-align: right;\"> 0.0151129 </td><td style=\"text-align: right;\">-0.0130995</td><td style=\"text-align: right;\"> 0.00983  </td><td style=\"text-align: right;\">-0.168697  </td><td style=\"text-align: right;\">-0.158063  </td><td style=\"text-align: right;\">0.000962376</td><td style=\"text-align: right;\">-0.118432   </td><td style=\"text-align: right;\">-0.0734133 </td><td style=\"text-align: right;\"> 0.0784842 </td><td style=\"text-align: right;\"> 0.0019066</td><td style=\"text-align: right;\">-0.109763  </td><td style=\"text-align: right;\"> 0.179439 </td><td style=\"text-align: right;\">-0.125975 </td><td style=\"text-align: right;\">-0.00370766</td><td style=\"text-align: right;\">-0.063306 </td><td style=\"text-align: right;\">-0.0692843</td><td style=\"text-align: right;\"> 0.0110093</td><td style=\"text-align: right;\">-0.0426687 </td><td style=\"text-align: right;\"> 0.174394 </td><td style=\"text-align: right;\"> 0.206052  </td><td style=\"text-align: right;\"> 0.0478836</td><td style=\"text-align: right;\">0.0299299 </td><td style=\"text-align: right;\"> 0.0430316</td><td style=\"text-align: right;\">-0.0742439</td><td style=\"text-align: right;\">-0.13425   </td><td style=\"text-align: right;\">0.041483 </td><td style=\"text-align: right;\">-0.0572359 </td><td style=\"text-align: right;\"> 0.0158313</td><td style=\"text-align: right;\"> 0.0357745 </td><td style=\"text-align: right;\">-0.0747011</td><td style=\"text-align: right;\"> 0.127795 </td><td style=\"text-align: right;\">-0.13785  </td><td style=\"text-align: right;\">-0.0561054</td><td style=\"text-align: right;\">0.0985626 </td><td style=\"text-align: right;\">-0.0337535</td><td style=\"text-align: right;\"> 0.148649 </td><td style=\"text-align: right;\"> 0.0755266  </td><td style=\"text-align: right;\">0.0406494</td><td style=\"text-align: right;\"> 0.035737 </td><td style=\"text-align: right;\">-0.0625814</td><td style=\"text-align: right;\">-0.0959981</td><td style=\"text-align: right;\"> 0.0103269  </td><td style=\"text-align: right;\">-0.0751429 </td><td style=\"text-align: right;\">-0.0343699  </td><td style=\"text-align: right;\"> 0.0606479 </td><td style=\"text-align: right;\">0.000606915</td><td style=\"text-align: right;\"> 0.0838769</td><td style=\"text-align: right;\"> 0.0106598 </td><td style=\"text-align: right;\"> 0.080134 </td><td style=\"text-align: right;\"> 0.0421215</td><td style=\"text-align: right;\">-0.00199066</td><td style=\"text-align: right;\"> 0.0743062</td><td style=\"text-align: right;\">-0.0217119</td><td style=\"text-align: right;\"> 0.0318101 </td><td style=\"text-align: right;\">-0.121283 </td><td style=\"text-align: right;\">0.122412 </td><td style=\"text-align: right;\">-0.0301471</td><td style=\"text-align: right;\">-0.125749  </td><td style=\"text-align: right;\">-0.0660358 </td><td style=\"text-align: right;\">-0.0917037 </td><td style=\"text-align: right;\">-0.000248453</td><td style=\"text-align: right;\">0.119798  </td><td style=\"text-align: right;\"> 0.0503971 </td><td style=\"text-align: right;\">-0.0410473 </td><td style=\"text-align: right;\">0.0851965</td><td style=\"text-align: right;\">0.119388</td><td style=\"text-align: right;\"> 0.127545 </td><td style=\"text-align: right;\">0.138233 </td><td style=\"text-align: right;\"> 0.174438   </td><td style=\"text-align: right;\">-0.177429 </td><td style=\"text-align: right;\"> 0.0563393 </td><td style=\"text-align: right;\">-0.117452 </td><td style=\"text-align: right;\"> 0.0825488</td><td style=\"text-align: right;\">0.187036 </td><td style=\"text-align: right;\"> 0.150944  </td><td style=\"text-align: right;\">-0.108416 </td><td style=\"text-align: right;\"> 0.101779  </td><td style=\"text-align: right;\"> 0.170625 </td><td style=\"text-align: right;\">0.081481 </td><td style=\"text-align: right;\"> 0.0238985 </td><td style=\"text-align: right;\"> 0.0194152</td><td style=\"text-align: right;\">-0.0373087</td><td style=\"text-align: right;\"> 0.0108134</td><td style=\"text-align: right;\">0.164737 </td><td style=\"text-align: right;\">-0.0959648</td><td style=\"text-align: right;\">-0.359947 </td><td style=\"text-align: right;\">-0.158392 </td><td style=\"text-align: right;\"> 0.0678989 </td><td style=\"text-align: right;\">-0.0803819 </td><td style=\"text-align: right;\">0.310991 </td></tr>\n",
       "<tr><td style=\"text-align: right;\"> 0.07494   </td><td style=\"text-align: right;\">-0.14966   </td><td style=\"text-align: right;\"> 0.12161   </td><td style=\"text-align: right;\"> 0.0244761 </td><td style=\"text-align: right;\"> 0.124894 </td><td style=\"text-align: right;\">-0.0129075 </td><td style=\"text-align: right;\">-0.327993 </td><td style=\"text-align: right;\">-0.0117523 </td><td style=\"text-align: right;\">-0.103075  </td><td style=\"text-align: right;\">0.15051  </td><td style=\"text-align: right;\">-0.0308904 </td><td style=\"text-align: right;\">-0.146525 </td><td style=\"text-align: right;\"> 0.0496403</td><td style=\"text-align: right;\">-0.158825  </td><td style=\"text-align: right;\">-0.170972  </td><td style=\"text-align: right;\">0.0179384  </td><td style=\"text-align: right;\">-0.0653011  </td><td style=\"text-align: right;\"> 0.107797  </td><td style=\"text-align: right;\">-0.00100409</td><td style=\"text-align: right;\"> 0.197974 </td><td style=\"text-align: right;\">-0.00136848</td><td style=\"text-align: right;\">-0.0494126</td><td style=\"text-align: right;\">-0.0202321</td><td style=\"text-align: right;\"> 0.0997229 </td><td style=\"text-align: right;\"> 0.081664 </td><td style=\"text-align: right;\">-0.0156883</td><td style=\"text-align: right;\">-0.1719   </td><td style=\"text-align: right;\">-0.0240212 </td><td style=\"text-align: right;\"> 0.0168655</td><td style=\"text-align: right;\">-0.0466167 </td><td style=\"text-align: right;\"> 0.116694 </td><td style=\"text-align: right;\">0.0884483 </td><td style=\"text-align: right;\">-0.0545542</td><td style=\"text-align: right;\">-0.0700192</td><td style=\"text-align: right;\">-0.139628  </td><td style=\"text-align: right;\">0.119971 </td><td style=\"text-align: right;\"> 0.00696234</td><td style=\"text-align: right;\">-0.187721 </td><td style=\"text-align: right;\">-0.0292177 </td><td style=\"text-align: right;\">-0.107939 </td><td style=\"text-align: right;\">-0.0875873</td><td style=\"text-align: right;\">-0.0775118</td><td style=\"text-align: right;\">-0.208697 </td><td style=\"text-align: right;\">0.0969342 </td><td style=\"text-align: right;\"> 0.0363352</td><td style=\"text-align: right;\"> 0.149135 </td><td style=\"text-align: right;\"> 0.0579489  </td><td style=\"text-align: right;\">0.130066 </td><td style=\"text-align: right;\">-0.135424 </td><td style=\"text-align: right;\">-0.191501 </td><td style=\"text-align: right;\"> 0.0957   </td><td style=\"text-align: right;\"> 0.0640396  </td><td style=\"text-align: right;\">-0.007169  </td><td style=\"text-align: right;\">-0.000663614</td><td style=\"text-align: right;\">-0.213031  </td><td style=\"text-align: right;\">0.139674   </td><td style=\"text-align: right;\"> 0.013547 </td><td style=\"text-align: right;\">-0.00776684</td><td style=\"text-align: right;\"> 0.0562716</td><td style=\"text-align: right;\"> 0.0926418</td><td style=\"text-align: right;\"> 0.0401942 </td><td style=\"text-align: right;\"> 0.164166 </td><td style=\"text-align: right;\"> 0.016744 </td><td style=\"text-align: right;\">-0.0775017 </td><td style=\"text-align: right;\">-0.0784973</td><td style=\"text-align: right;\">0.0909287</td><td style=\"text-align: right;\"> 0.107564 </td><td style=\"text-align: right;\"> 0.0196292 </td><td style=\"text-align: right;\">-0.0529339 </td><td style=\"text-align: right;\">-0.0791436 </td><td style=\"text-align: right;\">-0.0119152  </td><td style=\"text-align: right;\">0.0272519 </td><td style=\"text-align: right;\">-0.0568488 </td><td style=\"text-align: right;\"> 0.0123727 </td><td style=\"text-align: right;\">0.117499 </td><td style=\"text-align: right;\">0.220409</td><td style=\"text-align: right;\"> 0.0377073</td><td style=\"text-align: right;\">0.0575067</td><td style=\"text-align: right;\">-0.0357242  </td><td style=\"text-align: right;\">-0.116236 </td><td style=\"text-align: right;\"> 0.0464441 </td><td style=\"text-align: right;\">-0.0683571</td><td style=\"text-align: right;\">-0.0712749</td><td style=\"text-align: right;\">0.0107193</td><td style=\"text-align: right;\"> 0.0203001 </td><td style=\"text-align: right;\">-0.0794069</td><td style=\"text-align: right;\">-0.0106656 </td><td style=\"text-align: right;\"> 0.0193516</td><td style=\"text-align: right;\">0.0360143</td><td style=\"text-align: right;\">-0.078574  </td><td style=\"text-align: right;\">-0.041238 </td><td style=\"text-align: right;\">-0.0908537</td><td style=\"text-align: right;\"> 0.155721 </td><td style=\"text-align: right;\">0.0813781</td><td style=\"text-align: right;\">-0.165879 </td><td style=\"text-align: right;\">-0.0621131</td><td style=\"text-align: right;\">-0.032423 </td><td style=\"text-align: right;\"> 0.0404106 </td><td style=\"text-align: right;\">-0.0442234 </td><td style=\"text-align: right;\">0.168536 </td></tr>\n",
       "<tr><td style=\"text-align: right;\"> 0.022427  </td><td style=\"text-align: right;\"> 0.00480748</td><td style=\"text-align: right;\"> 0.00672013</td><td style=\"text-align: right;\"> 0.0075938 </td><td style=\"text-align: right;\">-0.106441 </td><td style=\"text-align: right;\"> 0.142473  </td><td style=\"text-align: right;\">-0.0617612</td><td style=\"text-align: right;\">-0.0193744 </td><td style=\"text-align: right;\">-0.0372923 </td><td style=\"text-align: right;\">0.0473838</td><td style=\"text-align: right;\">-0.0112361 </td><td style=\"text-align: right;\"> 0.0249479</td><td style=\"text-align: right;\"> 0.0664272</td><td style=\"text-align: right;\">-0.0635927 </td><td style=\"text-align: right;\">-0.0510825 </td><td style=\"text-align: right;\">0.0351188  </td><td style=\"text-align: right;\">-0.066583   </td><td style=\"text-align: right;\">-0.0468656 </td><td style=\"text-align: right;\">-0.0656205 </td><td style=\"text-align: right;\"> 0.0700313</td><td style=\"text-align: right;\">-0.0722496 </td><td style=\"text-align: right;\">-0.0512208</td><td style=\"text-align: right;\">-0.106101 </td><td style=\"text-align: right;\"> 0.115504  </td><td style=\"text-align: right;\"> 0.0568298</td><td style=\"text-align: right;\">-0.0779765</td><td style=\"text-align: right;\">-0.0503861</td><td style=\"text-align: right;\">-0.0987698 </td><td style=\"text-align: right;\"> 0.102755 </td><td style=\"text-align: right;\"> 0.0352001 </td><td style=\"text-align: right;\">-0.0667344</td><td style=\"text-align: right;\">0.0194991 </td><td style=\"text-align: right;\"> 0.0200496</td><td style=\"text-align: right;\">-0.113032 </td><td style=\"text-align: right;\">-0.0580201 </td><td style=\"text-align: right;\">0.0566256</td><td style=\"text-align: right;\"> 0.0159444 </td><td style=\"text-align: right;\">-0.0747158</td><td style=\"text-align: right;\">-0.00155454</td><td style=\"text-align: right;\">-0.177274 </td><td style=\"text-align: right;\"> 0.0445089</td><td style=\"text-align: right;\">-0.0942408</td><td style=\"text-align: right;\">-0.0560597</td><td style=\"text-align: right;\">0.179811  </td><td style=\"text-align: right;\"> 0.11149  </td><td style=\"text-align: right;\"> 0.0431248</td><td style=\"text-align: right;\"> 0.00364038 </td><td style=\"text-align: right;\">0.0978603</td><td style=\"text-align: right;\">-0.0152836</td><td style=\"text-align: right;\">-0.0536834</td><td style=\"text-align: right;\"> 0.0101238</td><td style=\"text-align: right;\">-0.0446385  </td><td style=\"text-align: right;\"> 0.00296364</td><td style=\"text-align: right;\">-0.011366   </td><td style=\"text-align: right;\">-0.0328854 </td><td style=\"text-align: right;\">0.162123   </td><td style=\"text-align: right;\">-0.0599931</td><td style=\"text-align: right;\"> 0.155533  </td><td style=\"text-align: right;\"> 0.0929919</td><td style=\"text-align: right;\"> 0.108222 </td><td style=\"text-align: right;\">-0.0582615 </td><td style=\"text-align: right;\"> 0.0211639</td><td style=\"text-align: right;\">-0.0894359</td><td style=\"text-align: right;\"> 0.0440042 </td><td style=\"text-align: right;\">-0.113204 </td><td style=\"text-align: right;\">0.111917 </td><td style=\"text-align: right;\"> 0.0282051</td><td style=\"text-align: right;\"> 0.0202049 </td><td style=\"text-align: right;\">-0.0950503 </td><td style=\"text-align: right;\">-0.0699256 </td><td style=\"text-align: right;\">-0.1702     </td><td style=\"text-align: right;\">0.161876  </td><td style=\"text-align: right;\"> 0.043908  </td><td style=\"text-align: right;\">-0.0624178 </td><td style=\"text-align: right;\">0.10214  </td><td style=\"text-align: right;\">0.340452</td><td style=\"text-align: right;\"> 0.017055 </td><td style=\"text-align: right;\">0.201323 </td><td style=\"text-align: right;\"> 0.000589761</td><td style=\"text-align: right;\">-0.105662 </td><td style=\"text-align: right;\"> 0.144859  </td><td style=\"text-align: right;\">-0.0691083</td><td style=\"text-align: right;\">-0.053789 </td><td style=\"text-align: right;\">0.129844 </td><td style=\"text-align: right;\"> 0.0131409 </td><td style=\"text-align: right;\">-0.114003 </td><td style=\"text-align: right;\"> 0.185807  </td><td style=\"text-align: right;\"> 0.097796 </td><td style=\"text-align: right;\">0.0835661</td><td style=\"text-align: right;\"> 0.00509632</td><td style=\"text-align: right;\">-0.0291212</td><td style=\"text-align: right;\">-0.138355 </td><td style=\"text-align: right;\"> 0.0479954</td><td style=\"text-align: right;\">0.124482 </td><td style=\"text-align: right;\">-0.102002 </td><td style=\"text-align: right;\">-0.205205 </td><td style=\"text-align: right;\">-0.119269 </td><td style=\"text-align: right;\"> 0.00735854</td><td style=\"text-align: right;\"> 0.0843247 </td><td style=\"text-align: right;\">0.187794 </td></tr>\n",
       "<tr><td style=\"text-align: right;\"> 0.0605654 </td><td style=\"text-align: right;\">-0.0312536 </td><td style=\"text-align: right;\"> 0.0972784 </td><td style=\"text-align: right;\"> 0.00490443</td><td style=\"text-align: right;\">-0.0599809</td><td style=\"text-align: right;\"> 0.0557289 </td><td style=\"text-align: right;\">-0.0508063</td><td style=\"text-align: right;\"> 0.0280685 </td><td style=\"text-align: right;\">-0.00128309</td><td style=\"text-align: right;\">0.0739696</td><td style=\"text-align: right;\">-0.0815072 </td><td style=\"text-align: right;\">-0.0650112</td><td style=\"text-align: right;\"> 0.0406486</td><td style=\"text-align: right;\">-0.10752   </td><td style=\"text-align: right;\">-0.0322432 </td><td style=\"text-align: right;\">0.0369319  </td><td style=\"text-align: right;\">-0.178413   </td><td style=\"text-align: right;\"> 0.00348388</td><td style=\"text-align: right;\"> 0.0325634 </td><td style=\"text-align: right;\"> 0.0674064</td><td style=\"text-align: right;\">-0.161402  </td><td style=\"text-align: right;\">-0.0115103</td><td style=\"text-align: right;\">-0.157302 </td><td style=\"text-align: right;\">-0.00197295</td><td style=\"text-align: right;\"> 0.0558775</td><td style=\"text-align: right;\">-0.0349425</td><td style=\"text-align: right;\">-0.0694854</td><td style=\"text-align: right;\">-0.0974585 </td><td style=\"text-align: right;\"> 0.0993788</td><td style=\"text-align: right;\"> 0.0378586 </td><td style=\"text-align: right;\"> 0.0106997</td><td style=\"text-align: right;\">0.0599622 </td><td style=\"text-align: right;\"> 0.0092554</td><td style=\"text-align: right;\">-0.108342 </td><td style=\"text-align: right;\"> 0.0113633 </td><td style=\"text-align: right;\">0.0524464</td><td style=\"text-align: right;\">-0.0357873 </td><td style=\"text-align: right;\">-0.117042 </td><td style=\"text-align: right;\"> 0.0980767 </td><td style=\"text-align: right;\">-0.0451128</td><td style=\"text-align: right;\"> 0.157068 </td><td style=\"text-align: right;\">-0.0622548</td><td style=\"text-align: right;\">-0.134293 </td><td style=\"text-align: right;\">0.146223  </td><td style=\"text-align: right;\"> 0.112572 </td><td style=\"text-align: right;\"> 0.0700188</td><td style=\"text-align: right;\"> 0.0669445  </td><td style=\"text-align: right;\">0.0827582</td><td style=\"text-align: right;\">-0.118184 </td><td style=\"text-align: right;\">-0.0957049</td><td style=\"text-align: right;\"> 0.0504727</td><td style=\"text-align: right;\"> 0.000705452</td><td style=\"text-align: right;\">-0.0181284 </td><td style=\"text-align: right;\"> 0.0705678  </td><td style=\"text-align: right;\"> 0.0539552 </td><td style=\"text-align: right;\">0.272896   </td><td style=\"text-align: right;\"> 0.0193142</td><td style=\"text-align: right;\"> 0.00982948</td><td style=\"text-align: right;\"> 0.171334 </td><td style=\"text-align: right;\">-0.0238436</td><td style=\"text-align: right;\">-0.0213761 </td><td style=\"text-align: right;\"> 0.0517079</td><td style=\"text-align: right;\">-0.0719783</td><td style=\"text-align: right;\">-0.00738636</td><td style=\"text-align: right;\">-0.050361 </td><td style=\"text-align: right;\">0.0464238</td><td style=\"text-align: right;\"> 0.0249374</td><td style=\"text-align: right;\"> 0.0755819 </td><td style=\"text-align: right;\">-0.0931192 </td><td style=\"text-align: right;\">-0.0588893 </td><td style=\"text-align: right;\">-0.139663   </td><td style=\"text-align: right;\">0.168848  </td><td style=\"text-align: right;\"> 0.0202124 </td><td style=\"text-align: right;\"> 0.0220373 </td><td style=\"text-align: right;\">0.109984 </td><td style=\"text-align: right;\">0.138382</td><td style=\"text-align: right;\"> 0.0512448</td><td style=\"text-align: right;\">0.124036 </td><td style=\"text-align: right;\">-0.0638565  </td><td style=\"text-align: right;\">-0.0674633</td><td style=\"text-align: right;\"> 0.1834    </td><td style=\"text-align: right;\">-0.0812666</td><td style=\"text-align: right;\">-0.159388 </td><td style=\"text-align: right;\">0.134636 </td><td style=\"text-align: right;\"> 0.208283  </td><td style=\"text-align: right;\">-0.0685893</td><td style=\"text-align: right;\"> 0.0924472 </td><td style=\"text-align: right;\"> 0.0521368</td><td style=\"text-align: right;\">0.0410159</td><td style=\"text-align: right;\"> 0.0520861 </td><td style=\"text-align: right;\">-0.0396736</td><td style=\"text-align: right;\">-0.0306607</td><td style=\"text-align: right;\"> 0.118833 </td><td style=\"text-align: right;\">0.0142446</td><td style=\"text-align: right;\">-0.098981 </td><td style=\"text-align: right;\">-0.184764 </td><td style=\"text-align: right;\">-0.0217145</td><td style=\"text-align: right;\">-0.0503971 </td><td style=\"text-align: right;\"> 0.0374887 </td><td style=\"text-align: right;\">0.164314 </td></tr>\n",
       "<tr><td style=\"text-align: right;\"> 0.00935012</td><td style=\"text-align: right;\"> 0.00671785</td><td style=\"text-align: right;\"> 0.0182183 </td><td style=\"text-align: right;\"> 0.0171042 </td><td style=\"text-align: right;\">-0.0457408</td><td style=\"text-align: right;\"> 0.0508699 </td><td style=\"text-align: right;\">-0.108679 </td><td style=\"text-align: right;\"> 0.061268  </td><td style=\"text-align: right;\">-0.0212514 </td><td style=\"text-align: right;\">0.0648133</td><td style=\"text-align: right;\"> 0.077421  </td><td style=\"text-align: right;\">-0.0377295</td><td style=\"text-align: right;\"> 0.0879998</td><td style=\"text-align: right;\">-0.2012    </td><td style=\"text-align: right;\">-0.00415571</td><td style=\"text-align: right;\">0.0337231  </td><td style=\"text-align: right;\">-0.158139   </td><td style=\"text-align: right;\">-0.0110535 </td><td style=\"text-align: right;\"> 0.0229901 </td><td style=\"text-align: right;\">-0.0753142</td><td style=\"text-align: right;\">-0.0408944 </td><td style=\"text-align: right;\"> 0.0459895</td><td style=\"text-align: right;\">-0.124992 </td><td style=\"text-align: right;\">-0.0297124 </td><td style=\"text-align: right;\"> 0.0247685</td><td style=\"text-align: right;\"> 0.0287317</td><td style=\"text-align: right;\">-0.0693108</td><td style=\"text-align: right;\"> 0.00519703</td><td style=\"text-align: right;\"> 0.0845065</td><td style=\"text-align: right;\"> 0.0626002 </td><td style=\"text-align: right;\">-0.0362606</td><td style=\"text-align: right;\">0.035594  </td><td style=\"text-align: right;\"> 0.0023379</td><td style=\"text-align: right;\">-0.216694 </td><td style=\"text-align: right;\">-0.0728143 </td><td style=\"text-align: right;\">0.0818236</td><td style=\"text-align: right;\">-0.00134826</td><td style=\"text-align: right;\">-0.0411923</td><td style=\"text-align: right;\"> 0.024547  </td><td style=\"text-align: right;\">-0.0525364</td><td style=\"text-align: right;\"> 0.0854285</td><td style=\"text-align: right;\">-0.132438 </td><td style=\"text-align: right;\">-0.143364 </td><td style=\"text-align: right;\">0.101387  </td><td style=\"text-align: right;\"> 0.0690653</td><td style=\"text-align: right;\"> 0.135068 </td><td style=\"text-align: right;\">-0.0190342  </td><td style=\"text-align: right;\">0.0386294</td><td style=\"text-align: right;\">-0.0279458</td><td style=\"text-align: right;\">-0.0423176</td><td style=\"text-align: right;\"> 0.0354108</td><td style=\"text-align: right;\">-0.106224   </td><td style=\"text-align: right;\">-0.0459644 </td><td style=\"text-align: right;\">-0.0657848  </td><td style=\"text-align: right;\">-0.0263627 </td><td style=\"text-align: right;\">0.053754   </td><td style=\"text-align: right;\"> 0.132931 </td><td style=\"text-align: right;\"> 0.0455275 </td><td style=\"text-align: right;\"> 0.0690477</td><td style=\"text-align: right;\"> 0.138933 </td><td style=\"text-align: right;\"> 0.0134877 </td><td style=\"text-align: right;\"> 0.0866265</td><td style=\"text-align: right;\">-0.0189454</td><td style=\"text-align: right;\">-0.0257075 </td><td style=\"text-align: right;\">-0.206071 </td><td style=\"text-align: right;\">0.0971391</td><td style=\"text-align: right;\">-0.0423511</td><td style=\"text-align: right;\"> 0.0721308 </td><td style=\"text-align: right;\">-0.0205296 </td><td style=\"text-align: right;\">-0.0655811 </td><td style=\"text-align: right;\">-0.0956799  </td><td style=\"text-align: right;\">0.0922555 </td><td style=\"text-align: right;\">-0.0362279 </td><td style=\"text-align: right;\"> 0.00776884</td><td style=\"text-align: right;\">0.103724 </td><td style=\"text-align: right;\">0.180801</td><td style=\"text-align: right;\"> 0.0782662</td><td style=\"text-align: right;\">0.16088  </td><td style=\"text-align: right;\"> 0.0847621  </td><td style=\"text-align: right;\">-0.0965613</td><td style=\"text-align: right;\"> 0.160227  </td><td style=\"text-align: right;\">-0.0978985</td><td style=\"text-align: right;\">-0.120471 </td><td style=\"text-align: right;\">0.233119 </td><td style=\"text-align: right;\"> 0.120153  </td><td style=\"text-align: right;\">-0.0756268</td><td style=\"text-align: right;\"> 0.129114  </td><td style=\"text-align: right;\"> 0.0285742</td><td style=\"text-align: right;\">0.154983 </td><td style=\"text-align: right;\">-0.0286351 </td><td style=\"text-align: right;\"> 0.0305991</td><td style=\"text-align: right;\">-0.106023 </td><td style=\"text-align: right;\">-0.0249539</td><td style=\"text-align: right;\">0.102754 </td><td style=\"text-align: right;\">-0.192781 </td><td style=\"text-align: right;\">-0.305995 </td><td style=\"text-align: right;\">-0.0885568</td><td style=\"text-align: right;\">-0.00760989</td><td style=\"text-align: right;\">-0.00508225</td><td style=\"text-align: right;\">0.267333 </td></tr>\n",
       "<tr><td style=\"text-align: right;\"> 0.0885673 </td><td style=\"text-align: right;\">-0.138163  </td><td style=\"text-align: right;\">-0.00837645</td><td style=\"text-align: right;\"> 0.116048  </td><td style=\"text-align: right;\">-0.0589893</td><td style=\"text-align: right;\">-0.0147473 </td><td style=\"text-align: right;\"> 0.0225124</td><td style=\"text-align: right;\">-0.0234806 </td><td style=\"text-align: right;\">-0.0123522 </td><td style=\"text-align: right;\">0.154133 </td><td style=\"text-align: right;\"> 0.0674911 </td><td style=\"text-align: right;\">-0.133406 </td><td style=\"text-align: right;\"> 0.148194 </td><td style=\"text-align: right;\">-0.00291143</td><td style=\"text-align: right;\">-0.109465  </td><td style=\"text-align: right;\">0.114072   </td><td style=\"text-align: right;\">-0.0391483  </td><td style=\"text-align: right;\"> 0.00145556</td><td style=\"text-align: right;\"> 0.149558  </td><td style=\"text-align: right;\"> 0.12384  </td><td style=\"text-align: right;\"> 0.117175  </td><td style=\"text-align: right;\">-0.0338315</td><td style=\"text-align: right;\">-0.0798197</td><td style=\"text-align: right;\">-0.0420271 </td><td style=\"text-align: right;\"> 0.0473417</td><td style=\"text-align: right;\">-0.100486 </td><td style=\"text-align: right;\">-0.0135402</td><td style=\"text-align: right;\">-0.0704313 </td><td style=\"text-align: right;\">-0.0523986</td><td style=\"text-align: right;\">-0.0148481 </td><td style=\"text-align: right;\">-0.0122221</td><td style=\"text-align: right;\">0.14021   </td><td style=\"text-align: right;\"> 0.258158 </td><td style=\"text-align: right;\">-0.0877173</td><td style=\"text-align: right;\">-0.0543444 </td><td style=\"text-align: right;\">0.136003 </td><td style=\"text-align: right;\"> 0.0775912 </td><td style=\"text-align: right;\">-0.191182 </td><td style=\"text-align: right;\">-0.0531567 </td><td style=\"text-align: right;\">-0.0983071</td><td style=\"text-align: right;\">-0.0503308</td><td style=\"text-align: right;\">-0.0468833</td><td style=\"text-align: right;\">-0.148477 </td><td style=\"text-align: right;\">0.00188171</td><td style=\"text-align: right;\">-0.0557917</td><td style=\"text-align: right;\">-0.0819477</td><td style=\"text-align: right;\">-0.0287721  </td><td style=\"text-align: right;\">0.0590586</td><td style=\"text-align: right;\">-0.12984  </td><td style=\"text-align: right;\">-0.0624257</td><td style=\"text-align: right;\"> 0.097893 </td><td style=\"text-align: right;\"> 0.0814728  </td><td style=\"text-align: right;\">-0.00472666</td><td style=\"text-align: right;\"> 0.11038    </td><td style=\"text-align: right;\">-0.00956193</td><td style=\"text-align: right;\">0.135221   </td><td style=\"text-align: right;\"> 0.186059 </td><td style=\"text-align: right;\"> 0.0208957 </td><td style=\"text-align: right;\"> 0.0885247</td><td style=\"text-align: right;\"> 0.0486371</td><td style=\"text-align: right;\"> 0.0904131 </td><td style=\"text-align: right;\"> 0.0443016</td><td style=\"text-align: right;\">-0.215884 </td><td style=\"text-align: right;\">-0.17331   </td><td style=\"text-align: right;\">-0.101417 </td><td style=\"text-align: right;\">0.116539 </td><td style=\"text-align: right;\"> 0.100506 </td><td style=\"text-align: right;\"> 0.0858102 </td><td style=\"text-align: right;\"> 0.0523224 </td><td style=\"text-align: right;\">-0.0467214 </td><td style=\"text-align: right;\"> 0.0277714  </td><td style=\"text-align: right;\">0.143412  </td><td style=\"text-align: right;\">-0.00703729</td><td style=\"text-align: right;\">-0.0643105 </td><td style=\"text-align: right;\">0.24043  </td><td style=\"text-align: right;\">0.281687</td><td style=\"text-align: right;\"> 0.116936 </td><td style=\"text-align: right;\">0.113162 </td><td style=\"text-align: right;\">-0.124536   </td><td style=\"text-align: right;\"> 0.0246296</td><td style=\"text-align: right;\"> 0.0129241 </td><td style=\"text-align: right;\"> 0.0513874</td><td style=\"text-align: right;\">-0.107052 </td><td style=\"text-align: right;\">0.134346 </td><td style=\"text-align: right;\">-0.120262  </td><td style=\"text-align: right;\"> 0.0131488</td><td style=\"text-align: right;\"> 0.00887187</td><td style=\"text-align: right;\"> 0.0980474</td><td style=\"text-align: right;\">0.0780114</td><td style=\"text-align: right;\">-0.0234669 </td><td style=\"text-align: right;\">-0.0152035</td><td style=\"text-align: right;\">-0.0988949</td><td style=\"text-align: right;\"> 0.20665  </td><td style=\"text-align: right;\">0.143015 </td><td style=\"text-align: right;\">-0.281251 </td><td style=\"text-align: right;\">-0.205082 </td><td style=\"text-align: right;\">-0.0317975</td><td style=\"text-align: right;\">-0.0293276 </td><td style=\"text-align: right;\">-0.0555667 </td><td style=\"text-align: right;\">0.162047 </td></tr>\n",
       "<tr><td style=\"text-align: right;\">-0.0593632 </td><td style=\"text-align: right;\">-0.0908417 </td><td style=\"text-align: right;\"> 0.00942912</td><td style=\"text-align: right;\"> 0.0276072 </td><td style=\"text-align: right;\"> 0.0416525</td><td style=\"text-align: right;\">-0.0431392 </td><td style=\"text-align: right;\">-0.157533 </td><td style=\"text-align: right;\">-0.0800988 </td><td style=\"text-align: right;\"> 0.0178569 </td><td style=\"text-align: right;\">0.0128753</td><td style=\"text-align: right;\">-0.00372596</td><td style=\"text-align: right;\">-0.0491734</td><td style=\"text-align: right;\">-0.0106384</td><td style=\"text-align: right;\">-0.131284  </td><td style=\"text-align: right;\">-0.084598  </td><td style=\"text-align: right;\">0.0135057  </td><td style=\"text-align: right;\"> 0.0600062  </td><td style=\"text-align: right;\">-0.047821  </td><td style=\"text-align: right;\">-0.0761437 </td><td style=\"text-align: right;\"> 0.0831224</td><td style=\"text-align: right;\">-0.0742009 </td><td style=\"text-align: right;\"> 0.0102239</td><td style=\"text-align: right;\">-0.203301 </td><td style=\"text-align: right;\"> 0.0160553 </td><td style=\"text-align: right;\"> 0.0651977</td><td style=\"text-align: right;\">-0.0969842</td><td style=\"text-align: right;\">-0.072775 </td><td style=\"text-align: right;\">-0.0428605 </td><td style=\"text-align: right;\"> 0.0626145</td><td style=\"text-align: right;\">-0.0452163 </td><td style=\"text-align: right;\"> 0.0116981</td><td style=\"text-align: right;\">0.00371902</td><td style=\"text-align: right;\"> 0.142506 </td><td style=\"text-align: right;\">-0.0593897</td><td style=\"text-align: right;\">-0.136506  </td><td style=\"text-align: right;\">0.0416496</td><td style=\"text-align: right;\"> 0.0685279 </td><td style=\"text-align: right;\">-0.11904  </td><td style=\"text-align: right;\"> 0.0385258 </td><td style=\"text-align: right;\">-0.202414 </td><td style=\"text-align: right;\"> 0.115412 </td><td style=\"text-align: right;\">-0.14876  </td><td style=\"text-align: right;\">-0.266204 </td><td style=\"text-align: right;\">0.012478  </td><td style=\"text-align: right;\"> 0.0415383</td><td style=\"text-align: right;\"> 0.0871316</td><td style=\"text-align: right;\"> 0.0538771  </td><td style=\"text-align: right;\">0.128786 </td><td style=\"text-align: right;\">-0.0597447</td><td style=\"text-align: right;\">-0.115222 </td><td style=\"text-align: right;\"> 0.101279 </td><td style=\"text-align: right;\"> 0.00566464 </td><td style=\"text-align: right;\">-0.241962  </td><td style=\"text-align: right;\">-0.0353911  </td><td style=\"text-align: right;\">-0.118782  </td><td style=\"text-align: right;\">0.093324   </td><td style=\"text-align: right;\"> 0.0600941</td><td style=\"text-align: right;\">-0.13153   </td><td style=\"text-align: right;\"> 0.0775553</td><td style=\"text-align: right;\">-0.0288501</td><td style=\"text-align: right;\">-0.0492831 </td><td style=\"text-align: right;\">-0.0939593</td><td style=\"text-align: right;\"> 0.0368136</td><td style=\"text-align: right;\">-0.098381  </td><td style=\"text-align: right;\"> 0.044359 </td><td style=\"text-align: right;\">0.224803 </td><td style=\"text-align: right;\"> 0.0552376</td><td style=\"text-align: right;\">-0.179604  </td><td style=\"text-align: right;\">-0.0704276 </td><td style=\"text-align: right;\">-0.0777579 </td><td style=\"text-align: right;\"> 0.0415207  </td><td style=\"text-align: right;\">0.00135258</td><td style=\"text-align: right;\">-0.0824263 </td><td style=\"text-align: right;\"> 0.00528965</td><td style=\"text-align: right;\">0.169646 </td><td style=\"text-align: right;\">0.151454</td><td style=\"text-align: right;\"> 0.116005 </td><td style=\"text-align: right;\">0.131663 </td><td style=\"text-align: right;\"> 0.12149    </td><td style=\"text-align: right;\">-0.159284 </td><td style=\"text-align: right;\"> 0.108828  </td><td style=\"text-align: right;\">-0.0708247</td><td style=\"text-align: right;\">-0.0321093</td><td style=\"text-align: right;\">0.0821625</td><td style=\"text-align: right;\">-0.00336971</td><td style=\"text-align: right;\">-0.0270981</td><td style=\"text-align: right;\"> 0.0188922 </td><td style=\"text-align: right;\"> 0.0507455</td><td style=\"text-align: right;\">0.125677 </td><td style=\"text-align: right;\"> 0.264703  </td><td style=\"text-align: right;\">-0.0329986</td><td style=\"text-align: right;\"> 0.0281015</td><td style=\"text-align: right;\"> 0.0648385</td><td style=\"text-align: right;\">0.183891 </td><td style=\"text-align: right;\">-0.140939 </td><td style=\"text-align: right;\">-0.0606483</td><td style=\"text-align: right;\">-0.116805 </td><td style=\"text-align: right;\">-0.0731692 </td><td style=\"text-align: right;\"> 0.0844329 </td><td style=\"text-align: right;\">0.184634 </td></tr>\n",
       "<tr><td style=\"text-align: right;\"> 0.163373  </td><td style=\"text-align: right;\">-0.052721  </td><td style=\"text-align: right;\"> 0.0392836 </td><td style=\"text-align: right;\"> 0.0621111 </td><td style=\"text-align: right;\">-0.0300816</td><td style=\"text-align: right;\"> 0.0566241 </td><td style=\"text-align: right;\">-0.162165 </td><td style=\"text-align: right;\">-0.0631082 </td><td style=\"text-align: right;\">-0.0188121 </td><td style=\"text-align: right;\">0.143107 </td><td style=\"text-align: right;\"> 0.0249527 </td><td style=\"text-align: right;\">-0.0717648</td><td style=\"text-align: right;\"> 0.0135623</td><td style=\"text-align: right;\">-0.149837  </td><td style=\"text-align: right;\">-0.0805667 </td><td style=\"text-align: right;\">0.0387508  </td><td style=\"text-align: right;\"> 0.000571895</td><td style=\"text-align: right;\">-0.0650658 </td><td style=\"text-align: right;\"> 0.141129  </td><td style=\"text-align: right;\"> 0.131864 </td><td style=\"text-align: right;\"> 0.047531  </td><td style=\"text-align: right;\">-0.0612433</td><td style=\"text-align: right;\"> 0.0120106</td><td style=\"text-align: right;\"> 0.125315  </td><td style=\"text-align: right;\"> 0.112877 </td><td style=\"text-align: right;\">-0.0711357</td><td style=\"text-align: right;\">-0.0855007</td><td style=\"text-align: right;\">-0.040307  </td><td style=\"text-align: right;\">-0.0337588</td><td style=\"text-align: right;\">-0.0256387 </td><td style=\"text-align: right;\"> 0.024127 </td><td style=\"text-align: right;\">0.133002  </td><td style=\"text-align: right;\"> 0.0237719</td><td style=\"text-align: right;\">-0.0494247</td><td style=\"text-align: right;\">-0.201967  </td><td style=\"text-align: right;\">0.143936 </td><td style=\"text-align: right;\"> 0.0179501 </td><td style=\"text-align: right;\">-0.223228 </td><td style=\"text-align: right;\">-0.0303525 </td><td style=\"text-align: right;\">-0.101502 </td><td style=\"text-align: right;\">-0.0663613</td><td style=\"text-align: right;\">-0.160072 </td><td style=\"text-align: right;\">-0.17732  </td><td style=\"text-align: right;\">0.0591887 </td><td style=\"text-align: right;\"> 0.0314609</td><td style=\"text-align: right;\"> 0.0221928</td><td style=\"text-align: right;\"> 0.0265974  </td><td style=\"text-align: right;\">0.180037 </td><td style=\"text-align: right;\">-0.090734 </td><td style=\"text-align: right;\">-0.0877679</td><td style=\"text-align: right;\"> 0.112887 </td><td style=\"text-align: right;\"> 0.118644   </td><td style=\"text-align: right;\">-0.0415536 </td><td style=\"text-align: right;\">-0.0221953  </td><td style=\"text-align: right;\">-0.0279398 </td><td style=\"text-align: right;\">0.150957   </td><td style=\"text-align: right;\"> 0.125572 </td><td style=\"text-align: right;\"> 0.00308433</td><td style=\"text-align: right;\"> 0.0445554</td><td style=\"text-align: right;\"> 0.102511 </td><td style=\"text-align: right;\">-0.00391262</td><td style=\"text-align: right;\"> 0.0947322</td><td style=\"text-align: right;\">-0.0912251</td><td style=\"text-align: right;\">-0.0171663 </td><td style=\"text-align: right;\">-0.0623882</td><td style=\"text-align: right;\">0.117418 </td><td style=\"text-align: right;\"> 0.0927924</td><td style=\"text-align: right;\">-0.0252345 </td><td style=\"text-align: right;\">-0.0126615 </td><td style=\"text-align: right;\"> 0.0298117 </td><td style=\"text-align: right;\">-0.033122   </td><td style=\"text-align: right;\">0.0839146 </td><td style=\"text-align: right;\"> 0.0342024 </td><td style=\"text-align: right;\"> 0.0108227 </td><td style=\"text-align: right;\">0.150908 </td><td style=\"text-align: right;\">0.181045</td><td style=\"text-align: right;\"> 0.04305  </td><td style=\"text-align: right;\">0.11669  </td><td style=\"text-align: right;\">-0.0652174  </td><td style=\"text-align: right;\">-0.0287251</td><td style=\"text-align: right;\">-0.00122687</td><td style=\"text-align: right;\">-0.0478993</td><td style=\"text-align: right;\">-0.0913111</td><td style=\"text-align: right;\">0.114852 </td><td style=\"text-align: right;\">-0.0649567 </td><td style=\"text-align: right;\">-0.0219994</td><td style=\"text-align: right;\"> 0.0552401 </td><td style=\"text-align: right;\"> 0.0181886</td><td style=\"text-align: right;\">0.0569538</td><td style=\"text-align: right;\">-0.0304449 </td><td style=\"text-align: right;\">-0.0266708</td><td style=\"text-align: right;\">-0.0111165</td><td style=\"text-align: right;\"> 0.184145 </td><td style=\"text-align: right;\">0.0536384</td><td style=\"text-align: right;\">-0.156985 </td><td style=\"text-align: right;\">-0.185258 </td><td style=\"text-align: right;\">-0.0762067</td><td style=\"text-align: right;\"> 0.096761  </td><td style=\"text-align: right;\"> 0.0562956 </td><td style=\"text-align: right;\">0.142901 </td></tr>\n",
       "<tr><td style=\"text-align: right;\"> 0.059956  </td><td style=\"text-align: right;\">-0.00885862</td><td style=\"text-align: right;\"> 0.0699096 </td><td style=\"text-align: right;\">-0.00156809</td><td style=\"text-align: right;\">-0.0734853</td><td style=\"text-align: right;\"> 0.0447578 </td><td style=\"text-align: right;\">-0.0906615</td><td style=\"text-align: right;\">-0.00540866</td><td style=\"text-align: right;\">-0.114513  </td><td style=\"text-align: right;\">0.0417107</td><td style=\"text-align: right;\"> 0.042316  </td><td style=\"text-align: right;\">-0.0410368</td><td style=\"text-align: right;\"> 0.0604889</td><td style=\"text-align: right;\">-0.0858883 </td><td style=\"text-align: right;\">-0.0977797 </td><td style=\"text-align: right;\">0.00716065 </td><td style=\"text-align: right;\">-0.0903198  </td><td style=\"text-align: right;\"> 0.0198289 </td><td style=\"text-align: right;\"> 0.207881  </td><td style=\"text-align: right;\"> 0.0246416</td><td style=\"text-align: right;\">-0.00304793</td><td style=\"text-align: right;\">-0.0788643</td><td style=\"text-align: right;\"> 0.0271304</td><td style=\"text-align: right;\"> 0.0695831 </td><td style=\"text-align: right;\"> 0.0525659</td><td style=\"text-align: right;\">-0.0373412</td><td style=\"text-align: right;\">-0.027032 </td><td style=\"text-align: right;\">-0.141924  </td><td style=\"text-align: right;\">-0.0717022</td><td style=\"text-align: right;\">-0.0127278 </td><td style=\"text-align: right;\">-0.0767735</td><td style=\"text-align: right;\">0.164144  </td><td style=\"text-align: right;\"> 0.0814472</td><td style=\"text-align: right;\">-0.119095 </td><td style=\"text-align: right;\">-0.0485122 </td><td style=\"text-align: right;\">0.0214551</td><td style=\"text-align: right;\"> 0.0310143 </td><td style=\"text-align: right;\">-0.197136 </td><td style=\"text-align: right;\"> 0.0554413 </td><td style=\"text-align: right;\">-0.160214 </td><td style=\"text-align: right;\"> 0.0312065</td><td style=\"text-align: right;\">-0.0801735</td><td style=\"text-align: right;\">-0.162155 </td><td style=\"text-align: right;\">0.190989  </td><td style=\"text-align: right;\"> 0.0937873</td><td style=\"text-align: right;\">-0.0717323</td><td style=\"text-align: right;\"> 0.0845993  </td><td style=\"text-align: right;\">0.0502913</td><td style=\"text-align: right;\"> 0.0188648</td><td style=\"text-align: right;\">-0.0341934</td><td style=\"text-align: right;\"> 0.0330536</td><td style=\"text-align: right;\"> 0.0636748  </td><td style=\"text-align: right;\">-0.129949  </td><td style=\"text-align: right;\"> 0.0572719  </td><td style=\"text-align: right;\"> 0.0529386 </td><td style=\"text-align: right;\">0.163472   </td><td style=\"text-align: right;\"> 0.0373158</td><td style=\"text-align: right;\"> 0.143302  </td><td style=\"text-align: right;\"> 0.106197 </td><td style=\"text-align: right;\"> 0.0255759</td><td style=\"text-align: right;\">-0.0346976 </td><td style=\"text-align: right;\"> 0.0859901</td><td style=\"text-align: right;\">-0.0301509</td><td style=\"text-align: right;\">-0.0231748 </td><td style=\"text-align: right;\">-0.180023 </td><td style=\"text-align: right;\">0.0680601</td><td style=\"text-align: right;\"> 0.0272046</td><td style=\"text-align: right;\"> 0.00434166</td><td style=\"text-align: right;\"> 0.00518589</td><td style=\"text-align: right;\">-0.0442374 </td><td style=\"text-align: right;\"> 0.0221915  </td><td style=\"text-align: right;\">0.156063  </td><td style=\"text-align: right;\"> 0.0888368 </td><td style=\"text-align: right;\">-0.00571475</td><td style=\"text-align: right;\">0.236342 </td><td style=\"text-align: right;\">0.257606</td><td style=\"text-align: right;\"> 0.0668124</td><td style=\"text-align: right;\">0.111124 </td><td style=\"text-align: right;\">-0.0244154  </td><td style=\"text-align: right;\">-0.0388648</td><td style=\"text-align: right;\"> 0.0447202 </td><td style=\"text-align: right;\">-0.0500552</td><td style=\"text-align: right;\">-0.102118 </td><td style=\"text-align: right;\">0.194107 </td><td style=\"text-align: right;\">-0.0644481 </td><td style=\"text-align: right;\">-0.0181371</td><td style=\"text-align: right;\"> 0.00277012</td><td style=\"text-align: right;\"> 0.140302 </td><td style=\"text-align: right;\">0.0312776</td><td style=\"text-align: right;\"> 0.0512224 </td><td style=\"text-align: right;\">-0.0410093</td><td style=\"text-align: right;\">-0.0747029</td><td style=\"text-align: right;\"> 0.0796118</td><td style=\"text-align: right;\">0.0779222</td><td style=\"text-align: right;\">-0.126117 </td><td style=\"text-align: right;\">-0.161389 </td><td style=\"text-align: right;\">-0.0253992</td><td style=\"text-align: right;\"> 0.0496138 </td><td style=\"text-align: right;\"> 0.0360572 </td><td style=\"text-align: right;\">0.188157 </td></tr>\n",
       "<tr><td style=\"text-align: right;\"> 0.34572   </td><td style=\"text-align: right;\">-0.224541  </td><td style=\"text-align: right;\"> 0.239293  </td><td style=\"text-align: right;\"> 0.163708  </td><td style=\"text-align: right;\"> 0.191941 </td><td style=\"text-align: right;\">-0.00987632</td><td style=\"text-align: right;\">-0.0422488</td><td style=\"text-align: right;\"> 0.347182  </td><td style=\"text-align: right;\">-0.330233  </td><td style=\"text-align: right;\">0.233781 </td><td style=\"text-align: right;\">-0.0264054 </td><td style=\"text-align: right;\">-0.215287 </td><td style=\"text-align: right;\">-0.163686 </td><td style=\"text-align: right;\"> 0.114607  </td><td style=\"text-align: right;\">-0.124789  </td><td style=\"text-align: right;\">0.0854622  </td><td style=\"text-align: right;\">-0.179458   </td><td style=\"text-align: right;\"> 0.120712  </td><td style=\"text-align: right;\"> 0.00722023</td><td style=\"text-align: right;\"> 0.127269 </td><td style=\"text-align: right;\"> 0.375059  </td><td style=\"text-align: right;\"> 0.180494 </td><td style=\"text-align: right;\"> 0.069406 </td><td style=\"text-align: right;\"> 0.220307  </td><td style=\"text-align: right;\"> 0.185741 </td><td style=\"text-align: right;\">-0.200922 </td><td style=\"text-align: right;\">-0.114951 </td><td style=\"text-align: right;\">-0.399857  </td><td style=\"text-align: right;\">-0.138181 </td><td style=\"text-align: right;\">-0.00381294</td><td style=\"text-align: right;\">-0.014713 </td><td style=\"text-align: right;\">0.155409  </td><td style=\"text-align: right;\">-0.0882878</td><td style=\"text-align: right;\">-0.190628 </td><td style=\"text-align: right;\">-0.00378171</td><td style=\"text-align: right;\">0.132825 </td><td style=\"text-align: right;\">-0.0145521 </td><td style=\"text-align: right;\">-0.321591 </td><td style=\"text-align: right;\"> 0.0257418 </td><td style=\"text-align: right;\"> 0.0136245</td><td style=\"text-align: right;\"> 0.156998 </td><td style=\"text-align: right;\">-0.170153 </td><td style=\"text-align: right;\">-0.175358 </td><td style=\"text-align: right;\">0.410429  </td><td style=\"text-align: right;\"> 0.0502803</td><td style=\"text-align: right;\">-0.0192849</td><td style=\"text-align: right;\">-3.88793e-05</td><td style=\"text-align: right;\">0.127367 </td><td style=\"text-align: right;\">-0.0465178</td><td style=\"text-align: right;\">-0.0479741</td><td style=\"text-align: right;\">-0.0184803</td><td style=\"text-align: right;\"> 0.14657    </td><td style=\"text-align: right;\"> 0.0906483 </td><td style=\"text-align: right;\">-0.136143   </td><td style=\"text-align: right;\">-0.0446293 </td><td style=\"text-align: right;\">0.0280072  </td><td style=\"text-align: right;\"> 0.277313 </td><td style=\"text-align: right;\"> 0.0437428 </td><td style=\"text-align: right;\">-0.0351479</td><td style=\"text-align: right;\">-0.333135 </td><td style=\"text-align: right;\">-0.0589619 </td><td style=\"text-align: right;\"> 0.0534104</td><td style=\"text-align: right;\">-0.15344  </td><td style=\"text-align: right;\">-0.156121  </td><td style=\"text-align: right;\">-0.0201638</td><td style=\"text-align: right;\">0.113568 </td><td style=\"text-align: right;\"> 0.0559998</td><td style=\"text-align: right;\"> 0.188584  </td><td style=\"text-align: right;\"> 0.23359   </td><td style=\"text-align: right;\"> 0.00170007</td><td style=\"text-align: right;\"> 0.25097    </td><td style=\"text-align: right;\">0.220452  </td><td style=\"text-align: right;\">-0.145683  </td><td style=\"text-align: right;\"> 0.148533  </td><td style=\"text-align: right;\">0.238085 </td><td style=\"text-align: right;\">0.171882</td><td style=\"text-align: right;\">-0.0373468</td><td style=\"text-align: right;\">0.283247 </td><td style=\"text-align: right;\">-0.0521044  </td><td style=\"text-align: right;\">-0.0440885</td><td style=\"text-align: right;\">-0.0458063 </td><td style=\"text-align: right;\">-0.089608 </td><td style=\"text-align: right;\">-0.0454602</td><td style=\"text-align: right;\">0.161751 </td><td style=\"text-align: right;\">-0.179318  </td><td style=\"text-align: right;\">-0.111918 </td><td style=\"text-align: right;\">-0.30978   </td><td style=\"text-align: right;\">-0.138874 </td><td style=\"text-align: right;\">0.0330058</td><td style=\"text-align: right;\"> 0.199203  </td><td style=\"text-align: right;\">-0.0492098</td><td style=\"text-align: right;\">-0.206576 </td><td style=\"text-align: right;\"> 0.282175 </td><td style=\"text-align: right;\">0.219411 </td><td style=\"text-align: right;\">-0.174859 </td><td style=\"text-align: right;\">-0.170549 </td><td style=\"text-align: right;\"> 0.149677 </td><td style=\"text-align: right;\"> 0.0273692 </td><td style=\"text-align: right;\"> 0.243085  </td><td style=\"text-align: right;\">0.0285919</td></tr>\n",
       "</tbody>\n",
       "</table>"
      ]
     },
     "metadata": {},
     "output_type": "display_data"
    },
    {
     "data": {
      "text/plain": []
     },
     "execution_count": 37,
     "metadata": {},
     "output_type": "execute_result"
    }
   ],
   "source": [
    "review_vecs"
   ]
  },
  {
   "cell_type": "code",
   "execution_count": 38,
   "metadata": {},
   "outputs": [],
   "source": [
    "# Add aggregated word embeddings \n",
    "ext_reviews = reviews.cbind(review_vecs)"
   ]
  },
  {
   "cell_type": "code",
   "execution_count": 39,
   "metadata": {},
   "outputs": [],
   "source": [
    "ext_train = ext_reviews[ext_reviews[\"Train\"] == \"Yes\"]\n",
    "ext_test = ext_reviews[ext_reviews[\"Train\"] == \"No\"]"
   ]
  },
  {
   "cell_type": "code",
   "execution_count": 40,
   "metadata": {},
   "outputs": [
    {
     "name": "stdout",
     "output_type": "stream",
     "text": [
      "gbm Model Build progress: |███████████████████████████████████████████████| 100%\n"
     ]
    }
   ],
   "source": [
    "predictors = predictors + review_vecs.names\n",
    "response = 'PositiveReview'\n",
    "\n",
    "gbm_embeddings = H2OGradientBoostingEstimator(stopping_metric = \"AUC\", stopping_tolerance = 0.001,\n",
    "                                              stopping_rounds = 5, score_tree_interval = 10,\n",
    "                                              model_id = \"gbm_embeddings.hex\", ntrees = 1000,\n",
    "                                             )\n",
    "gbm_embeddings.train(x = predictors, y = response, \n",
    "                   training_frame = ext_train, validation_frame = ext_test\n",
    "                  )"
   ]
  },
  {
   "cell_type": "code",
   "execution_count": 41,
   "metadata": {},
   "outputs": [
    {
     "name": "stdout",
     "output_type": "stream",
     "text": [
      "Baseline AUC: 0.616\n",
      "With Embeddings AUC: 0.899\n"
     ]
    }
   ],
   "source": [
    "print(\"Baseline AUC: \" + str(round(gbm_baseline.auc(valid = True), 3)))\n",
    "print(\"With Embeddings AUC: \" + str(round(gbm_embeddings.auc(valid = True), 3)))"
   ]
  },
  {
   "cell_type": "code",
   "execution_count": 42,
   "metadata": {},
   "outputs": [
    {
     "name": "stdout",
     "output_type": "stream",
     "text": [
      "Confusion Matrix (Act/Pred) for max f1 @ threshold = 0.5605627286225796: \n"
     ]
    },
    {
     "data": {
      "text/html": [
       "<div style=\"overflow:auto\"><table style=\"width:50%\"><tr><td><b></b></td>\n",
       "<td><b>0</b></td>\n",
       "<td><b>1</b></td>\n",
       "<td><b>Error</b></td>\n",
       "<td><b>Rate</b></td></tr>\n",
       "<tr><td>0</td>\n",
       "<td>2722.0</td>\n",
       "<td>1938.0</td>\n",
       "<td>0.4159</td>\n",
       "<td> (1938.0/4660.0)</td></tr>\n",
       "<tr><td>1</td>\n",
       "<td>849.0</td>\n",
       "<td>14499.0</td>\n",
       "<td>0.0553</td>\n",
       "<td> (849.0/15348.0)</td></tr>\n",
       "<tr><td>Total</td>\n",
       "<td>3571.0</td>\n",
       "<td>16437.0</td>\n",
       "<td>0.1393</td>\n",
       "<td> (2787.0/20008.0)</td></tr></table></div>"
      ],
      "text/plain": [
       "       0     1      Error    Rate\n",
       "-----  ----  -----  -------  ----------------\n",
       "0      2722  1938   0.4159   (1938.0/4660.0)\n",
       "1      849   14499  0.0553   (849.0/15348.0)\n",
       "Total  3571  16437  0.1393   (2787.0/20008.0)"
      ]
     },
     "metadata": {},
     "output_type": "display_data"
    },
    {
     "data": {
      "text/plain": []
     },
     "execution_count": 42,
     "metadata": {},
     "output_type": "execute_result"
    }
   ],
   "source": [
    "gbm_embeddings.confusion_matrix(valid = True)"
   ]
  },
  {
   "cell_type": "markdown",
   "metadata": {},
   "source": [
    "Train a simpler GLM model using important word2vec features of the GBM model to generate interactions"
   ]
  },
  {
   "cell_type": "code",
   "execution_count": 43,
   "metadata": {
    "scrolled": true
   },
   "outputs": [
    {
     "data": {
      "text/plain": [
       "['C11', 'C33', 'C87', 'C92', 'C26', 'C55', 'C88', 'C27', 'C86']"
      ]
     },
     "execution_count": 43,
     "metadata": {},
     "output_type": "execute_result"
    }
   ],
   "source": [
    "top_w2v_features = list(filter(lambda x: x.startswith('C'), map(lambda x: x[0], gbm_embeddings.varimp())))[1:10]\n",
    "top_w2v_features"
   ]
  },
  {
   "cell_type": "code",
   "execution_count": 44,
   "metadata": {},
   "outputs": [
    {
     "name": "stdout",
     "output_type": "stream",
     "text": [
      "glm Model Build progress: |███████████████████████████████████████████████| 100%\n"
     ]
    }
   ],
   "source": [
    "from h2o.estimators import H2OGeneralizedLinearEstimator\n",
    "\n",
    "glm_predictors = [\"HelpfulnessNumerator\", \"HelpfulnessDenominator\"] + review_vecs.names\n",
    "\n",
    "glm_embeddings = H2OGeneralizedLinearEstimator(model_id = \"glm_embeddings.hex\", interactions = top_w2v_features,\n",
    "                                               family = \"binomial\"\n",
    "                                              )\n",
    "glm_embeddings.train(x = glm_predictors, y = response,\n",
    "                     training_frame = ext_train, validation_frame = ext_test\n",
    "                    )"
   ]
  },
  {
   "cell_type": "code",
   "execution_count": 45,
   "metadata": {},
   "outputs": [
    {
     "name": "stdout",
     "output_type": "stream",
     "text": [
      "Baseline AUC: 0.616\n",
      "With Embeddings AUC (GBM): 0.899\n",
      "With Embeddings AUC (GLM): 0.902\n"
     ]
    }
   ],
   "source": [
    "print(\"Baseline AUC: \" + str(round(gbm_baseline.auc(valid = True), 3)))\n",
    "print(\"With Embeddings AUC (GBM): \" + str(round(gbm_embeddings.auc(valid = True), 3)))\n",
    "print(\"With Embeddings AUC (GLM): \" + str(round(glm_embeddings.auc(valid = True), 3)))"
   ]
  },
  {
   "cell_type": "code",
   "execution_count": 46,
   "metadata": {},
   "outputs": [
    {
     "name": "stdout",
     "output_type": "stream",
     "text": [
      "Confusion Matrix (Act/Pred) for max f1 @ threshold = 0.5357059222474971: \n"
     ]
    },
    {
     "data": {
      "text/html": [
       "<div style=\"overflow:auto\"><table style=\"width:50%\"><tr><td><b></b></td>\n",
       "<td><b>0</b></td>\n",
       "<td><b>1</b></td>\n",
       "<td><b>Error</b></td>\n",
       "<td><b>Rate</b></td></tr>\n",
       "<tr><td>0</td>\n",
       "<td>2659.0</td>\n",
       "<td>2001.0</td>\n",
       "<td>0.4294</td>\n",
       "<td> (2001.0/4660.0)</td></tr>\n",
       "<tr><td>1</td>\n",
       "<td>827.0</td>\n",
       "<td>14521.0</td>\n",
       "<td>0.0539</td>\n",
       "<td> (827.0/15348.0)</td></tr>\n",
       "<tr><td>Total</td>\n",
       "<td>3486.0</td>\n",
       "<td>16522.0</td>\n",
       "<td>0.1413</td>\n",
       "<td> (2828.0/20008.0)</td></tr></table></div>"
      ],
      "text/plain": [
       "       0     1      Error    Rate\n",
       "-----  ----  -----  -------  ----------------\n",
       "0      2659  2001   0.4294   (2001.0/4660.0)\n",
       "1      827   14521  0.0539   (827.0/15348.0)\n",
       "Total  3486  16522  0.1413   (2828.0/20008.0)"
      ]
     },
     "metadata": {},
     "output_type": "display_data"
    },
    {
     "data": {
      "text/plain": []
     },
     "execution_count": 46,
     "metadata": {},
     "output_type": "execute_result"
    }
   ],
   "source": [
    "glm_embeddings.confusion_matrix(valid = True)"
   ]
  },
  {
   "cell_type": "markdown",
   "metadata": {
    "collapsed": true
   },
   "source": [
    "# Step 8 (of 10).  Run AutoML\n",
    "\n",
    "We will use H2O's AutoML to see if we can improve the performance further by exploring the algorithm and parameter space. "
   ]
  },
  {
   "cell_type": "code",
   "execution_count": 47,
   "metadata": {},
   "outputs": [
    {
     "name": "stdout",
     "output_type": "stream",
     "text": [
      "AutoML progress: |████████████████████████████████████████████████████████| 100%\n"
     ]
    }
   ],
   "source": [
    "from h2o.automl import H2OAutoML\n",
    "\n",
    "automl = H2OAutoML(project_name = \"positive_reviews\", max_runtime_secs = 180, \n",
    "                   keep_cross_validation_models = False, keep_cross_validation_predictions = False,\n",
    "                   nfolds = 3, exclude_algos = [\"DRF\"], seed = 1234)\n",
    "automl.train(x = predictors, y = response, training_frame = ext_train, leaderboard_frame = ext_test)"
   ]
  },
  {
   "cell_type": "code",
   "execution_count": 48,
   "metadata": {},
   "outputs": [
    {
     "data": {
      "text/html": [
       "<table>\n",
       "<thead>\n",
       "<tr><th>model_id                                 </th><th style=\"text-align: right;\">     auc</th><th style=\"text-align: right;\">  logloss</th><th style=\"text-align: right;\">  mean_per_class_error</th><th style=\"text-align: right;\">   rmse</th><th style=\"text-align: right;\">     mse</th></tr>\n",
       "</thead>\n",
       "<tbody>\n",
       "<tr><td>GLM_grid_1_AutoML_20190131_224251_model_1</td><td style=\"text-align: right;\">0.895476</td><td style=\"text-align: right;\"> 0.335372</td><td style=\"text-align: right;\">              0.245805</td><td style=\"text-align: right;\">0.32276</td><td style=\"text-align: right;\">0.104174</td></tr>\n",
       "</tbody>\n",
       "</table>"
      ]
     },
     "metadata": {},
     "output_type": "display_data"
    },
    {
     "data": {
      "text/plain": []
     },
     "execution_count": 48,
     "metadata": {},
     "output_type": "execute_result"
    }
   ],
   "source": [
    "automl.leaderboard"
   ]
  },
  {
   "cell_type": "markdown",
   "metadata": {},
   "source": [
    "# Step 9 (of 10). Watch AutoML progress (in the H2O Flow Web UI)¶\n",
    "\n",
    "* Go to port 54321\n",
    "* In H2O Flow, go to Admin -> Jobs\n",
    "* Click on the \"Auto Model\" job with the \"positive_reviews\" job name and explore it"
   ]
  },
  {
   "cell_type": "markdown",
   "metadata": {
    "collapsed": true
   },
   "source": [
    "# Step 10 (of 10).  Shutdown the H2O Cluster"
   ]
  },
  {
   "cell_type": "code",
   "execution_count": 49,
   "metadata": {},
   "outputs": [
    {
     "name": "stdout",
     "output_type": "stream",
     "text": [
      "H2O session _sid_9696 closed.\n"
     ]
    }
   ],
   "source": [
    "h2o.cluster().shutdown()"
   ]
  },
  {
   "cell_type": "markdown",
   "metadata": {},
   "source": [
    "# Bonus: Github location for this tutorial\n",
    "\n",
    "* https://github.com/h2oai/h2o-tutorials/tree/master/training/h2o_3_hands_on/nlp"
   ]
  },
  {
   "cell_type": "code",
   "execution_count": null,
   "metadata": {},
   "outputs": [],
   "source": []
  }
 ],
 "metadata": {
  "kernelspec": {
   "display_name": "Python 3",
   "language": "python",
   "name": "python3"
  },
  "language_info": {
   "codemirror_mode": {
    "name": "ipython",
    "version": 3
   },
   "file_extension": ".py",
   "mimetype": "text/x-python",
   "name": "python",
   "nbconvert_exporter": "python",
   "pygments_lexer": "ipython3",
   "version": "3.6.7"
  }
 },
 "nbformat": 4,
 "nbformat_minor": 2
}
