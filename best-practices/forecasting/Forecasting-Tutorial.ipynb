{
 "cells": [
  {
   "cell_type": "markdown",
   "metadata": {},
   "source": [
    "# Forecasting Demand\n",
    "\n",
    "In this example, we will be forecasting the demand of a product for a given week.  The data used is the public dataset: [Product Demand Data](https://www.kaggle.com/felixzhao/productdemandforecasting).\n",
    "\n",
    "\n",
    "We will be using Sparkling Water to demonstrate how to add time lags on large data.\n",
    "\n",
    "Our Machine Learning Workflow is: \n",
    "\n",
    "1. Exploratory Analysis - explore and analyze the dataset\n",
    "2. Baseline Model - train a random forest model with default parameters on the data\n",
    "    * how predictive is our model?\n",
    "    * what variables are important?\n",
    "3. Feature Engineering - add new features that we think could help improve the results\n",
    "    * date expansion\n",
    "    * time lags\n",
    "4. Model Training - train a random forest with default parameters on the extended data\n",
    "    * how predictive is our model compared with the model trained on our raw data?\n",
    "    * what variables are important?\n",
    "5. Residual Analysis\n",
    "    * where are our predictions good?  \n",
    "    * where are they bad?\n",
    "\n",
    "## Exploratory Analysis\n",
    "\n",
    "We begin by starting our sparkling water cluster and importing our dataset into H2O."
   ]
  },
  {
   "cell_type": "code",
   "execution_count": 1,
   "metadata": {
    "collapsed": false
   },
   "outputs": [
    {
     "name": "stderr",
     "output_type": "stream",
     "text": [
      "PySparkling is using internally bundled H2O of version 3.22.0.4, but H2O installed in the python environment is of version 3.22.1.1.\n"
     ]
    },
    {
     "name": "stdout",
     "output_type": "stream",
     "text": [
      "Connecting to H2O server at http://172.16.2.123:54321... successful.\n"
     ]
    },
    {
     "data": {
      "text/html": [
       "<div style=\"overflow:auto\"><table style=\"width:50%\"><tr><td>H2O cluster uptime:</td>\n",
       "<td>07 secs</td></tr>\n",
       "<tr><td>H2O cluster timezone:</td>\n",
       "<td>America/Los_Angeles</td></tr>\n",
       "<tr><td>H2O data parsing timezone:</td>\n",
       "<td>UTC</td></tr>\n",
       "<tr><td>H2O cluster version:</td>\n",
       "<td>3.22.0.4</td></tr>\n",
       "<tr><td>H2O cluster version age:</td>\n",
       "<td>10 days </td></tr>\n",
       "<tr><td>H2O cluster name:</td>\n",
       "<td>sparkling-water-megankurka_local-1547594971476</td></tr>\n",
       "<tr><td>H2O cluster total nodes:</td>\n",
       "<td>1</td></tr>\n",
       "<tr><td>H2O cluster free memory:</td>\n",
       "<td>853 Mb</td></tr>\n",
       "<tr><td>H2O cluster total cores:</td>\n",
       "<td>8</td></tr>\n",
       "<tr><td>H2O cluster allowed cores:</td>\n",
       "<td>8</td></tr>\n",
       "<tr><td>H2O cluster status:</td>\n",
       "<td>accepting new members, healthy</td></tr>\n",
       "<tr><td>H2O connection url:</td>\n",
       "<td>http://172.16.2.123:54321</td></tr>\n",
       "<tr><td>H2O connection proxy:</td>\n",
       "<td>None</td></tr>\n",
       "<tr><td>H2O internal security:</td>\n",
       "<td>False</td></tr>\n",
       "<tr><td>H2O API Extensions:</td>\n",
       "<td>XGBoost, Algos, AutoML, Core V3, Core V4</td></tr>\n",
       "<tr><td>Python version:</td>\n",
       "<td>3.6.0 final</td></tr></table></div>"
      ],
      "text/plain": [
       "--------------------------  ----------------------------------------------\n",
       "H2O cluster uptime:         07 secs\n",
       "H2O cluster timezone:       America/Los_Angeles\n",
       "H2O data parsing timezone:  UTC\n",
       "H2O cluster version:        3.22.0.4\n",
       "H2O cluster version age:    10 days\n",
       "H2O cluster name:           sparkling-water-megankurka_local-1547594971476\n",
       "H2O cluster total nodes:    1\n",
       "H2O cluster free memory:    853 Mb\n",
       "H2O cluster total cores:    8\n",
       "H2O cluster allowed cores:  8\n",
       "H2O cluster status:         accepting new members, healthy\n",
       "H2O connection url:         http://172.16.2.123:54321\n",
       "H2O connection proxy:\n",
       "H2O internal security:      False\n",
       "H2O API Extensions:         XGBoost, Algos, AutoML, Core V3, Core V4\n",
       "Python version:             3.6.0 final\n",
       "--------------------------  ----------------------------------------------"
      ]
     },
     "metadata": {},
     "output_type": "display_data"
    },
    {
     "name": "stdout",
     "output_type": "stream",
     "text": [
      "\n",
      "Sparkling Water Context:\n",
      " * H2O name: sparkling-water-megankurka_local-1547594971476\n",
      " * cluster size: 1\n",
      " * list of used nodes:\n",
      "  (executorId, host, port)\n",
      "  ------------------------\n",
      "  (driver,megans-mbp-1343.0xdata.loc,54321)\n",
      "  ------------------------\n",
      "\n",
      "  Open H2O Flow in browser: http://172.16.2.123:54321 (CMD + click in Mac OSX)\n",
      "\n",
      "    \n"
     ]
    }
   ],
   "source": [
    "#Initiate H2OContext on top of Spark\n",
    "from pysparkling import *\n",
    "import h2o\n",
    "hc = H2OContext.getOrCreate(spark)"
   ]
  },
  {
   "cell_type": "code",
   "execution_count": 2,
   "metadata": {
    "collapsed": false
   },
   "outputs": [
    {
     "name": "stdout",
     "output_type": "stream",
     "text": [
      "Parse progress: |█████████████████████████████████████████████████████████| 100%\n"
     ]
    }
   ],
   "source": [
    "# Import data\n",
    "demand_data = h2o.import_file(\"./Historical Product Demand.csv\")"
   ]
  },
  {
   "cell_type": "markdown",
   "metadata": {},
   "source": [
    "Our data consists of the total quantity order for a particular product and warehouse on a given date.  Our goal for this demo will be to forecast demand for next month."
   ]
  },
  {
   "cell_type": "code",
   "execution_count": 3,
   "metadata": {
    "collapsed": false
   },
   "outputs": [
    {
     "data": {
      "text/html": [
       "<table>\n",
       "<thead>\n",
       "<tr><th>Product_Code  </th><th>Warehouse  </th><th>Product_Category  </th><th>Date     </th><th style=\"text-align: right;\">  Order_Demand</th></tr>\n",
       "</thead>\n",
       "<tbody>\n",
       "<tr><td>Product_0993  </td><td>Whse_J     </td><td>Category_028      </td><td>2012/7/27</td><td style=\"text-align: right;\">           100</td></tr>\n",
       "<tr><td>Product_0979  </td><td>Whse_J     </td><td>Category_028      </td><td>2012/1/19</td><td style=\"text-align: right;\">           500</td></tr>\n",
       "<tr><td>Product_0979  </td><td>Whse_J     </td><td>Category_028      </td><td>2012/2/3 </td><td style=\"text-align: right;\">           500</td></tr>\n",
       "<tr><td>Product_0979  </td><td>Whse_J     </td><td>Category_028      </td><td>2012/2/9 </td><td style=\"text-align: right;\">           500</td></tr>\n",
       "<tr><td>Product_0979  </td><td>Whse_J     </td><td>Category_028      </td><td>2012/3/2 </td><td style=\"text-align: right;\">           500</td></tr>\n",
       "<tr><td>Product_0979  </td><td>Whse_J     </td><td>Category_028      </td><td>2012/4/19</td><td style=\"text-align: right;\">           500</td></tr>\n",
       "<tr><td>Product_0979  </td><td>Whse_J     </td><td>Category_028      </td><td>2012/6/5 </td><td style=\"text-align: right;\">           500</td></tr>\n",
       "<tr><td>Product_0979  </td><td>Whse_J     </td><td>Category_028      </td><td>2012/6/27</td><td style=\"text-align: right;\">           500</td></tr>\n",
       "<tr><td>Product_0979  </td><td>Whse_J     </td><td>Category_028      </td><td>2012/7/23</td><td style=\"text-align: right;\">           500</td></tr>\n",
       "<tr><td>Product_0979  </td><td>Whse_J     </td><td>Category_028      </td><td>2012/8/29</td><td style=\"text-align: right;\">           500</td></tr>\n",
       "</tbody>\n",
       "</table>"
      ]
     },
     "metadata": {},
     "output_type": "display_data"
    },
    {
     "data": {
      "text/plain": []
     },
     "execution_count": 3,
     "metadata": {},
     "output_type": "execute_result"
    }
   ],
   "source": [
    "demand_data.head()"
   ]
  },
  {
   "cell_type": "code",
   "execution_count": 4,
   "metadata": {
    "collapsed": false,
    "scrolled": true
   },
   "outputs": [
    {
     "name": "stdout",
     "output_type": "stream",
     "text": [
      "Rows:1048575\n",
      "Cols:5\n",
      "\n",
      "\n"
     ]
    },
    {
     "data": {
      "text/html": [
       "<table>\n",
       "<thead>\n",
       "<tr><th>       </th><th>Product_Code  </th><th>Warehouse  </th><th>Product_Category  </th><th>Date     </th><th>Order_Demand      </th></tr>\n",
       "</thead>\n",
       "<tbody>\n",
       "<tr><td>type   </td><td>enum          </td><td>enum       </td><td>enum              </td><td>enum     </td><td>int               </td></tr>\n",
       "<tr><td>mins   </td><td>              </td><td>           </td><td>                  </td><td>         </td><td>0.0               </td></tr>\n",
       "<tr><td>mean   </td><td>              </td><td>           </td><td>                  </td><td>         </td><td>4936.488008931645 </td></tr>\n",
       "<tr><td>maxs   </td><td>              </td><td>           </td><td>                  </td><td>         </td><td>4000000.0         </td></tr>\n",
       "<tr><td>sigma  </td><td>              </td><td>           </td><td>                  </td><td>         </td><td>29024.624091856833</td></tr>\n",
       "<tr><td>zeros  </td><td>              </td><td>           </td><td>                  </td><td>         </td><td>28681             </td></tr>\n",
       "<tr><td>missing</td><td>0             </td><td>0          </td><td>0                 </td><td>0        </td><td>10469             </td></tr>\n",
       "<tr><td>0      </td><td>Product_0993  </td><td>Whse_J     </td><td>Category_028      </td><td>2012/7/27</td><td>100.0             </td></tr>\n",
       "<tr><td>1      </td><td>Product_0979  </td><td>Whse_J     </td><td>Category_028      </td><td>2012/1/19</td><td>500.0             </td></tr>\n",
       "<tr><td>2      </td><td>Product_0979  </td><td>Whse_J     </td><td>Category_028      </td><td>2012/2/3 </td><td>500.0             </td></tr>\n",
       "<tr><td>3      </td><td>Product_0979  </td><td>Whse_J     </td><td>Category_028      </td><td>2012/2/9 </td><td>500.0             </td></tr>\n",
       "<tr><td>4      </td><td>Product_0979  </td><td>Whse_J     </td><td>Category_028      </td><td>2012/3/2 </td><td>500.0             </td></tr>\n",
       "<tr><td>5      </td><td>Product_0979  </td><td>Whse_J     </td><td>Category_028      </td><td>2012/4/19</td><td>500.0             </td></tr>\n",
       "<tr><td>6      </td><td>Product_0979  </td><td>Whse_J     </td><td>Category_028      </td><td>2012/6/5 </td><td>500.0             </td></tr>\n",
       "<tr><td>7      </td><td>Product_0979  </td><td>Whse_J     </td><td>Category_028      </td><td>2012/6/27</td><td>500.0             </td></tr>\n",
       "<tr><td>8      </td><td>Product_0979  </td><td>Whse_J     </td><td>Category_028      </td><td>2012/7/23</td><td>500.0             </td></tr>\n",
       "<tr><td>9      </td><td>Product_0979  </td><td>Whse_J     </td><td>Category_028      </td><td>2012/8/29</td><td>500.0             </td></tr>\n",
       "</tbody>\n",
       "</table>"
      ]
     },
     "metadata": {},
     "output_type": "display_data"
    }
   ],
   "source": [
    "demand_data.describe()"
   ]
  },
  {
   "cell_type": "markdown",
   "metadata": {},
   "source": [
    "We will remove any NA dates and convert our `Date` column to a time column."
   ]
  },
  {
   "cell_type": "code",
   "execution_count": 5,
   "metadata": {
    "collapsed": false
   },
   "outputs": [],
   "source": [
    "# Filter records with missing date\n",
    "demand_data = demand_data[demand_data[\"Date\"] != \"NA\"]"
   ]
  },
  {
   "cell_type": "code",
   "execution_count": 6,
   "metadata": {
    "collapsed": false
   },
   "outputs": [],
   "source": [
    "demand_data[\"Date\"] = demand_data[\"Date\"].as_date(\"%Y/%m/%d\")"
   ]
  },
  {
   "cell_type": "markdown",
   "metadata": {},
   "source": [
    "We can use H2O to get an understanding of our data.  We see that we have 6 years of data and most of the orders have demand between 0 and 1 million."
   ]
  },
  {
   "cell_type": "code",
   "execution_count": 7,
   "metadata": {
    "collapsed": false
   },
   "outputs": [
    {
     "name": "stdout",
     "output_type": "stream",
     "text": [
      "Time Range: 2011 to 2017\n"
     ]
    }
   ],
   "source": [
    "print(\"Time Range: \" + str(int(demand_data[\"Date\"].year().min())) + \" to \" + str(int(demand_data[\"Date\"].year().max())))"
   ]
  },
  {
   "cell_type": "code",
   "execution_count": 8,
   "metadata": {
    "collapsed": false
   },
   "outputs": [
    {
     "data": {
      "image/png": "[encoded data removed]",
      "text/plain": [
       "<matplotlib.figure.Figure at 0x10fb4d828>"
      ]
     },
     "metadata": {},
     "output_type": "display_data"
    }
   ],
   "source": [
    "demand_data[\"Order_Demand\"].hist()"
   ]
  },
  {
   "cell_type": "markdown",
   "metadata": {},
   "source": [
    "## Frame Data for Forecasting\n",
    "\n",
    "Our goal is to use this historical data to forecast the demand. The way in which we format the data for forecasting is completely dependent on what we want to do with this forecast.\n",
    "\n",
    "To format the data for forecasting, we need to aggregate our data for each group we are interested in and for a specific time period.\n",
    "\n",
    "Our use case is to: *forecast the total demand for a product and warehouse next month*\n",
    "\n",
    "For this use case, we need to aggregate our data by Product, Warehouse, and Date."
   ]
  },
  {
   "cell_type": "code",
   "execution_count": 9,
   "metadata": {
    "collapsed": true
   },
   "outputs": [],
   "source": [
    "demand_data[\"Month\"] = demand_data[\"Date\"].month()\n",
    "demand_data[\"Year\"] = demand_data[\"Date\"].year()"
   ]
  },
  {
   "cell_type": "code",
   "execution_count": 10,
   "metadata": {
    "collapsed": false
   },
   "outputs": [],
   "source": [
    "group_cols = [\"Product_Code\", \"Warehouse\", \"Product_Category\", \"Year\", \"Month\"]\n",
    "agg_demand_data = demand_data.group_by(group_cols).sum(\"Order_Demand\").min(\"Date\")\n",
    "agg_demand_data = agg_demand_data.get_frame()"
   ]
  },
  {
   "cell_type": "code",
   "execution_count": 11,
   "metadata": {
    "collapsed": false
   },
   "outputs": [
    {
     "data": {
      "text/html": [
       "<table>\n",
       "<thead>\n",
       "<tr><th>Product_Code  </th><th>Warehouse  </th><th>Product_Category  </th><th style=\"text-align: right;\">  Year</th><th style=\"text-align: right;\">  Month</th><th style=\"text-align: right;\">  sum_Order_Demand</th><th style=\"text-align: right;\">   min_Date</th></tr>\n",
       "</thead>\n",
       "<tbody>\n",
       "<tr><td>Product_0001  </td><td>Whse_A     </td><td>Category_005      </td><td style=\"text-align: right;\">  2012</td><td style=\"text-align: right;\">      1</td><td style=\"text-align: right;\">              6400</td><td style=\"text-align: right;\">1.32555e+12</td></tr>\n",
       "<tr><td>Product_0001  </td><td>Whse_A     </td><td>Category_005      </td><td style=\"text-align: right;\">  2012</td><td style=\"text-align: right;\">      2</td><td style=\"text-align: right;\">             10400</td><td style=\"text-align: right;\">1.32849e+12</td></tr>\n",
       "<tr><td>Product_0001  </td><td>Whse_A     </td><td>Category_005      </td><td style=\"text-align: right;\">  2012</td><td style=\"text-align: right;\">      3</td><td style=\"text-align: right;\">             11000</td><td style=\"text-align: right;\">1.33116e+12</td></tr>\n",
       "<tr><td>Product_0001  </td><td>Whse_A     </td><td>Category_005      </td><td style=\"text-align: right;\">  2012</td><td style=\"text-align: right;\">      4</td><td style=\"text-align: right;\">              1500</td><td style=\"text-align: right;\">1.33393e+12</td></tr>\n",
       "<tr><td>Product_0001  </td><td>Whse_A     </td><td>Category_005      </td><td style=\"text-align: right;\">  2012</td><td style=\"text-align: right;\">      5</td><td style=\"text-align: right;\">              8000</td><td style=\"text-align: right;\">1.33583e+12</td></tr>\n",
       "<tr><td>Product_0001  </td><td>Whse_A     </td><td>Category_005      </td><td style=\"text-align: right;\">  2012</td><td style=\"text-align: right;\">      6</td><td style=\"text-align: right;\">              2000</td><td style=\"text-align: right;\">1.33851e+12</td></tr>\n",
       "<tr><td>Product_0001  </td><td>Whse_A     </td><td>Category_005      </td><td style=\"text-align: right;\">  2012</td><td style=\"text-align: right;\">      7</td><td style=\"text-align: right;\">              8000</td><td style=\"text-align: right;\">1.34119e+12</td></tr>\n",
       "<tr><td>Product_0001  </td><td>Whse_A     </td><td>Category_005      </td><td style=\"text-align: right;\">  2012</td><td style=\"text-align: right;\">      8</td><td style=\"text-align: right;\">              6400</td><td style=\"text-align: right;\">1.34395e+12</td></tr>\n",
       "<tr><td>Product_0001  </td><td>Whse_A     </td><td>Category_005      </td><td style=\"text-align: right;\">  2012</td><td style=\"text-align: right;\">      9</td><td style=\"text-align: right;\">              5600</td><td style=\"text-align: right;\">1.34663e+12</td></tr>\n",
       "<tr><td>Product_0001  </td><td>Whse_A     </td><td>Category_005      </td><td style=\"text-align: right;\">  2012</td><td style=\"text-align: right;\">     10</td><td style=\"text-align: right;\">               nan</td><td style=\"text-align: right;\">1.34905e+12</td></tr>\n",
       "</tbody>\n",
       "</table>"
      ]
     },
     "metadata": {},
     "output_type": "display_data"
    },
    {
     "data": {
      "text/plain": []
     },
     "execution_count": 11,
     "metadata": {},
     "output_type": "execute_result"
    }
   ],
   "source": [
    "agg_demand_data.head()"
   ]
  },
  {
   "cell_type": "markdown",
   "metadata": {},
   "source": [
    "## Baseline Model Training\n",
    "\n",
    "We will start by traininig a random forest model using raw features.  This will be our baseline model. We will use it to see which variables are important to the model.  We can also use it to see if any features we add in the future improve our model."
   ]
  },
  {
   "cell_type": "code",
   "execution_count": 12,
   "metadata": {
    "collapsed": false
   },
   "outputs": [],
   "source": [
    "# Set Predictors and Response\n",
    "response = \"sum_Order_Demand\"\n",
    "predictors = list(set(agg_demand_data.col_names) - set([response]))"
   ]
  },
  {
   "cell_type": "code",
   "execution_count": 13,
   "metadata": {
    "collapsed": true
   },
   "outputs": [],
   "source": [
    "# Split data into training and testing by time\n",
    "\n",
    "# Testing data is data from the year 2016\n",
    "\n",
    "train = agg_demand_data[agg_demand_data[\"Year\"] < 2016]\n",
    "test = agg_demand_data[agg_demand_data[\"Year\"] >= 2016]"
   ]
  },
  {
   "cell_type": "code",
   "execution_count": 14,
   "metadata": {
    "collapsed": false
   },
   "outputs": [
    {
     "name": "stdout",
     "output_type": "stream",
     "text": [
      "drf Model Build progress: |███████████████████████████████████████████████| 100%\n"
     ]
    }
   ],
   "source": [
    "# Train Random Forest\n",
    "from h2o.estimators import H2ORandomForestEstimator\n",
    "\n",
    "drf_baseline = H2ORandomForestEstimator(model_id = \"drf_baseline.hex\",\n",
    "                                        seed = 1234 # Random Seed\n",
    "                                       )\n",
    "drf_baseline.train(x = predictors, y = response, training_frame = train, validation_frame = test)"
   ]
  },
  {
   "cell_type": "markdown",
   "metadata": {},
   "source": [
    "There are many ways we can evaluate our model.  Some of the most common metrics are Mean Absolute Error and Root Mean Squared Error.\n",
    "\n",
    "The mean absolute error tells us that on average we are off in our prediction by 22,834 units."
   ]
  },
  {
   "cell_type": "code",
   "execution_count": 15,
   "metadata": {
    "collapsed": false
   },
   "outputs": [
    {
     "name": "stdout",
     "output_type": "stream",
     "text": [
      "Mean Absolute Error on Test: 22,834\n",
      "Root Mean Squared Error on Test: 146,886\n"
     ]
    }
   ],
   "source": [
    "print(\"Mean Absolute Error on Test: \" + \"{:,.0f}\".format(drf_baseline.mae(valid = True)))\n",
    "print(\"Root Mean Squared Error on Test: \" + \"{:,.0f}\".format(drf_baseline.rmse(valid = True)))"
   ]
  },
  {
   "cell_type": "markdown",
   "metadata": {},
   "source": [
    "Both metrics are better when they are smaller, however, RMSE gives a high weight to large errors.  RMSE should be used when large errors are very bad.  If you do not care if you have the occasional large error if most of your predictions are pretty good, then you should use MAE.  For a more detailed comparison: https://medium.com/human-in-a-machine-world/mae-and-rmse-which-metric-is-better-e60ac3bde13d.\n",
    "\n",
    "It is hard to tell if these errors are good or bad.  If I am off by about 22.8k units on average is that pretty close? \n",
    "\n",
    "One way to understand how good the error is is by calculating the average percent error.  This is what percentage off are we from the actual demand. We define the following functions to calculate the percent error metrics."
   ]
  },
  {
   "cell_type": "code",
   "execution_count": 16,
   "metadata": {
    "collapsed": true
   },
   "outputs": [],
   "source": [
    "def MAPE(model, test, actualCol):\n",
    "    pred = model.predict(test)\n",
    "    percent_error = (test[actualCol] - pred)/test[actualCol]\n",
    "    \n",
    "    return percent_error.abs().mean()[0]\n",
    "\n",
    "def RMSPE(model, test, actualCol):\n",
    "    pred = model.predict(test)\n",
    "    percent_error = (test[actualCol] - pred)/test[actualCol]\n",
    "    \n",
    "    return (percent_error**2).mean()[0]**0.5"
   ]
  },
  {
   "cell_type": "markdown",
   "metadata": {},
   "source": [
    "The Mean Absolute Percent Error shows us that on average we are off by 4,166% so our model is doing very poorly."
   ]
  },
  {
   "cell_type": "code",
   "execution_count": 17,
   "metadata": {
    "collapsed": false
   },
   "outputs": [
    {
     "name": "stdout",
     "output_type": "stream",
     "text": [
      "drf prediction progress: |████████████████████████████████████████████████| 100%\n",
      "drf prediction progress: |████████████████████████████████████████████████| 100%\n",
      "Mean Absolute Percent Error: 4,166%\n",
      "Root Mean Squared Percent Error: 44,148%\n"
     ]
    }
   ],
   "source": [
    "mape = MAPE(drf_baseline, test, \"sum_Order_Demand\")\n",
    "rmspe = RMSPE(drf_baseline, test, \"sum_Order_Demand\")\n",
    "\n",
    "print(\"Mean Absolute Percent Error: \" + \"{:,.0f}%\".format(mape*100))\n",
    "print(\"Root Mean Squared Percent Error: \" + \"{:,.0f}%\".format(rmspe*100))"
   ]
  },
  {
   "cell_type": "markdown",
   "metadata": {},
   "source": [
    "The graph below shows the variable importance for the random forest model.  The most important predictors are `Product_Code`, `Warehouse`, and `Product_Category`.  We can use the partial dependence plots to see the relationship between these features and the model's prediction. (We will not show the partial plot for `Product_Code` because there are over 2,000 different products in the dataset)."
   ]
  },
  {
   "cell_type": "code",
   "execution_count": 18,
   "metadata": {
    "collapsed": false
   },
   "outputs": [
    {
     "data": {
      "image/png": "[encoded data removed]",
      "text/plain": [
       "<matplotlib.figure.Figure at 0x1107655c0>"
      ]
     },
     "metadata": {},
     "output_type": "display_data"
    }
   ],
   "source": [
    "drf_baseline.varimp_plot()"
   ]
  },
  {
   "cell_type": "code",
   "execution_count": 19,
   "metadata": {
    "collapsed": false
   },
   "outputs": [
    {
     "name": "stdout",
     "output_type": "stream",
     "text": [
      "PartialDependencePlot progress: |█████████████████████████████████████████| 100%\n"
     ]
    },
    {
     "data": {
      "image/png": "[encoded data removed]",
      "text/plain": [
       "<matplotlib.figure.Figure at 0x110894710>"
      ]
     },
     "metadata": {},
     "output_type": "display_data"
    }
   ],
   "source": [
    "# Partial Dependence Plots of `min_Date` and `Warehouse`\n",
    "\n",
    "%matplotlib inline\n",
    "\n",
    "pdps = drf_baseline.partial_plot(data = train, cols = [\"min_Date\", \"Warehouse\"])"
   ]
  },
  {
   "cell_type": "markdown",
   "metadata": {},
   "source": [
    "From the partial dependence plots we can see that the demand has been decreasing slightly overtime.  It also looks like `Whse_J` has the greatest demand.\n",
    "\n",
    "## Feature Engineering\n",
    "\n",
    "We will now add new features to our model to see if we can improve our accuracy.  We will want to add historical features.  What was the demand last month for this product?  What was the demand two months ago?  \n",
    "\n",
    "To create these features we will use PySpark's window function."
   ]
  },
  {
   "cell_type": "code",
   "execution_count": 20,
   "metadata": {
    "collapsed": false
   },
   "outputs": [],
   "source": [
    "## Convert H2O Frame to Spark DataFrame\n",
    "demand_df = hc.as_spark_frame(agg_demand_data)"
   ]
  },
  {
   "cell_type": "code",
   "execution_count": 21,
   "metadata": {
    "collapsed": false
   },
   "outputs": [],
   "source": [
    "## Add Demand the Previous Day, Previous 2 days, Previous 3 days, and Previous week per Product and Warehouse\n",
    "from pyspark.sql.functions import lag, col\n",
    "from pyspark.sql.window import Window\n",
    "\n",
    "w = Window().partitionBy(col(\"Product_Code\"), col(\"Product_Category\"), col(\"Warehouse\")).orderBy(col(\"min_Date\"))\n",
    "ext_demand_df = demand_df.select(\"*\", lag(\"sum_Order_Demand\", count = 1).over(w).alias(\"Demand_lag1\"),\n",
    "                                 lag(\"sum_Order_Demand\", count = 2).over(w).alias(\"Demand_lag2\"),\n",
    "                                 lag(\"sum_Order_Demand\", count = 3).over(w).alias(\"Demand_lag3\"),\n",
    "                                 lag(\"sum_Order_Demand\", count = 12).over(w).alias(\"Demand_lag12\")).na.drop()"
   ]
  },
  {
   "cell_type": "code",
   "execution_count": 22,
   "metadata": {
    "collapsed": false
   },
   "outputs": [],
   "source": [
    "## Convert Spark DataFrame to H2O Frame\n",
    "\n",
    "ext_demand_hf = hc.as_h2o_frame(ext_demand_df, \"demandWithLagsTable\")"
   ]
  },
  {
   "cell_type": "code",
   "execution_count": 23,
   "metadata": {
    "collapsed": false
   },
   "outputs": [
    {
     "name": "stdout",
     "output_type": "stream",
     "text": [
      "Rows:85559\n",
      "Cols:11\n",
      "\n",
      "\n"
     ]
    },
    {
     "data": {
      "text/html": [
       "<table>\n",
       "<thead>\n",
       "<tr><th>       </th><th>Product_Code  </th><th>Warehouse  </th><th>Product_Category  </th><th>Year              </th><th>Month             </th><th>sum_Order_Demand  </th><th>min_Date          </th><th>Demand_lag1       </th><th>Demand_lag2       </th><th>Demand_lag3       </th><th>Demand_lag12      </th></tr>\n",
       "</thead>\n",
       "<tbody>\n",
       "<tr><td>type   </td><td>enum          </td><td>enum       </td><td>enum              </td><td>int               </td><td>int               </td><td>int               </td><td>int               </td><td>int               </td><td>int               </td><td>int               </td><td>int               </td></tr>\n",
       "<tr><td>mins   </td><td>              </td><td>           </td><td>                  </td><td>2012.0            </td><td>1.0               </td><td>0.0               </td><td>1349136000000.0   </td><td>0.0               </td><td>0.0               </td><td>0.0               </td><td>0.0               </td></tr>\n",
       "<tr><td>mean   </td><td>              </td><td>           </td><td>                  </td><td>2014.5964539089985</td><td>6.6857256396171065</td><td>33429.78085297865 </td><td>1422852704384.1091</td><td>33444.95304994214 </td><td>33465.15409249758 </td><td>33341.43853948737 </td><td>33183.64728433011 </td></tr>\n",
       "<tr><td>maxs   </td><td>              </td><td>           </td><td>                  </td><td>2017.0            </td><td>12.0              </td><td>10127000.0        </td><td>1483920000000.0   </td><td>10450000.0        </td><td>10127000.0        </td><td>10450000.0        </td><td>10450000.0        </td></tr>\n",
       "<tr><td>sigma  </td><td>              </td><td>           </td><td>                  </td><td>1.0911162432159618</td><td>3.4509795874091944</td><td>205334.63827271256</td><td>35221774777.69445 </td><td>204868.32129561927</td><td>206479.01294396666</td><td>204784.09799135075</td><td>209207.85054750176</td></tr>\n",
       "<tr><td>zeros  </td><td>              </td><td>           </td><td>                  </td><td>0                 </td><td>0                 </td><td>48                </td><td>0                 </td><td>53                </td><td>54                </td><td>53                </td><td>56                </td></tr>\n",
       "<tr><td>missing</td><td>0             </td><td>0          </td><td>0                 </td><td>0                 </td><td>0                 </td><td>0                 </td><td>0                 </td><td>0                 </td><td>0                 </td><td>0                 </td><td>0                 </td></tr>\n",
       "<tr><td>0      </td><td>Product_0051  </td><td>Whse_J     </td><td>Category_005      </td><td>2013.0            </td><td>1.0               </td><td>2000.0            </td><td>1357776000000.0   </td><td>4000.0            </td><td>3525.0            </td><td>2000.0            </td><td>2000.0            </td></tr>\n",
       "<tr><td>1      </td><td>Product_0051  </td><td>Whse_J     </td><td>Category_005      </td><td>2013.0            </td><td>2.0               </td><td>3500.0            </td><td>1359676800000.0   </td><td>2000.0            </td><td>4000.0            </td><td>3525.0            </td><td>2525.0            </td></tr>\n",
       "<tr><td>2      </td><td>Product_0051  </td><td>Whse_J     </td><td>Category_005      </td><td>2013.0            </td><td>7.0               </td><td>3550.0            </td><td>1373587200000.0   </td><td>1025.0            </td><td>1050.0            </td><td>3050.0            </td><td>1500.0            </td></tr>\n",
       "<tr><td>3      </td><td>Product_0051  </td><td>Whse_J     </td><td>Category_005      </td><td>2013.0            </td><td>8.0               </td><td>3050.0            </td><td>1375660800000.0   </td><td>3550.0            </td><td>1025.0            </td><td>1050.0            </td><td>1000.0            </td></tr>\n",
       "<tr><td>4      </td><td>Product_0051  </td><td>Whse_J     </td><td>Category_005      </td><td>2013.0            </td><td>9.0               </td><td>2025.0            </td><td>1378684800000.0   </td><td>3050.0            </td><td>3550.0            </td><td>1025.0            </td><td>575.0             </td></tr>\n",
       "<tr><td>5      </td><td>Product_0051  </td><td>Whse_J     </td><td>Category_005      </td><td>2013.0            </td><td>10.0              </td><td>4175.0            </td><td>1380585600000.0   </td><td>2025.0            </td><td>3050.0            </td><td>3550.0            </td><td>2000.0            </td></tr>\n",
       "<tr><td>6      </td><td>Product_0051  </td><td>Whse_J     </td><td>Category_005      </td><td>2013.0            </td><td>11.0              </td><td>3125.0            </td><td>1383264000000.0   </td><td>4175.0            </td><td>2025.0            </td><td>3050.0            </td><td>3525.0            </td></tr>\n",
       "<tr><td>7      </td><td>Product_0051  </td><td>Whse_J     </td><td>Category_005      </td><td>2013.0            </td><td>12.0              </td><td>3500.0            </td><td>1386633600000.0   </td><td>3125.0            </td><td>4175.0            </td><td>2025.0            </td><td>4000.0            </td></tr>\n",
       "<tr><td>8      </td><td>Product_0051  </td><td>Whse_J     </td><td>Category_005      </td><td>2014.0            </td><td>1.0               </td><td>550.0             </td><td>1388966400000.0   </td><td>3500.0            </td><td>3125.0            </td><td>4175.0            </td><td>2000.0            </td></tr>\n",
       "<tr><td>9      </td><td>Product_0051  </td><td>Whse_J     </td><td>Category_005      </td><td>2014.0            </td><td>2.0               </td><td>4025.0            </td><td>1391385600000.0   </td><td>550.0             </td><td>3500.0            </td><td>3125.0            </td><td>3500.0            </td></tr>\n",
       "</tbody>\n",
       "</table>"
      ]
     },
     "metadata": {},
     "output_type": "display_data"
    }
   ],
   "source": [
    "## Convert strings to categoricals\n",
    "## This step always needs to be done when converting from Spark DataFrame to H2OFrame\n",
    "cat_cols = [\"Product_Code\", \"Warehouse\", \"Product_Category\"]\n",
    "for i in cat_cols:\n",
    "    ext_demand_hf[i] = ext_demand_hf[i].asfactor()\n",
    "ext_demand_hf.describe()"
   ]
  },
  {
   "cell_type": "markdown",
   "metadata": {},
   "source": [
    "## Model Training\n",
    "\n",
    "We will now train our random forest model with our added features to check if we see a performance lift."
   ]
  },
  {
   "cell_type": "code",
   "execution_count": 24,
   "metadata": {
    "collapsed": true
   },
   "outputs": [],
   "source": [
    "# Set Predictors\n",
    "ext_predictors = list(set(ext_demand_hf.col_names) - set([response]))"
   ]
  },
  {
   "cell_type": "code",
   "execution_count": 25,
   "metadata": {
    "collapsed": false
   },
   "outputs": [],
   "source": [
    "# Split data into training and testing by time\n",
    "\n",
    "# Testing data is data from the year 2016\n",
    "\n",
    "ext_train = ext_demand_hf[ext_demand_hf[\"Year\"] < 2016]\n",
    "ext_test = ext_demand_hf[ext_demand_hf[\"Year\"] >= 2016]"
   ]
  },
  {
   "cell_type": "code",
   "execution_count": 26,
   "metadata": {
    "collapsed": false
   },
   "outputs": [
    {
     "name": "stdout",
     "output_type": "stream",
     "text": [
      "drf Model Build progress: |███████████████████████████████████████████████| 100%\n"
     ]
    }
   ],
   "source": [
    "# Train Random Forest\n",
    "drf_features = H2ORandomForestEstimator(model_id = \"drf_features.hex\",\n",
    "                                        seed = 1234\n",
    "                                       )\n",
    "drf_features.train(x = ext_predictors, y = response, \n",
    "                   training_frame = ext_train, validation_frame = ext_test)"
   ]
  },
  {
   "cell_type": "code",
   "execution_count": 27,
   "metadata": {
    "collapsed": false
   },
   "outputs": [
    {
     "name": "stdout",
     "output_type": "stream",
     "text": [
      "drf prediction progress: |████████████████████████████████████████████████| 100%\n",
      "drf prediction progress: |████████████████████████████████████████████████| 100%\n",
      "Mean Absolute Percent Error\n",
      "Baseline: 4166%\n",
      "With New Features: 389%\n",
      "\n",
      "RMSE\n",
      "Baseline: 44148%\n",
      "With New Features: 2154%\n"
     ]
    }
   ],
   "source": [
    "feature_mape = MAPE(drf_features, ext_test, \"sum_Order_Demand\")\n",
    "feature_rmspe = RMSPE(drf_features, ext_test, \"sum_Order_Demand\")\n",
    "\n",
    "print(\"Mean Absolute Percent Error\")\n",
    "print(\"Baseline: \" + \"{0:.0f}%\".format(mape*100))\n",
    "print(\"With New Features: \" + \"{0:.0f}%\".format(feature_mape*100))\n",
    "\n",
    "print(\"\\nRMSE\")\n",
    "print(\"Baseline: \" + \"{0:.0f}%\".format(rmspe*100))\n",
    "print(\"With New Features: \" + \"{0:.0f}%\".format(feature_rmspe*100))"
   ]
  },
  {
   "cell_type": "markdown",
   "metadata": {},
   "source": [
    "We can see that the our new features have reduced the Mean Absolute Percent Error drastically from 4,000% to 390%.  We have also reduced the RMSE.\n",
    "\n",
    "The graph below shows the variable importance for the new random forest model.  The most important predictor is the demand from the month a year ago.  We can use the partial dependence plots to see the relationship between these features and the model's prediction."
   ]
  },
  {
   "cell_type": "code",
   "execution_count": null,
   "metadata": {
    "collapsed": false
   },
   "outputs": [
    {
     "data": {
      "image/png": "[encoded data removed]",
      "text/plain": [
       "<matplotlib.figure.Figure at 0x1110b09b0>"
      ]
     },
     "metadata": {},
     "output_type": "display_data"
    }
   ],
   "source": [
    "drf_features.varimp_plot()"
   ]
  },
  {
   "cell_type": "code",
   "execution_count": null,
   "metadata": {
    "collapsed": false
   },
   "outputs": [
    {
     "name": "stdout",
     "output_type": "stream",
     "text": [
      "PartialDependencePlot progress: |████████████████████████████████████"
     ]
    }
   ],
   "source": [
    "pdps = drf_features.partial_plot(data = ext_train, cols = [\"Demand_lag12\", \"Demand_lag3\"])"
   ]
  },
  {
   "cell_type": "markdown",
   "metadata": {},
   "source": [
    "The partial plots show that the previous demands is directly correlated with the demand for next month.\n",
    "\n",
    "\n",
    "## Residual Analysis\n",
    "\n",
    "We now examine our predictions on the test data and see where we had poor predictions."
   ]
  },
  {
   "cell_type": "code",
   "execution_count": null,
   "metadata": {
    "collapsed": false
   },
   "outputs": [],
   "source": [
    "# Predict on Test\n",
    "test_predictions = drf_features.predict(ext_test)\n",
    "# Add to Test Data\n",
    "test_predictions = ext_test.cbind(test_predictions)"
   ]
  },
  {
   "cell_type": "code",
   "execution_count": null,
   "metadata": {
    "collapsed": false
   },
   "outputs": [],
   "source": [
    "# Calculate Error\n",
    "test_predictions = test_predictions[test_predictions[\"sum_Order_Demand\"] != 0]\n",
    "test_predictions[\"Error\"] = test_predictions[\"sum_Order_Demand\"] - test_predictions[\"predict\"]\n",
    "test_predictions[\"AbsolutePercentError\"] = (100*(test_predictions[\"Error\"]/test_predictions[\"sum_Order_Demand\"])).abs()\n",
    "\n",
    "test_predictions[[\"Product_Code\", \"Warehouse\", \"Year\", \"Month\", \"sum_Order_Demand\", \"predict\", \"Error\", \"AbsolutePercentError\"]].head()"
   ]
  },
  {
   "cell_type": "code",
   "execution_count": null,
   "metadata": {
    "collapsed": true
   },
   "outputs": [],
   "source": [
    "# Let's plot the residuals vs the actual\n",
    "\n",
    "residual_pd = test_predictions[[\"sum_Order_Demand\", \"Error\"]].as_data_frame()"
   ]
  },
  {
   "cell_type": "code",
   "execution_count": null,
   "metadata": {
    "collapsed": false
   },
   "outputs": [],
   "source": [
    "import matplotlib.pyplot as plt\n",
    "# Plot Residuals vs Actual\n",
    "plt.scatter(x = residual_pd[\"sum_Order_Demand\"], y = residual_pd[\"Error\"].abs())\n",
    "plt.xlabel(\"sum_Order_Demand\")\n",
    "plt.ylabel(\"Absolute Error\")\n",
    "plt.show()"
   ]
  },
  {
   "cell_type": "markdown",
   "metadata": {},
   "source": [
    "We see that we tend to have higher error when the Order Demand is very high. "
   ]
  },
  {
   "cell_type": "code",
   "execution_count": null,
   "metadata": {
    "collapsed": true
   },
   "outputs": [],
   "source": []
  }
 ],
 "metadata": {
  "kernelspec": {
   "display_name": "Python 3",
   "language": "python",
   "name": "python3"
  },
  "language_info": {
   "codemirror_mode": {
    "name": "ipython",
    "version": 3
   },
   "file_extension": ".py",
   "mimetype": "text/x-python",
   "name": "python",
   "nbconvert_exporter": "python",
   "pygments_lexer": "ipython3",
   "version": "3.6.0"
  }
 },
 "nbformat": 4,
 "nbformat_minor": 2
}
